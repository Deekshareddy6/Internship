{
 "cells": [
  {
   "cell_type": "code",
   "execution_count": 1,
   "id": "8862b8d0",
   "metadata": {},
   "outputs": [
    {
     "name": "stdout",
     "output_type": "stream",
     "text": [
      "Requirement already satisfied: selenium in c:\\users\\deeks\\anaconda3\\lib\\site-packages (4.1.5)\n",
      "Requirement already satisfied: trio-websocket~=0.9 in c:\\users\\deeks\\anaconda3\\lib\\site-packages (from selenium) (0.9.2)\n",
      "Requirement already satisfied: urllib3[secure,socks]~=1.26 in c:\\users\\deeks\\anaconda3\\lib\\site-packages (from selenium) (1.26.7)\n",
      "Requirement already satisfied: trio~=0.17 in c:\\users\\deeks\\anaconda3\\lib\\site-packages (from selenium) (0.20.0)\n",
      "Requirement already satisfied: async-generator>=1.9 in c:\\users\\deeks\\anaconda3\\lib\\site-packages (from trio~=0.17->selenium) (1.10)\n",
      "Requirement already satisfied: idna in c:\\users\\deeks\\anaconda3\\lib\\site-packages (from trio~=0.17->selenium) (3.2)\n",
      "Requirement already satisfied: sniffio in c:\\users\\deeks\\anaconda3\\lib\\site-packages (from trio~=0.17->selenium) (1.2.0)\n",
      "Requirement already satisfied: attrs>=19.2.0 in c:\\users\\deeks\\anaconda3\\lib\\site-packages (from trio~=0.17->selenium) (21.2.0)\n",
      "Requirement already satisfied: cffi>=1.14 in c:\\users\\deeks\\anaconda3\\lib\\site-packages (from trio~=0.17->selenium) (1.14.6)\n",
      "Requirement already satisfied: outcome in c:\\users\\deeks\\anaconda3\\lib\\site-packages (from trio~=0.17->selenium) (1.1.0)\n",
      "Requirement already satisfied: sortedcontainers in c:\\users\\deeks\\anaconda3\\lib\\site-packages (from trio~=0.17->selenium) (2.4.0)\n",
      "Requirement already satisfied: pycparser in c:\\users\\deeks\\anaconda3\\lib\\site-packages (from cffi>=1.14->trio~=0.17->selenium) (2.20)\n",
      "Requirement already satisfied: wsproto>=0.14 in c:\\users\\deeks\\anaconda3\\lib\\site-packages (from trio-websocket~=0.9->selenium) (1.1.0)\n",
      "Requirement already satisfied: pyOpenSSL>=0.14 in c:\\users\\deeks\\anaconda3\\lib\\site-packages (from urllib3[secure,socks]~=1.26->selenium) (21.0.0)\n",
      "Requirement already satisfied: cryptography>=1.3.4 in c:\\users\\deeks\\anaconda3\\lib\\site-packages (from urllib3[secure,socks]~=1.26->selenium) (3.4.8)\n",
      "Requirement already satisfied: certifi in c:\\users\\deeks\\anaconda3\\lib\\site-packages (from urllib3[secure,socks]~=1.26->selenium) (2021.10.8)\n",
      "Requirement already satisfied: PySocks!=1.5.7,<2.0,>=1.5.6 in c:\\users\\deeks\\anaconda3\\lib\\site-packages (from urllib3[secure,socks]~=1.26->selenium) (1.7.1)\n",
      "Requirement already satisfied: six>=1.5.2 in c:\\users\\deeks\\anaconda3\\lib\\site-packages (from pyOpenSSL>=0.14->urllib3[secure,socks]~=1.26->selenium) (1.16.0)\n",
      "Requirement already satisfied: h11<1,>=0.9.0 in c:\\users\\deeks\\anaconda3\\lib\\site-packages (from wsproto>=0.14->trio-websocket~=0.9->selenium) (0.13.0)\n"
     ]
    }
   ],
   "source": [
    "# Let's first install the selenium library\n",
    "! pip install selenium"
   ]
  },
  {
   "cell_type": "code",
   "execution_count": null,
   "id": "461e2d84",
   "metadata": {},
   "outputs": [],
   "source": [
    "Now we will download the webdriver for the web browser. The steps for downloading the web driver for your browser are : \n",
    "    1) Check the version of your browser. \n",
    "    2) Go to the link chromedriver.chromium.org/downloads\n",
    "    3) Download the web driver for your version of browser. \n",
    "    \n",
    "    These steps are for chrome browser. The download link will be different for Mozilla etc. "
   ]
  },
  {
   "cell_type": "code",
   "execution_count": 2,
   "id": "6979da20",
   "metadata": {},
   "outputs": [],
   "source": [
    "# Let us now import all the required libraries.\n",
    "import selenium                              #library that is used to work with selenium.\n",
    "import pandas as pd                          #to create dataframe.\n",
    "from selenium import webdriver               #importing webdriver module from selenium to open up automated chrome windows.\n",
    "import warnings                              #to ignore any sort of warning.\n",
    "warnings.filterwarnings(\"ignore\")\n",
    "import time                                  #use to stop search engine for few seconds."
   ]
  },
  {
   "cell_type": "code",
   "execution_count": 4,
   "id": "8c53b289",
   "metadata": {},
   "outputs": [],
   "source": [
    "#Let us first connect to the web driver\n",
    "driver=webdriver.Chrome(\"chromedriver.exe\")\n",
    "time.sleep(2)"
   ]
  },
  {
   "cell_type": "code",
   "execution_count": null,
   "id": "d6f6fdbb",
   "metadata": {},
   "outputs": [],
   "source": [
    "#to close automated chrome windows\n",
    "driver.close()"
   ]
  },
  {
   "cell_type": "markdown",
   "id": "30e3874a",
   "metadata": {},
   "source": [
    "# Q1: Write a python program to scrape data for “Data Analyst” Job position in “Bangalore” location. You have to scrape the job-title, job-location, company_name, experience_required. You have to scrape first 10 jobs data."
   ]
  },
  {
   "cell_type": "code",
   "execution_count": 5,
   "id": "c27a1019",
   "metadata": {},
   "outputs": [],
   "source": [
    "#opening up naukri.com website on automated chrome window\n",
    "driver.get(\"https://www.naukri.com/\")"
   ]
  },
  {
   "cell_type": "code",
   "execution_count": 6,
   "id": "630cdfda",
   "metadata": {},
   "outputs": [],
   "source": [
    "#finding element for job search bar\n",
    "search_field_designation=driver.find_element_by_class_name(\"suggestor-input\") #job search bar\n",
    "search_field_designation.send_keys(\"Data Scientist\")"
   ]
  },
  {
   "cell_type": "code",
   "execution_count": 7,
   "id": "5712f9b2",
   "metadata": {},
   "outputs": [],
   "source": [
    "#entering location Bangalore in location search bar\n",
    "search_field_location=driver.find_element_by_xpath(\"/html/body/div/div[2]/div[3]/div/div/div[3]/div/div/div/input\") #location saerch bar\n",
    "search_field_location.send_keys(\"Bangalore\")"
   ]
  },
  {
   "cell_type": "code",
   "execution_count": 8,
   "id": "35bb43b0",
   "metadata": {},
   "outputs": [],
   "source": [
    "#Clicking on search button\n",
    "search_button=driver.find_element_by_xpath(\"/html/body/div/div[2]/div[3]/div/div/div[6]\")\n",
    "search_button.click()"
   ]
  },
  {
   "cell_type": "markdown",
   "id": "502a4d77",
   "metadata": {},
   "source": [
    "Now let us first create 4 empty lists. In these lists the data will be stored while scraping. We have created 4 empty lists for 4 features which we have to extract.\n",
    "1)job_titles.\n",
    "2)job_location\n",
    "3)company_name.\n",
    "4)experience_required."
   ]
  },
  {
   "cell_type": "code",
   "execution_count": 18,
   "id": "d447f4d6",
   "metadata": {},
   "outputs": [],
   "source": [
    "job_titles=[]\n",
    "job_location=[]\n",
    "company_names=[]\n",
    "experience_required=[]"
   ]
  },
  {
   "cell_type": "markdown",
   "id": "c22074b3",
   "metadata": {},
   "source": [
    "First, we will extract all the tags where we have the job titles."
   ]
  },
  {
   "cell_type": "code",
   "execution_count": 19,
   "id": "5ebab965",
   "metadata": {},
   "outputs": [
    {
     "data": {
      "text/plain": [
       "[<selenium.webdriver.remote.webelement.WebElement (session=\"f0151aeb11dc338f84f6827883f60594\", element=\"90d0997d-7e18-4de7-a3e1-01564f2cd236\")>,\n",
       " <selenium.webdriver.remote.webelement.WebElement (session=\"f0151aeb11dc338f84f6827883f60594\", element=\"6b939178-aead-41f8-8950-3b5d911ce20c\")>,\n",
       " <selenium.webdriver.remote.webelement.WebElement (session=\"f0151aeb11dc338f84f6827883f60594\", element=\"735b5812-fa6a-4169-a172-e101af14877c\")>,\n",
       " <selenium.webdriver.remote.webelement.WebElement (session=\"f0151aeb11dc338f84f6827883f60594\", element=\"70ba8ce8-9276-4ea5-90a7-43540e036623\")>,\n",
       " <selenium.webdriver.remote.webelement.WebElement (session=\"f0151aeb11dc338f84f6827883f60594\", element=\"f440b64b-0f41-477c-bbed-a79b040b5b30\")>,\n",
       " <selenium.webdriver.remote.webelement.WebElement (session=\"f0151aeb11dc338f84f6827883f60594\", element=\"11e307a3-8d54-49dd-b76b-3302a3e8cbd7\")>,\n",
       " <selenium.webdriver.remote.webelement.WebElement (session=\"f0151aeb11dc338f84f6827883f60594\", element=\"9d047b3a-fb2f-438f-a117-f3bfdf4b925e\")>,\n",
       " <selenium.webdriver.remote.webelement.WebElement (session=\"f0151aeb11dc338f84f6827883f60594\", element=\"8516b728-9ff0-4e93-843c-f70e9b648036\")>,\n",
       " <selenium.webdriver.remote.webelement.WebElement (session=\"f0151aeb11dc338f84f6827883f60594\", element=\"e8d478ff-4ce8-49e4-8edc-d35d265e084e\")>,\n",
       " <selenium.webdriver.remote.webelement.WebElement (session=\"f0151aeb11dc338f84f6827883f60594\", element=\"83049ef9-649f-46d8-88d3-5be57ac468e5\")>]"
      ]
     },
     "execution_count": 19,
     "metadata": {},
     "output_type": "execute_result"
    }
   ],
   "source": [
    "#let us extract all the tags having the job_titles\n",
    "titles_tags=driver.find_elements_by_xpath(\"//a[@class='title fw500 ellipsis']\") # locating web element of title.\n",
    "titles_tags[0:10]  #using range to print only top 10 results."
   ]
  },
  {
   "cell_type": "markdown",
   "id": "8a26fd53",
   "metadata": {},
   "source": [
    "Now we have all the tags in which there are the job titles.\n",
    "Now we will extract the text from these tags one by one by looping over these tags."
   ]
  },
  {
   "cell_type": "code",
   "execution_count": 20,
   "id": "cce54e96",
   "metadata": {},
   "outputs": [
    {
     "data": {
      "text/plain": [
       "['Senior Data Scientist',\n",
       " 'Sr. Analyst - Applied Data Scientist',\n",
       " 'Applied Data Scientist / ML Senior Engineer (Python / SQL)',\n",
       " 'Data Scientist',\n",
       " 'Expert Data Scientist',\n",
       " 'Principal Data Scientist',\n",
       " 'Analyst - Applied Data Scientist',\n",
       " 'Research Data Scientist',\n",
       " 'Senior Data Scientist Grade12',\n",
       " 'Senior Data Scientist Grade12']"
      ]
     },
     "execution_count": 20,
     "metadata": {},
     "output_type": "execute_result"
    }
   ],
   "source": [
    "#Now the text of the job title is inside the tags extracted above.\n",
    "#So we will run a loop to iterate over the tags extracted above and extract the text inside them.\n",
    "\n",
    "for i in titles_tags:           #iterating over webelement of title.\n",
    "    title=i.text                #extracting text from each web element.\n",
    "    job_titles.append(title)    #appending each extracted text into empty list.\n",
    "job_titles[0:10]                #printing top 10 data"
   ]
  },
  {
   "cell_type": "markdown",
   "id": "f1db11ec",
   "metadata": {},
   "source": [
    "Now we will extract all the html tags where we have the location of the job data."
   ]
  },
  {
   "cell_type": "code",
   "execution_count": 33,
   "id": "9b615155",
   "metadata": {},
   "outputs": [
    {
     "data": {
      "text/plain": [
       "[<selenium.webdriver.remote.webelement.WebElement (session=\"f0151aeb11dc338f84f6827883f60594\", element=\"b7ed5390-9699-4655-b048-091f88b0d456\")>,\n",
       " <selenium.webdriver.remote.webelement.WebElement (session=\"f0151aeb11dc338f84f6827883f60594\", element=\"5abef757-af7b-4019-876c-bc186d794960\")>,\n",
       " <selenium.webdriver.remote.webelement.WebElement (session=\"f0151aeb11dc338f84f6827883f60594\", element=\"f002aedd-f1e9-417f-b7f2-ba3d65dccf01\")>,\n",
       " <selenium.webdriver.remote.webelement.WebElement (session=\"f0151aeb11dc338f84f6827883f60594\", element=\"fa3a7d2e-983e-42dd-a7ec-103b60174332\")>,\n",
       " <selenium.webdriver.remote.webelement.WebElement (session=\"f0151aeb11dc338f84f6827883f60594\", element=\"c5cb57d3-da32-4569-989a-d73fae52ceaf\")>,\n",
       " <selenium.webdriver.remote.webelement.WebElement (session=\"f0151aeb11dc338f84f6827883f60594\", element=\"cee13055-00f4-4a6e-866b-2731cefefdb5\")>,\n",
       " <selenium.webdriver.remote.webelement.WebElement (session=\"f0151aeb11dc338f84f6827883f60594\", element=\"1726ae1e-023f-4af7-9671-2719499d496c\")>,\n",
       " <selenium.webdriver.remote.webelement.WebElement (session=\"f0151aeb11dc338f84f6827883f60594\", element=\"9c396de9-5985-45e7-a1a4-05cfcb71dec1\")>,\n",
       " <selenium.webdriver.remote.webelement.WebElement (session=\"f0151aeb11dc338f84f6827883f60594\", element=\"3da97482-f712-41bd-a999-a456e5103aa6\")>,\n",
       " <selenium.webdriver.remote.webelement.WebElement (session=\"f0151aeb11dc338f84f6827883f60594\", element=\"a91bcad7-2ae0-44dc-8fa4-3bff355a7243\")>]"
      ]
     },
     "execution_count": 33,
     "metadata": {},
     "output_type": "execute_result"
    }
   ],
   "source": [
    "location_tags=driver.find_elements_by_xpath(\"//li[@class='fleft grey-text br2 placeHolderLi location']\")\n",
    "location_tags[0:10]"
   ]
  },
  {
   "cell_type": "code",
   "execution_count": 34,
   "id": "7155fcbc",
   "metadata": {},
   "outputs": [
    {
     "data": {
      "text/plain": [
       "['Bangalore/Bengaluru, Mumbai (All Areas)',\n",
       " 'Bangalore/Bengaluru',\n",
       " 'Bangalore/Bengaluru',\n",
       " 'Bangalore/Bengaluru, Mumbai (All Areas)',\n",
       " 'Bangalore/Bengaluru, Mumbai (All Areas)',\n",
       " 'Bangalore/Bengaluru, Mumbai (All Areas)',\n",
       " 'Bangalore/Bengaluru',\n",
       " 'Bangalore/Bengaluru',\n",
       " 'Bangalore/Bengaluru',\n",
       " 'Bangalore/Bengaluru']"
      ]
     },
     "execution_count": 34,
     "metadata": {},
     "output_type": "execute_result"
    }
   ],
   "source": [
    "for i in location_tags :\n",
    "    location=i.text\n",
    "    job_location.append(location)\n",
    "job_location[0:10]"
   ]
  },
  {
   "cell_type": "markdown",
   "id": "146399f6",
   "metadata": {},
   "source": [
    "#Now we will extract all the html tags where we have the company names. "
   ]
  },
  {
   "cell_type": "code",
   "execution_count": 35,
   "id": "08f60ca5",
   "metadata": {},
   "outputs": [
    {
     "data": {
      "text/plain": [
       "[<selenium.webdriver.remote.webelement.WebElement (session=\"f0151aeb11dc338f84f6827883f60594\", element=\"0a2eaa09-63e3-457f-951c-651951589bad\")>,\n",
       " <selenium.webdriver.remote.webelement.WebElement (session=\"f0151aeb11dc338f84f6827883f60594\", element=\"89a0c174-f520-4e1b-8566-7c31a3143c93\")>,\n",
       " <selenium.webdriver.remote.webelement.WebElement (session=\"f0151aeb11dc338f84f6827883f60594\", element=\"e2ef6afe-a55a-42d5-b52a-15de617983c9\")>,\n",
       " <selenium.webdriver.remote.webelement.WebElement (session=\"f0151aeb11dc338f84f6827883f60594\", element=\"5ecdba43-cf60-4839-9d3d-f97295c602da\")>,\n",
       " <selenium.webdriver.remote.webelement.WebElement (session=\"f0151aeb11dc338f84f6827883f60594\", element=\"21cb14a6-4675-4c0f-a812-0b917db0d19b\")>,\n",
       " <selenium.webdriver.remote.webelement.WebElement (session=\"f0151aeb11dc338f84f6827883f60594\", element=\"2bc3b3f7-4ab0-4182-9039-2603ac5774ad\")>,\n",
       " <selenium.webdriver.remote.webelement.WebElement (session=\"f0151aeb11dc338f84f6827883f60594\", element=\"dbe599d9-7776-4367-98cc-d00a05ace424\")>,\n",
       " <selenium.webdriver.remote.webelement.WebElement (session=\"f0151aeb11dc338f84f6827883f60594\", element=\"265ed63a-1786-4847-b252-f74e6cd306d5\")>,\n",
       " <selenium.webdriver.remote.webelement.WebElement (session=\"f0151aeb11dc338f84f6827883f60594\", element=\"bf7e8138-cba1-40fd-ae44-9d0752c76b4b\")>,\n",
       " <selenium.webdriver.remote.webelement.WebElement (session=\"f0151aeb11dc338f84f6827883f60594\", element=\"3a6bd055-86a6-485b-8db5-9afbde3d3443\")>]"
      ]
     },
     "execution_count": 35,
     "metadata": {},
     "output_type": "execute_result"
    }
   ],
   "source": [
    "#let us extract all the tags having the company names\n",
    "companies_tags=driver.find_elements_by_xpath(\"//a[@class='subTitle ellipsis fleft']\")  #locating web element of company name\n",
    "companies_tags[0:10]"
   ]
  },
  {
   "cell_type": "markdown",
   "id": "22331124",
   "metadata": {},
   "source": [
    "#Now we have all the tags in which there are the company names.\n",
    "#Now we will extract the text from these tags one by one by loopingover these tags."
   ]
  },
  {
   "cell_type": "code",
   "execution_count": 36,
   "id": "678ca796",
   "metadata": {},
   "outputs": [
    {
     "data": {
      "text/plain": [
       "['UPL',\n",
       " 'Tesco',\n",
       " 'SAP India Pvt.Ltd',\n",
       " 'UPL',\n",
       " 'UPL',\n",
       " 'UPL',\n",
       " 'Tesco',\n",
       " 'Mavenir',\n",
       " 'Flipkart',\n",
       " 'Flipkart']"
      ]
     },
     "execution_count": 36,
     "metadata": {},
     "output_type": "execute_result"
    }
   ],
   "source": [
    "for i in companies_tags:\n",
    "    company_name=i.text\n",
    "    company_names.append(company_name)\n",
    "company_names[0:10]"
   ]
  },
  {
   "cell_type": "markdown",
   "id": "4da56609",
   "metadata": {},
   "source": [
    "Now we will extract all the html tags where we have the experience required data. "
   ]
  },
  {
   "cell_type": "code",
   "execution_count": 37,
   "id": "45f39bfe",
   "metadata": {},
   "outputs": [
    {
     "data": {
      "text/plain": [
       "[<selenium.webdriver.remote.webelement.WebElement (session=\"f0151aeb11dc338f84f6827883f60594\", element=\"9f430071-c3b1-43ed-b70c-8b266859f293\")>,\n",
       " <selenium.webdriver.remote.webelement.WebElement (session=\"f0151aeb11dc338f84f6827883f60594\", element=\"f3e171b0-fb1a-4612-9822-4c8933140d91\")>,\n",
       " <selenium.webdriver.remote.webelement.WebElement (session=\"f0151aeb11dc338f84f6827883f60594\", element=\"a0593657-a951-41b3-87aa-6052e287c430\")>,\n",
       " <selenium.webdriver.remote.webelement.WebElement (session=\"f0151aeb11dc338f84f6827883f60594\", element=\"cf1900dc-d215-4d0f-ab48-d6d5ad6b489b\")>,\n",
       " <selenium.webdriver.remote.webelement.WebElement (session=\"f0151aeb11dc338f84f6827883f60594\", element=\"ab193ff6-c7c0-46fb-8e62-dd8e221aaf14\")>,\n",
       " <selenium.webdriver.remote.webelement.WebElement (session=\"f0151aeb11dc338f84f6827883f60594\", element=\"5bdfffce-9d4d-4627-8b88-26b2cc0c7597\")>,\n",
       " <selenium.webdriver.remote.webelement.WebElement (session=\"f0151aeb11dc338f84f6827883f60594\", element=\"c91044ec-8a69-4567-9e31-026c6c126b5d\")>,\n",
       " <selenium.webdriver.remote.webelement.WebElement (session=\"f0151aeb11dc338f84f6827883f60594\", element=\"b4735bc7-7642-4108-8960-5608da649dce\")>,\n",
       " <selenium.webdriver.remote.webelement.WebElement (session=\"f0151aeb11dc338f84f6827883f60594\", element=\"ee2b2766-be47-4882-a4eb-0439db196fa5\")>,\n",
       " <selenium.webdriver.remote.webelement.WebElement (session=\"f0151aeb11dc338f84f6827883f60594\", element=\"3d3e550b-a77b-40c4-ba3f-2537de587a11\")>]"
      ]
     },
     "execution_count": 37,
     "metadata": {},
     "output_type": "execute_result"
    }
   ],
   "source": [
    "#So let us extract all the tags having the experience required data\n",
    "experience_tags=driver.find_elements_by_xpath(\"//li[@class='fleft grey-text br2 placeHolderLi experience']/span\")\n",
    "experience_tags[0:10]"
   ]
  },
  {
   "cell_type": "code",
   "execution_count": 38,
   "id": "74fb3f0f",
   "metadata": {},
   "outputs": [
    {
     "data": {
      "text/plain": [
       "['3-6 Yrs',\n",
       " '3-5 Yrs',\n",
       " '5-10 Yrs',\n",
       " '1-4 Yrs',\n",
       " '6-9 Yrs',\n",
       " '12-16 Yrs',\n",
       " '1-2 Yrs',\n",
       " '4-9 Yrs',\n",
       " '5-10 Yrs',\n",
       " '5-7 Yrs']"
      ]
     },
     "execution_count": 38,
     "metadata": {},
     "output_type": "execute_result"
    }
   ],
   "source": [
    "for i in experience_tags :\n",
    "    experience=i.text\n",
    "    experience_required.append(experience)\n",
    "experience_required[0:10]"
   ]
  },
  {
   "cell_type": "markdown",
   "id": "ee4c5b6b",
   "metadata": {},
   "source": [
    "So, now we have extracted the data required from the webpage and stored them in the 4 lists mentioned above. Now before creating a dataframe from these lists, let us first check the length of each of the list. Because if the length of all of the lists are not equal, then a dataframe cannot be formed."
   ]
  },
  {
   "cell_type": "code",
   "execution_count": 39,
   "id": "58d128fa",
   "metadata": {},
   "outputs": [
    {
     "name": "stdout",
     "output_type": "stream",
     "text": [
      "20 41 60 40\n"
     ]
    }
   ],
   "source": [
    "#printing length of the each list or number of elements present inside each list.\n",
    "\n",
    "print(len(job_titles),len(job_location),len(company_names),len(experience_required))"
   ]
  },
  {
   "cell_type": "code",
   "execution_count": 42,
   "id": "088a8cb7",
   "metadata": {},
   "outputs": [],
   "source": [
    "#import pandas as pd\n",
    "jobs=pd.DataFrame({})\n",
    "jobs['title']=job_titles[0:10]\n",
    "jobs['location']=job_location[0:10]\n",
    "jobs['company']=company_names[0:10]\n",
    "jobs['experience_required']=experience_required[0:10]"
   ]
  },
  {
   "cell_type": "code",
   "execution_count": 43,
   "id": "cba1639b",
   "metadata": {},
   "outputs": [
    {
     "data": {
      "text/html": [
       "<div>\n",
       "<style scoped>\n",
       "    .dataframe tbody tr th:only-of-type {\n",
       "        vertical-align: middle;\n",
       "    }\n",
       "\n",
       "    .dataframe tbody tr th {\n",
       "        vertical-align: top;\n",
       "    }\n",
       "\n",
       "    .dataframe thead th {\n",
       "        text-align: right;\n",
       "    }\n",
       "</style>\n",
       "<table border=\"1\" class=\"dataframe\">\n",
       "  <thead>\n",
       "    <tr style=\"text-align: right;\">\n",
       "      <th></th>\n",
       "      <th>title</th>\n",
       "      <th>location</th>\n",
       "      <th>company</th>\n",
       "      <th>experience_required</th>\n",
       "    </tr>\n",
       "  </thead>\n",
       "  <tbody>\n",
       "    <tr>\n",
       "      <th>0</th>\n",
       "      <td>Senior Data Scientist</td>\n",
       "      <td>Bangalore/Bengaluru, Mumbai (All Areas)</td>\n",
       "      <td>UPL</td>\n",
       "      <td>3-6 Yrs</td>\n",
       "    </tr>\n",
       "    <tr>\n",
       "      <th>1</th>\n",
       "      <td>Sr. Analyst - Applied Data Scientist</td>\n",
       "      <td>Bangalore/Bengaluru</td>\n",
       "      <td>Tesco</td>\n",
       "      <td>3-5 Yrs</td>\n",
       "    </tr>\n",
       "    <tr>\n",
       "      <th>2</th>\n",
       "      <td>Applied Data Scientist / ML Senior Engineer (P...</td>\n",
       "      <td>Bangalore/Bengaluru</td>\n",
       "      <td>SAP India Pvt.Ltd</td>\n",
       "      <td>5-10 Yrs</td>\n",
       "    </tr>\n",
       "    <tr>\n",
       "      <th>3</th>\n",
       "      <td>Data Scientist</td>\n",
       "      <td>Bangalore/Bengaluru, Mumbai (All Areas)</td>\n",
       "      <td>UPL</td>\n",
       "      <td>1-4 Yrs</td>\n",
       "    </tr>\n",
       "    <tr>\n",
       "      <th>4</th>\n",
       "      <td>Expert Data Scientist</td>\n",
       "      <td>Bangalore/Bengaluru, Mumbai (All Areas)</td>\n",
       "      <td>UPL</td>\n",
       "      <td>6-9 Yrs</td>\n",
       "    </tr>\n",
       "    <tr>\n",
       "      <th>5</th>\n",
       "      <td>Principal Data Scientist</td>\n",
       "      <td>Bangalore/Bengaluru, Mumbai (All Areas)</td>\n",
       "      <td>UPL</td>\n",
       "      <td>12-16 Yrs</td>\n",
       "    </tr>\n",
       "    <tr>\n",
       "      <th>6</th>\n",
       "      <td>Analyst - Applied Data Scientist</td>\n",
       "      <td>Bangalore/Bengaluru</td>\n",
       "      <td>Tesco</td>\n",
       "      <td>1-2 Yrs</td>\n",
       "    </tr>\n",
       "    <tr>\n",
       "      <th>7</th>\n",
       "      <td>Research Data Scientist</td>\n",
       "      <td>Bangalore/Bengaluru</td>\n",
       "      <td>Mavenir</td>\n",
       "      <td>4-9 Yrs</td>\n",
       "    </tr>\n",
       "    <tr>\n",
       "      <th>8</th>\n",
       "      <td>Senior Data Scientist Grade12</td>\n",
       "      <td>Bangalore/Bengaluru</td>\n",
       "      <td>Flipkart</td>\n",
       "      <td>5-10 Yrs</td>\n",
       "    </tr>\n",
       "    <tr>\n",
       "      <th>9</th>\n",
       "      <td>Senior Data Scientist Grade12</td>\n",
       "      <td>Bangalore/Bengaluru</td>\n",
       "      <td>Flipkart</td>\n",
       "      <td>5-7 Yrs</td>\n",
       "    </tr>\n",
       "  </tbody>\n",
       "</table>\n",
       "</div>"
      ],
      "text/plain": [
       "                                               title  \\\n",
       "0                              Senior Data Scientist   \n",
       "1               Sr. Analyst - Applied Data Scientist   \n",
       "2  Applied Data Scientist / ML Senior Engineer (P...   \n",
       "3                                     Data Scientist   \n",
       "4                              Expert Data Scientist   \n",
       "5                           Principal Data Scientist   \n",
       "6                   Analyst - Applied Data Scientist   \n",
       "7                            Research Data Scientist   \n",
       "8                      Senior Data Scientist Grade12   \n",
       "9                      Senior Data Scientist Grade12   \n",
       "\n",
       "                                  location            company  \\\n",
       "0  Bangalore/Bengaluru, Mumbai (All Areas)                UPL   \n",
       "1                      Bangalore/Bengaluru              Tesco   \n",
       "2                      Bangalore/Bengaluru  SAP India Pvt.Ltd   \n",
       "3  Bangalore/Bengaluru, Mumbai (All Areas)                UPL   \n",
       "4  Bangalore/Bengaluru, Mumbai (All Areas)                UPL   \n",
       "5  Bangalore/Bengaluru, Mumbai (All Areas)                UPL   \n",
       "6                      Bangalore/Bengaluru              Tesco   \n",
       "7                      Bangalore/Bengaluru            Mavenir   \n",
       "8                      Bangalore/Bengaluru           Flipkart   \n",
       "9                      Bangalore/Bengaluru           Flipkart   \n",
       "\n",
       "  experience_required  \n",
       "0             3-6 Yrs  \n",
       "1             3-5 Yrs  \n",
       "2            5-10 Yrs  \n",
       "3             1-4 Yrs  \n",
       "4             6-9 Yrs  \n",
       "5           12-16 Yrs  \n",
       "6             1-2 Yrs  \n",
       "7             4-9 Yrs  \n",
       "8            5-10 Yrs  \n",
       "9             5-7 Yrs  "
      ]
     },
     "execution_count": 43,
     "metadata": {},
     "output_type": "execute_result"
    }
   ],
   "source": [
    "jobs"
   ]
  },
  {
   "cell_type": "code",
   "execution_count": 44,
   "id": "992024d2",
   "metadata": {},
   "outputs": [],
   "source": [
    "driver.close()"
   ]
  },
  {
   "cell_type": "markdown",
   "id": "ad2b3067",
   "metadata": {},
   "source": [
    "# 2)  Scrape data for first 100 sneakers you find when you visit flipkart.com andsearch for “sneakers” in the search field."
   ]
  },
  {
   "cell_type": "code",
   "execution_count": 45,
   "id": "21611e2b",
   "metadata": {},
   "outputs": [],
   "source": [
    "import selenium                              #library that is used to work with selenium.\n",
    "import pandas as pd                          #to create dataframe.\n",
    "from selenium import webdriver               #importing webdriver module from selenium to open up automated chrome windows.\n",
    "import warnings                              #to ignore any sort of warning.\n",
    "warnings.filterwarnings(\"ignore\")\n",
    "import time "
   ]
  },
  {
   "cell_type": "code",
   "execution_count": 46,
   "id": "de049757",
   "metadata": {},
   "outputs": [],
   "source": [
    "#Let us first connect to the web driver\n",
    "driver=webdriver.Chrome(\"chromedriver.exe\")\n",
    "time.sleep(2)"
   ]
  },
  {
   "cell_type": "code",
   "execution_count": 47,
   "id": "1e6521f2",
   "metadata": {},
   "outputs": [],
   "source": [
    "#opening up flipkart.com website on automated chrome window\n",
    "driver.get(\"https://www.flipkart.com/\")"
   ]
  },
  {
   "cell_type": "code",
   "execution_count": 48,
   "id": "d0931dd3",
   "metadata": {},
   "outputs": [],
   "source": [
    "#finding element for job search bar\n",
    "search_field_sneakers=driver.find_element_by_class_name(\"_3704LK\") #search bar\n",
    "search_field_sneakers.send_keys(\"sneakers\")"
   ]
  },
  {
   "cell_type": "code",
   "execution_count": 52,
   "id": "b669d3d4",
   "metadata": {},
   "outputs": [],
   "source": [
    "#Clicking on search button\n",
    "search_button=driver.find_element_by_class_name(\"L0Z3Pu\")\n",
    "search_button.click()"
   ]
  },
  {
   "cell_type": "markdown",
   "id": "e6d70c45",
   "metadata": {},
   "source": [
    "Now let us first create 4 empty lists. In these lists the data will be stored while scraping. We have created 4 empty lists for 4 features which we have to extract.\n",
    "1.Brand\n",
    "2.Product Description\n",
    "3.Price"
   ]
  },
  {
   "cell_type": "code",
   "execution_count": 105,
   "id": "4364e067",
   "metadata": {},
   "outputs": [],
   "source": [
    "Brands=[]"
   ]
  },
  {
   "cell_type": "markdown",
   "id": "22a57b61",
   "metadata": {},
   "source": [
    "First, we will extract all the tags where we have the Brands"
   ]
  },
  {
   "cell_type": "code",
   "execution_count": 59,
   "id": "173ec360",
   "metadata": {
    "scrolled": true
   },
   "outputs": [
    {
     "data": {
      "text/plain": [
       "[<selenium.webdriver.remote.webelement.WebElement (session=\"6df42374869b204e53c1ece2bf9d0432\", element=\"f2f69bbd-7e66-4b68-975a-30eadd03463b\")>,\n",
       " <selenium.webdriver.remote.webelement.WebElement (session=\"6df42374869b204e53c1ece2bf9d0432\", element=\"dd7b8111-fdd1-4f57-99a2-5436679b47a8\")>,\n",
       " <selenium.webdriver.remote.webelement.WebElement (session=\"6df42374869b204e53c1ece2bf9d0432\", element=\"b21d56ed-ed46-4147-b595-896eaa8b1113\")>,\n",
       " <selenium.webdriver.remote.webelement.WebElement (session=\"6df42374869b204e53c1ece2bf9d0432\", element=\"1c1977f0-e2d5-4105-811d-c8e595254f39\")>,\n",
       " <selenium.webdriver.remote.webelement.WebElement (session=\"6df42374869b204e53c1ece2bf9d0432\", element=\"45a79281-b2d1-4faf-9fbd-00db9e5d0024\")>,\n",
       " <selenium.webdriver.remote.webelement.WebElement (session=\"6df42374869b204e53c1ece2bf9d0432\", element=\"fcc9ea20-5d66-4e1c-9c4f-f8f9be962091\")>,\n",
       " <selenium.webdriver.remote.webelement.WebElement (session=\"6df42374869b204e53c1ece2bf9d0432\", element=\"641e6398-d7c4-4bd3-bb64-6110ebdd28fd\")>,\n",
       " <selenium.webdriver.remote.webelement.WebElement (session=\"6df42374869b204e53c1ece2bf9d0432\", element=\"55f64aeb-2634-4ecc-8da5-b10d79dba6e0\")>,\n",
       " <selenium.webdriver.remote.webelement.WebElement (session=\"6df42374869b204e53c1ece2bf9d0432\", element=\"c8ebc307-8b1e-419b-a13e-7a368bfea58b\")>,\n",
       " <selenium.webdriver.remote.webelement.WebElement (session=\"6df42374869b204e53c1ece2bf9d0432\", element=\"d1089b35-f3d2-4cd7-975b-9269d88679f1\")>,\n",
       " <selenium.webdriver.remote.webelement.WebElement (session=\"6df42374869b204e53c1ece2bf9d0432\", element=\"0ca31959-056f-4187-afa9-ef38231ec584\")>,\n",
       " <selenium.webdriver.remote.webelement.WebElement (session=\"6df42374869b204e53c1ece2bf9d0432\", element=\"61a79327-65af-4097-9ec2-25020b45048b\")>,\n",
       " <selenium.webdriver.remote.webelement.WebElement (session=\"6df42374869b204e53c1ece2bf9d0432\", element=\"eb4238ab-0faf-4c0d-9460-749e1bb75527\")>,\n",
       " <selenium.webdriver.remote.webelement.WebElement (session=\"6df42374869b204e53c1ece2bf9d0432\", element=\"048d8e25-276b-4dbf-a284-2fa114196dc5\")>,\n",
       " <selenium.webdriver.remote.webelement.WebElement (session=\"6df42374869b204e53c1ece2bf9d0432\", element=\"d5c3c75e-7c48-42e7-9ee0-95b597d025a8\")>,\n",
       " <selenium.webdriver.remote.webelement.WebElement (session=\"6df42374869b204e53c1ece2bf9d0432\", element=\"e17ee8d4-089a-4204-8ca5-979da9061c17\")>,\n",
       " <selenium.webdriver.remote.webelement.WebElement (session=\"6df42374869b204e53c1ece2bf9d0432\", element=\"49f902df-826a-4b8e-aa90-72fe4e111104\")>,\n",
       " <selenium.webdriver.remote.webelement.WebElement (session=\"6df42374869b204e53c1ece2bf9d0432\", element=\"8a9d123f-f96a-4719-9522-6567a84be42a\")>,\n",
       " <selenium.webdriver.remote.webelement.WebElement (session=\"6df42374869b204e53c1ece2bf9d0432\", element=\"040140a5-618c-49bd-8425-3c0311880eb1\")>,\n",
       " <selenium.webdriver.remote.webelement.WebElement (session=\"6df42374869b204e53c1ece2bf9d0432\", element=\"14a6b748-e267-47f6-a083-58d6452457a8\")>,\n",
       " <selenium.webdriver.remote.webelement.WebElement (session=\"6df42374869b204e53c1ece2bf9d0432\", element=\"6b4deb69-ad1d-4221-bda5-80c61530e296\")>,\n",
       " <selenium.webdriver.remote.webelement.WebElement (session=\"6df42374869b204e53c1ece2bf9d0432\", element=\"c3624495-4899-4d27-9b63-f78968754826\")>,\n",
       " <selenium.webdriver.remote.webelement.WebElement (session=\"6df42374869b204e53c1ece2bf9d0432\", element=\"c392c546-aebf-4091-9af7-6c95ac0eeaf3\")>,\n",
       " <selenium.webdriver.remote.webelement.WebElement (session=\"6df42374869b204e53c1ece2bf9d0432\", element=\"e9ce5efd-a918-4c7c-a7d4-3b1291892b76\")>,\n",
       " <selenium.webdriver.remote.webelement.WebElement (session=\"6df42374869b204e53c1ece2bf9d0432\", element=\"0c9bd8b6-5c35-4026-b4a0-a2fda223d3cc\")>,\n",
       " <selenium.webdriver.remote.webelement.WebElement (session=\"6df42374869b204e53c1ece2bf9d0432\", element=\"e14ce659-b5bc-4f99-9166-bb7b7b032b07\")>,\n",
       " <selenium.webdriver.remote.webelement.WebElement (session=\"6df42374869b204e53c1ece2bf9d0432\", element=\"56f025ab-6e1f-45c6-8ae9-bf84b52ab99e\")>,\n",
       " <selenium.webdriver.remote.webelement.WebElement (session=\"6df42374869b204e53c1ece2bf9d0432\", element=\"eca4548c-f995-4f3b-86a3-238f588b03cd\")>,\n",
       " <selenium.webdriver.remote.webelement.WebElement (session=\"6df42374869b204e53c1ece2bf9d0432\", element=\"97b4c384-dfc7-4aa6-ad4d-b7514e934737\")>,\n",
       " <selenium.webdriver.remote.webelement.WebElement (session=\"6df42374869b204e53c1ece2bf9d0432\", element=\"3632c93a-897d-4972-9e4d-2a71beb8c82d\")>,\n",
       " <selenium.webdriver.remote.webelement.WebElement (session=\"6df42374869b204e53c1ece2bf9d0432\", element=\"473e44b2-bfcf-48e5-a224-fea1c30d9b45\")>,\n",
       " <selenium.webdriver.remote.webelement.WebElement (session=\"6df42374869b204e53c1ece2bf9d0432\", element=\"766f60e4-8a20-4516-98ff-2e97c3134d3e\")>,\n",
       " <selenium.webdriver.remote.webelement.WebElement (session=\"6df42374869b204e53c1ece2bf9d0432\", element=\"4df4d640-ea67-406c-b662-29f7ec449aa3\")>,\n",
       " <selenium.webdriver.remote.webelement.WebElement (session=\"6df42374869b204e53c1ece2bf9d0432\", element=\"4132124f-9595-4500-bbbd-a01595319be1\")>,\n",
       " <selenium.webdriver.remote.webelement.WebElement (session=\"6df42374869b204e53c1ece2bf9d0432\", element=\"1eca5c8b-e28c-47e4-8a60-01354626e164\")>,\n",
       " <selenium.webdriver.remote.webelement.WebElement (session=\"6df42374869b204e53c1ece2bf9d0432\", element=\"499032ed-c100-45cb-9f6a-ac77d8531ed3\")>,\n",
       " <selenium.webdriver.remote.webelement.WebElement (session=\"6df42374869b204e53c1ece2bf9d0432\", element=\"2c9e13e2-e799-4806-8ee1-6eeb1fc8007c\")>,\n",
       " <selenium.webdriver.remote.webelement.WebElement (session=\"6df42374869b204e53c1ece2bf9d0432\", element=\"a4fc00bf-4b51-47cc-9e8c-bed8ebddb5fe\")>,\n",
       " <selenium.webdriver.remote.webelement.WebElement (session=\"6df42374869b204e53c1ece2bf9d0432\", element=\"6319df2d-3238-4ab6-99a0-d0aa4488b00c\")>,\n",
       " <selenium.webdriver.remote.webelement.WebElement (session=\"6df42374869b204e53c1ece2bf9d0432\", element=\"02b4253c-5f9e-4c4f-9709-71d7106766dd\")>]"
      ]
     },
     "execution_count": 59,
     "metadata": {},
     "output_type": "execute_result"
    }
   ],
   "source": [
    "#let us extract all the tags having the job_titles\n",
    "Brand_tags=driver.find_elements_by_xpath(\"//div[@class='_2WkVRV']\") # locating web element of title.\n",
    "Brand_tags[0:99]  #using range to print only top 10 results."
   ]
  },
  {
   "cell_type": "markdown",
   "id": "1cf642bd",
   "metadata": {},
   "source": [
    "Now we have all the tags in which there are the Brands. Now we will extract the text from these tags one by one by looping over these tags."
   ]
  },
  {
   "cell_type": "code",
   "execution_count": 61,
   "id": "f7c8eba9",
   "metadata": {
    "scrolled": true
   },
   "outputs": [
    {
     "data": {
      "text/plain": [
       "['Shoes Icon',\n",
       " 'rushk',\n",
       " 'URBANBOX',\n",
       " 'BRUTON',\n",
       " 'KWIK FIT',\n",
       " 'corsac',\n",
       " 'Labbin',\n",
       " 'hzisbo',\n",
       " 'BIRDE',\n",
       " 'Magnolia',\n",
       " 'Kraasa',\n",
       " 'RED TAPE',\n",
       " 'aadi',\n",
       " 'Kraasa',\n",
       " 'BRUTON',\n",
       " 'Shoes villa',\n",
       " 'ASTEROID',\n",
       " 'ONECENTRE',\n",
       " 'ASTEROID',\n",
       " 'FEWROK',\n",
       " 'World Wear Footwear',\n",
       " 'PUMA',\n",
       " 'Layasa',\n",
       " 'Robbie jones',\n",
       " 'World Wear Footwear',\n",
       " 'SCATCHITE',\n",
       " 'CLYMB',\n",
       " 'Bacan',\n",
       " 'BRUTON',\n",
       " 'World Wear Footwear',\n",
       " 'NIKE',\n",
       " 'ROCKFIELD',\n",
       " 'World Wear Footwear',\n",
       " 'Robbie jones',\n",
       " 'Chevit',\n",
       " 'Echor',\n",
       " 'BRUTON',\n",
       " 'EMPTILE',\n",
       " 'corsac',\n",
       " 'Zixer']"
      ]
     },
     "execution_count": 61,
     "metadata": {},
     "output_type": "execute_result"
    }
   ],
   "source": [
    "#Now the text of the Brands is inside the tags extracted above.\n",
    "#So we will run a loop to iterate over the tags extracted above and extract the text inside them.\n",
    "\n",
    "for i in Brand_tags:           \n",
    "    Brand=i.text                \n",
    "    Brands.append(Brand)        \n",
    "Brands[0:99]                    "
   ]
  },
  {
   "cell_type": "code",
   "execution_count": 99,
   "id": "1862abef",
   "metadata": {},
   "outputs": [],
   "source": [
    "Product_Description=[]\n"
   ]
  },
  {
   "cell_type": "code",
   "execution_count": 100,
   "id": "3ab4b5bc",
   "metadata": {
    "scrolled": true
   },
   "outputs": [
    {
     "data": {
      "text/plain": [
       "[<selenium.webdriver.remote.webelement.WebElement (session=\"6df42374869b204e53c1ece2bf9d0432\", element=\"db9b42cf-554d-4cbe-a38a-c6ba07094924\")>,\n",
       " <selenium.webdriver.remote.webelement.WebElement (session=\"6df42374869b204e53c1ece2bf9d0432\", element=\"6dbe04b0-11cb-459f-87bd-9cc08d766a19\")>,\n",
       " <selenium.webdriver.remote.webelement.WebElement (session=\"6df42374869b204e53c1ece2bf9d0432\", element=\"07ef57aa-9624-448c-bcd4-bc234b75b7ef\")>,\n",
       " <selenium.webdriver.remote.webelement.WebElement (session=\"6df42374869b204e53c1ece2bf9d0432\", element=\"ae6ab0ca-eecb-4e97-bb72-cdcca1b39d4c\")>,\n",
       " <selenium.webdriver.remote.webelement.WebElement (session=\"6df42374869b204e53c1ece2bf9d0432\", element=\"0e4c7bba-c7f6-4461-9298-0de04ea091fc\")>,\n",
       " <selenium.webdriver.remote.webelement.WebElement (session=\"6df42374869b204e53c1ece2bf9d0432\", element=\"162b7f57-a0ce-418a-9e43-33f86b41f8c6\")>,\n",
       " <selenium.webdriver.remote.webelement.WebElement (session=\"6df42374869b204e53c1ece2bf9d0432\", element=\"38612ca6-8437-4b03-a377-1c2dd998207a\")>,\n",
       " <selenium.webdriver.remote.webelement.WebElement (session=\"6df42374869b204e53c1ece2bf9d0432\", element=\"19152d49-c347-4daf-9da9-e42a86feba87\")>,\n",
       " <selenium.webdriver.remote.webelement.WebElement (session=\"6df42374869b204e53c1ece2bf9d0432\", element=\"dbb8cacc-3b56-495d-9232-2d34a1b9d680\")>,\n",
       " <selenium.webdriver.remote.webelement.WebElement (session=\"6df42374869b204e53c1ece2bf9d0432\", element=\"093a5526-35e5-4446-8613-e64714adeff6\")>,\n",
       " <selenium.webdriver.remote.webelement.WebElement (session=\"6df42374869b204e53c1ece2bf9d0432\", element=\"5bc53ec2-8256-4f87-89cf-e9b7ccd277c0\")>,\n",
       " <selenium.webdriver.remote.webelement.WebElement (session=\"6df42374869b204e53c1ece2bf9d0432\", element=\"2115b3e3-d2ef-43aa-8702-acf5c7c0b760\")>,\n",
       " <selenium.webdriver.remote.webelement.WebElement (session=\"6df42374869b204e53c1ece2bf9d0432\", element=\"f69b2762-411e-4c58-9f38-cf853e2efa29\")>,\n",
       " <selenium.webdriver.remote.webelement.WebElement (session=\"6df42374869b204e53c1ece2bf9d0432\", element=\"cd774604-2fd2-42b6-8731-06c7c3ff0631\")>,\n",
       " <selenium.webdriver.remote.webelement.WebElement (session=\"6df42374869b204e53c1ece2bf9d0432\", element=\"7ef9b24a-873d-4f17-a80c-b6a9c55719c4\")>,\n",
       " <selenium.webdriver.remote.webelement.WebElement (session=\"6df42374869b204e53c1ece2bf9d0432\", element=\"c24fd38c-fe78-42bd-a76d-e498d71432f4\")>,\n",
       " <selenium.webdriver.remote.webelement.WebElement (session=\"6df42374869b204e53c1ece2bf9d0432\", element=\"6e40149f-949a-4193-8186-068a1e331c78\")>,\n",
       " <selenium.webdriver.remote.webelement.WebElement (session=\"6df42374869b204e53c1ece2bf9d0432\", element=\"0f43c106-774a-4cef-9043-34eab2a0ec9c\")>,\n",
       " <selenium.webdriver.remote.webelement.WebElement (session=\"6df42374869b204e53c1ece2bf9d0432\", element=\"f23981e3-17bf-4bea-8d7f-0cff74259e6f\")>,\n",
       " <selenium.webdriver.remote.webelement.WebElement (session=\"6df42374869b204e53c1ece2bf9d0432\", element=\"9d32d241-d2b2-45de-a64a-4adb967b95d8\")>,\n",
       " <selenium.webdriver.remote.webelement.WebElement (session=\"6df42374869b204e53c1ece2bf9d0432\", element=\"c5a67687-c0f4-4ce2-a56d-571c1b4193d5\")>,\n",
       " <selenium.webdriver.remote.webelement.WebElement (session=\"6df42374869b204e53c1ece2bf9d0432\", element=\"837e9386-c167-4c6a-a958-9980e6006533\")>,\n",
       " <selenium.webdriver.remote.webelement.WebElement (session=\"6df42374869b204e53c1ece2bf9d0432\", element=\"630f96f5-0b64-482f-ae52-0d9668786c6d\")>,\n",
       " <selenium.webdriver.remote.webelement.WebElement (session=\"6df42374869b204e53c1ece2bf9d0432\", element=\"54b2c8b6-4c2f-49ee-b28e-ac84d64f6aae\")>,\n",
       " <selenium.webdriver.remote.webelement.WebElement (session=\"6df42374869b204e53c1ece2bf9d0432\", element=\"74644ea9-e702-4025-9584-5e5f3ca8d12b\")>,\n",
       " <selenium.webdriver.remote.webelement.WebElement (session=\"6df42374869b204e53c1ece2bf9d0432\", element=\"16a87c8b-6869-4059-9a5d-120b72269703\")>,\n",
       " <selenium.webdriver.remote.webelement.WebElement (session=\"6df42374869b204e53c1ece2bf9d0432\", element=\"31849f83-1445-492e-b0cd-c1424ffe3dc8\")>,\n",
       " <selenium.webdriver.remote.webelement.WebElement (session=\"6df42374869b204e53c1ece2bf9d0432\", element=\"4b0a8336-a977-4d55-b4a4-95f0fe486107\")>,\n",
       " <selenium.webdriver.remote.webelement.WebElement (session=\"6df42374869b204e53c1ece2bf9d0432\", element=\"4c8ff2aa-b6b1-40db-8380-a42ffcd1baf1\")>,\n",
       " <selenium.webdriver.remote.webelement.WebElement (session=\"6df42374869b204e53c1ece2bf9d0432\", element=\"8e5cc0e5-d05c-49d2-b95a-62873e7eaf61\")>,\n",
       " <selenium.webdriver.remote.webelement.WebElement (session=\"6df42374869b204e53c1ece2bf9d0432\", element=\"42d6d632-dc79-43c5-9bdc-a21cff18b903\")>,\n",
       " <selenium.webdriver.remote.webelement.WebElement (session=\"6df42374869b204e53c1ece2bf9d0432\", element=\"4a4ca209-7230-47a7-a6a9-9e493a14e619\")>,\n",
       " <selenium.webdriver.remote.webelement.WebElement (session=\"6df42374869b204e53c1ece2bf9d0432\", element=\"9e3dc495-550c-47d6-87ad-9927dec9247d\")>,\n",
       " <selenium.webdriver.remote.webelement.WebElement (session=\"6df42374869b204e53c1ece2bf9d0432\", element=\"67a8e12d-db0f-4cd4-93d1-115a70a75d0a\")>,\n",
       " <selenium.webdriver.remote.webelement.WebElement (session=\"6df42374869b204e53c1ece2bf9d0432\", element=\"9bfdf0b8-daa6-4854-8722-d56d12634ba3\")>,\n",
       " <selenium.webdriver.remote.webelement.WebElement (session=\"6df42374869b204e53c1ece2bf9d0432\", element=\"f5785ac9-b569-48b2-be9f-57bb7a7e6f5e\")>,\n",
       " <selenium.webdriver.remote.webelement.WebElement (session=\"6df42374869b204e53c1ece2bf9d0432\", element=\"c1d15d40-b0ed-4f9c-bd08-94d6f09c2f05\")>,\n",
       " <selenium.webdriver.remote.webelement.WebElement (session=\"6df42374869b204e53c1ece2bf9d0432\", element=\"0fc296ea-dbf1-4d03-8ae0-f026006fea17\")>,\n",
       " <selenium.webdriver.remote.webelement.WebElement (session=\"6df42374869b204e53c1ece2bf9d0432\", element=\"0b97d4ba-b845-4972-a0fa-5ef04954950b\")>,\n",
       " <selenium.webdriver.remote.webelement.WebElement (session=\"6df42374869b204e53c1ece2bf9d0432\", element=\"bb99fee2-9a55-43d2-948b-180c15f246df\")>]"
      ]
     },
     "execution_count": 100,
     "metadata": {},
     "output_type": "execute_result"
    }
   ],
   "source": [
    "#let us extract all the tags having the Product_Description\n",
    "Product_Description_tags=driver.find_elements_by_class_name(\"IRpwTa\")\n",
    "Product_Description_tags[0:99]"
   ]
  },
  {
   "cell_type": "code",
   "execution_count": 101,
   "id": "3faf7b80",
   "metadata": {
    "scrolled": true
   },
   "outputs": [
    {
     "data": {
      "text/plain": [
       "['Stylish White Casual Sneakers | White Party Wear Sneake...',\n",
       " 'Sneakers For Men',\n",
       " 'Sneakers Sneakers For Men',\n",
       " 'Canvas shoes for Men Sneakers For Men',\n",
       " 'Kwik FIT casual sneaker shoes and partywear shoes Casua...',\n",
       " 'STYLISH MENS BLACK SNEAKER Sneakers For Men',\n",
       " 'Sneakers For Men',\n",
       " 'Sneakers For Men',\n",
       " 'Stylish Comfortable Lightweight, Breathable Walking Sho...',\n",
       " 'Sneakers For Men',\n",
       " 'Shark-41 Sneakers For Men',\n",
       " 'Sneakers For Men',\n",
       " 'Sneakers For Men',\n",
       " 'Series 7 Sneakers For Men',\n",
       " 'Sneaker Sneakers For Men',\n",
       " 'Ultralight Latest Collection Sports Running Shoes For M...',\n",
       " 'Original Luxury Branded Black Fancy Casual Walking Part...',\n",
       " 'STR2 Sneakers For Men',\n",
       " \"Original Luxury Branded Fashionable Men's Casual Walkin...\",\n",
       " 'Premium quality Sneakers For Men',\n",
       " '5013-Latest Collection Stylish & Trendy of casuals Snea...',\n",
       " 'Mirage Tech Sneakers For Men',\n",
       " 'Sneakers For Men',\n",
       " 'Sneakers For Men',\n",
       " '5011-Latest Collection Stylish & Trendy Casual Sneakers...',\n",
       " 'Sneakers Sneakers For Men',\n",
       " 'Sneakers For Men',\n",
       " 'Sneakers For Men',\n",
       " 'Lattest Sneakers Shoe Sneakers For Men',\n",
       " 'Latest Collection-1227 Stylish Casual Sports Sneakers F...',\n",
       " 'Ebernon Low Sneakers For Men',\n",
       " 'Sneakers For Men',\n",
       " 'Men 5014 Latest Collection Stylish Casual Sports Loafer...',\n",
       " 'Sneakers For Men',\n",
       " '494 Perfect Sports Shoes for Running Training Hikking &...',\n",
       " \"Men's casual shoes sports shoes black sneaker Sneakers ...\",\n",
       " 'Lightweight Pack Of 1 Trendy Sneakers Sneakers For Men',\n",
       " 'all white heartbeat casual shoe Sneakers For Men',\n",
       " 'STYLISH MENS BLACK TRENDY SNEAKER FOR MENS Sneakers For...',\n",
       " \"Men's Streetwear Pro Style High Top Platform Fashion Sn...\"]"
      ]
     },
     "execution_count": 101,
     "metadata": {},
     "output_type": "execute_result"
    }
   ],
   "source": [
    "#Now the text of the Product_Description is inside the tags extracted above.\n",
    "#So we will run a loop to iterate over the tags extracted above and extract the text inside them.\n",
    "\n",
    "for i in Product_Description_tags:\n",
    "    text=i.text\n",
    "    Product_Description.append(text)\n",
    "Product_Description"
   ]
  },
  {
   "cell_type": "code",
   "execution_count": 106,
   "id": "a290ac00",
   "metadata": {},
   "outputs": [],
   "source": [
    "Price=[]"
   ]
  },
  {
   "cell_type": "code",
   "execution_count": 107,
   "id": "500709b1",
   "metadata": {
    "scrolled": true
   },
   "outputs": [
    {
     "data": {
      "text/plain": [
       "[<selenium.webdriver.remote.webelement.WebElement (session=\"6df42374869b204e53c1ece2bf9d0432\", element=\"67479d16-993e-43e5-b369-588d8f07b049\")>,\n",
       " <selenium.webdriver.remote.webelement.WebElement (session=\"6df42374869b204e53c1ece2bf9d0432\", element=\"0ef681d1-ac3e-4b23-b22e-0cf2de75d04f\")>,\n",
       " <selenium.webdriver.remote.webelement.WebElement (session=\"6df42374869b204e53c1ece2bf9d0432\", element=\"c57a317c-de69-4562-8758-5991e1b0733a\")>,\n",
       " <selenium.webdriver.remote.webelement.WebElement (session=\"6df42374869b204e53c1ece2bf9d0432\", element=\"a1f1dead-1706-4dc8-a680-242126e0e45f\")>,\n",
       " <selenium.webdriver.remote.webelement.WebElement (session=\"6df42374869b204e53c1ece2bf9d0432\", element=\"449e3cda-b949-49d7-aff0-1686da29a01e\")>,\n",
       " <selenium.webdriver.remote.webelement.WebElement (session=\"6df42374869b204e53c1ece2bf9d0432\", element=\"a0ce3188-cfab-4a0e-90b1-28ecd001cfcb\")>,\n",
       " <selenium.webdriver.remote.webelement.WebElement (session=\"6df42374869b204e53c1ece2bf9d0432\", element=\"2bf8a591-3204-434d-bb5c-87dc3ee3e53c\")>,\n",
       " <selenium.webdriver.remote.webelement.WebElement (session=\"6df42374869b204e53c1ece2bf9d0432\", element=\"05469460-6a02-4861-b63e-4348a140f552\")>,\n",
       " <selenium.webdriver.remote.webelement.WebElement (session=\"6df42374869b204e53c1ece2bf9d0432\", element=\"3df86da0-678b-4c28-b667-eb95b620ea5b\")>,\n",
       " <selenium.webdriver.remote.webelement.WebElement (session=\"6df42374869b204e53c1ece2bf9d0432\", element=\"4e19c6fd-829c-48ec-8482-1244d4fa29e8\")>,\n",
       " <selenium.webdriver.remote.webelement.WebElement (session=\"6df42374869b204e53c1ece2bf9d0432\", element=\"cad20b30-689d-4ab5-8982-5f9a1297aa2f\")>,\n",
       " <selenium.webdriver.remote.webelement.WebElement (session=\"6df42374869b204e53c1ece2bf9d0432\", element=\"6dae3a5c-7927-4c8a-b116-9739e8f0a111\")>,\n",
       " <selenium.webdriver.remote.webelement.WebElement (session=\"6df42374869b204e53c1ece2bf9d0432\", element=\"3d9c9991-6ba5-4665-ba7b-e5cbe7b52129\")>,\n",
       " <selenium.webdriver.remote.webelement.WebElement (session=\"6df42374869b204e53c1ece2bf9d0432\", element=\"926096df-2a78-42db-a16c-3e0be0605692\")>,\n",
       " <selenium.webdriver.remote.webelement.WebElement (session=\"6df42374869b204e53c1ece2bf9d0432\", element=\"6433f03c-ee2b-4b92-bee0-f6f3df08e2b1\")>,\n",
       " <selenium.webdriver.remote.webelement.WebElement (session=\"6df42374869b204e53c1ece2bf9d0432\", element=\"6d5cdf94-661b-4f0a-8560-7f51bc24c5ac\")>,\n",
       " <selenium.webdriver.remote.webelement.WebElement (session=\"6df42374869b204e53c1ece2bf9d0432\", element=\"630c0566-c9ed-4a97-8de5-4fc97c1cbd08\")>,\n",
       " <selenium.webdriver.remote.webelement.WebElement (session=\"6df42374869b204e53c1ece2bf9d0432\", element=\"1f6e540e-e042-48db-b3fd-1658934d118c\")>,\n",
       " <selenium.webdriver.remote.webelement.WebElement (session=\"6df42374869b204e53c1ece2bf9d0432\", element=\"f5185d30-32f3-4abf-bba1-0e9ebde36e5d\")>,\n",
       " <selenium.webdriver.remote.webelement.WebElement (session=\"6df42374869b204e53c1ece2bf9d0432\", element=\"f3ca5c94-eaf7-4877-8983-4f3031011c40\")>,\n",
       " <selenium.webdriver.remote.webelement.WebElement (session=\"6df42374869b204e53c1ece2bf9d0432\", element=\"ba7f4f94-86fc-4b46-a790-fa72984bb7e6\")>,\n",
       " <selenium.webdriver.remote.webelement.WebElement (session=\"6df42374869b204e53c1ece2bf9d0432\", element=\"8e14c114-9632-4f38-891f-89f52a488d79\")>,\n",
       " <selenium.webdriver.remote.webelement.WebElement (session=\"6df42374869b204e53c1ece2bf9d0432\", element=\"6b78c4d2-659d-4571-8a91-c91de5e1566b\")>,\n",
       " <selenium.webdriver.remote.webelement.WebElement (session=\"6df42374869b204e53c1ece2bf9d0432\", element=\"df1f4003-a053-4b9b-bf3c-e8e437b39533\")>,\n",
       " <selenium.webdriver.remote.webelement.WebElement (session=\"6df42374869b204e53c1ece2bf9d0432\", element=\"82d0f5fd-e9c9-4e27-b7dc-710dff93bb4a\")>,\n",
       " <selenium.webdriver.remote.webelement.WebElement (session=\"6df42374869b204e53c1ece2bf9d0432\", element=\"2f838635-a82c-44f8-a6f2-25c2c4b741df\")>,\n",
       " <selenium.webdriver.remote.webelement.WebElement (session=\"6df42374869b204e53c1ece2bf9d0432\", element=\"a7755ecf-1198-40ab-9356-35fa2c892bf9\")>,\n",
       " <selenium.webdriver.remote.webelement.WebElement (session=\"6df42374869b204e53c1ece2bf9d0432\", element=\"99b57a33-bc05-457f-a3eb-6836b3d444ed\")>,\n",
       " <selenium.webdriver.remote.webelement.WebElement (session=\"6df42374869b204e53c1ece2bf9d0432\", element=\"45e69d30-77df-49a3-a72b-d46e79b7e776\")>,\n",
       " <selenium.webdriver.remote.webelement.WebElement (session=\"6df42374869b204e53c1ece2bf9d0432\", element=\"2e62f6f8-e91b-4d1a-87e0-4603c4d7d542\")>,\n",
       " <selenium.webdriver.remote.webelement.WebElement (session=\"6df42374869b204e53c1ece2bf9d0432\", element=\"86d395ef-0c5b-48fd-a407-0b54561d71ef\")>,\n",
       " <selenium.webdriver.remote.webelement.WebElement (session=\"6df42374869b204e53c1ece2bf9d0432\", element=\"843f0314-a43e-4485-84d7-5108d7ba9e31\")>,\n",
       " <selenium.webdriver.remote.webelement.WebElement (session=\"6df42374869b204e53c1ece2bf9d0432\", element=\"8468f525-c7d8-48c9-bb74-aceecd9740ff\")>,\n",
       " <selenium.webdriver.remote.webelement.WebElement (session=\"6df42374869b204e53c1ece2bf9d0432\", element=\"f7bdd9f0-cae9-4e36-a33c-f671332743ba\")>,\n",
       " <selenium.webdriver.remote.webelement.WebElement (session=\"6df42374869b204e53c1ece2bf9d0432\", element=\"ec0e3bd3-6f86-496d-b43c-e089b6c19176\")>,\n",
       " <selenium.webdriver.remote.webelement.WebElement (session=\"6df42374869b204e53c1ece2bf9d0432\", element=\"3834837f-2313-4158-869d-3100ec77f2fd\")>,\n",
       " <selenium.webdriver.remote.webelement.WebElement (session=\"6df42374869b204e53c1ece2bf9d0432\", element=\"ffb9659b-bd65-4f49-9658-7db331d10fb2\")>,\n",
       " <selenium.webdriver.remote.webelement.WebElement (session=\"6df42374869b204e53c1ece2bf9d0432\", element=\"cfaf0d18-d0eb-42f3-94ea-fb7c9cbd7889\")>,\n",
       " <selenium.webdriver.remote.webelement.WebElement (session=\"6df42374869b204e53c1ece2bf9d0432\", element=\"162001ea-a8cd-42eb-a363-ed7906fd1a10\")>,\n",
       " <selenium.webdriver.remote.webelement.WebElement (session=\"6df42374869b204e53c1ece2bf9d0432\", element=\"3b0bd2e7-b5fe-4338-84a2-660b799632ea\")>]"
      ]
     },
     "execution_count": 107,
     "metadata": {},
     "output_type": "execute_result"
    }
   ],
   "source": [
    "Price_tags=driver.find_elements_by_xpath(\"//div[@class='_30jeq3']\")\n",
    "Price_tags[0:99]"
   ]
  },
  {
   "cell_type": "code",
   "execution_count": 108,
   "id": "c6f9e893",
   "metadata": {
    "scrolled": true
   },
   "outputs": [
    {
     "data": {
      "text/plain": [
       "['₹388',\n",
       " '₹249',\n",
       " '₹158',\n",
       " '₹299',\n",
       " '₹349',\n",
       " '₹449',\n",
       " '₹419',\n",
       " '₹449',\n",
       " '₹269',\n",
       " '₹351',\n",
       " '₹411',\n",
       " '₹1,124',\n",
       " '₹297',\n",
       " '₹406',\n",
       " '₹249',\n",
       " '₹449',\n",
       " '₹449',\n",
       " '₹250',\n",
       " '₹449',\n",
       " '₹369',\n",
       " '₹199',\n",
       " '₹7,949',\n",
       " '₹399',\n",
       " '₹424',\n",
       " '₹199',\n",
       " '₹348',\n",
       " '₹599',\n",
       " '₹424',\n",
       " '₹249',\n",
       " '₹209',\n",
       " '₹4,291',\n",
       " '₹549',\n",
       " '₹199',\n",
       " '₹424',\n",
       " '₹219',\n",
       " '₹489',\n",
       " '₹158',\n",
       " '₹327',\n",
       " '₹449',\n",
       " '₹549']"
      ]
     },
     "execution_count": 108,
     "metadata": {},
     "output_type": "execute_result"
    }
   ],
   "source": [
    "for i in Price_tags:\n",
    "    text=i.text\n",
    "    Price.append(text)\n",
    "Price[0:99]"
   ]
  },
  {
   "cell_type": "code",
   "execution_count": 109,
   "id": "ed6451f6",
   "metadata": {},
   "outputs": [],
   "source": [
    "discount=[]"
   ]
  },
  {
   "cell_type": "code",
   "execution_count": 110,
   "id": "1747bcfc",
   "metadata": {
    "scrolled": true
   },
   "outputs": [
    {
     "data": {
      "text/plain": [
       "[<selenium.webdriver.remote.webelement.WebElement (session=\"6df42374869b204e53c1ece2bf9d0432\", element=\"af611837-a570-45e6-9bac-c5e91479a539\")>,\n",
       " <selenium.webdriver.remote.webelement.WebElement (session=\"6df42374869b204e53c1ece2bf9d0432\", element=\"06c4cda1-c7a3-468d-b007-2d95d81c5772\")>,\n",
       " <selenium.webdriver.remote.webelement.WebElement (session=\"6df42374869b204e53c1ece2bf9d0432\", element=\"6b3c599b-4a85-4809-97f0-a9abf0d6e56c\")>,\n",
       " <selenium.webdriver.remote.webelement.WebElement (session=\"6df42374869b204e53c1ece2bf9d0432\", element=\"a115d229-78f3-44b7-89f5-89b7e37f9a9f\")>,\n",
       " <selenium.webdriver.remote.webelement.WebElement (session=\"6df42374869b204e53c1ece2bf9d0432\", element=\"7e00ff5d-947e-4856-aacb-ea1cad78b47e\")>,\n",
       " <selenium.webdriver.remote.webelement.WebElement (session=\"6df42374869b204e53c1ece2bf9d0432\", element=\"60bca50d-1a9d-4375-8aad-45be2b6e58c1\")>,\n",
       " <selenium.webdriver.remote.webelement.WebElement (session=\"6df42374869b204e53c1ece2bf9d0432\", element=\"a83a16ce-f418-4d9b-8cb9-880d19b30f15\")>,\n",
       " <selenium.webdriver.remote.webelement.WebElement (session=\"6df42374869b204e53c1ece2bf9d0432\", element=\"2d6ad91a-dfb8-440d-a182-f4397f52ef3a\")>,\n",
       " <selenium.webdriver.remote.webelement.WebElement (session=\"6df42374869b204e53c1ece2bf9d0432\", element=\"2b5db5a3-e5da-4d24-a743-1eaa7c348bf5\")>,\n",
       " <selenium.webdriver.remote.webelement.WebElement (session=\"6df42374869b204e53c1ece2bf9d0432\", element=\"1f9d271a-465e-4297-ac65-8f4a8ddf7c62\")>,\n",
       " <selenium.webdriver.remote.webelement.WebElement (session=\"6df42374869b204e53c1ece2bf9d0432\", element=\"5744da1b-6eb0-417e-9603-568637cb769d\")>,\n",
       " <selenium.webdriver.remote.webelement.WebElement (session=\"6df42374869b204e53c1ece2bf9d0432\", element=\"34d31d38-5fe5-4955-9f7b-638542ac8f09\")>,\n",
       " <selenium.webdriver.remote.webelement.WebElement (session=\"6df42374869b204e53c1ece2bf9d0432\", element=\"c4c89174-8b48-4843-91a7-31ab0e668996\")>,\n",
       " <selenium.webdriver.remote.webelement.WebElement (session=\"6df42374869b204e53c1ece2bf9d0432\", element=\"7135eeb3-164e-4495-af37-c321de00596f\")>,\n",
       " <selenium.webdriver.remote.webelement.WebElement (session=\"6df42374869b204e53c1ece2bf9d0432\", element=\"4d5ce14f-5bec-4854-a811-a1c8c2ffb1a8\")>,\n",
       " <selenium.webdriver.remote.webelement.WebElement (session=\"6df42374869b204e53c1ece2bf9d0432\", element=\"b966bcc1-2d08-4f7b-8c56-d6c280e1c2f2\")>,\n",
       " <selenium.webdriver.remote.webelement.WebElement (session=\"6df42374869b204e53c1ece2bf9d0432\", element=\"e4c33391-6102-41c7-a9fa-38ffe4a9383b\")>,\n",
       " <selenium.webdriver.remote.webelement.WebElement (session=\"6df42374869b204e53c1ece2bf9d0432\", element=\"3044bf2d-5f0b-4c59-b699-e38b9fe386d5\")>,\n",
       " <selenium.webdriver.remote.webelement.WebElement (session=\"6df42374869b204e53c1ece2bf9d0432\", element=\"e32afa37-8d1e-4443-bbb4-7e5d67922413\")>,\n",
       " <selenium.webdriver.remote.webelement.WebElement (session=\"6df42374869b204e53c1ece2bf9d0432\", element=\"94c440a6-2160-481e-9d64-cc2148f48087\")>,\n",
       " <selenium.webdriver.remote.webelement.WebElement (session=\"6df42374869b204e53c1ece2bf9d0432\", element=\"539f65cd-5c7b-406e-ae3d-d0be6d0448ce\")>,\n",
       " <selenium.webdriver.remote.webelement.WebElement (session=\"6df42374869b204e53c1ece2bf9d0432\", element=\"04f0eb1d-5dc8-4403-aa9b-7d6c3f81920d\")>,\n",
       " <selenium.webdriver.remote.webelement.WebElement (session=\"6df42374869b204e53c1ece2bf9d0432\", element=\"5efde2aa-8cb4-4268-9fd1-8397d321c3de\")>,\n",
       " <selenium.webdriver.remote.webelement.WebElement (session=\"6df42374869b204e53c1ece2bf9d0432\", element=\"3c0ccddd-a155-4103-99a8-85c8e2dbd6f8\")>,\n",
       " <selenium.webdriver.remote.webelement.WebElement (session=\"6df42374869b204e53c1ece2bf9d0432\", element=\"4aef6a4e-2fe8-49b8-984a-5f751c5785f5\")>,\n",
       " <selenium.webdriver.remote.webelement.WebElement (session=\"6df42374869b204e53c1ece2bf9d0432\", element=\"7d4f506d-c469-440d-9c97-0e7ef6f6cf29\")>,\n",
       " <selenium.webdriver.remote.webelement.WebElement (session=\"6df42374869b204e53c1ece2bf9d0432\", element=\"f7025567-cf66-4987-a124-dd653c80dba4\")>,\n",
       " <selenium.webdriver.remote.webelement.WebElement (session=\"6df42374869b204e53c1ece2bf9d0432\", element=\"2360879d-ecfa-4547-b21d-676db114d740\")>,\n",
       " <selenium.webdriver.remote.webelement.WebElement (session=\"6df42374869b204e53c1ece2bf9d0432\", element=\"df2a7139-7a2e-40f8-a8b7-1b4f0ad97fa8\")>,\n",
       " <selenium.webdriver.remote.webelement.WebElement (session=\"6df42374869b204e53c1ece2bf9d0432\", element=\"4fe4dca8-c91a-4cbc-9ed3-343c26f1bfbd\")>,\n",
       " <selenium.webdriver.remote.webelement.WebElement (session=\"6df42374869b204e53c1ece2bf9d0432\", element=\"3ced4441-581e-43f2-8306-cc1f2a47e828\")>,\n",
       " <selenium.webdriver.remote.webelement.WebElement (session=\"6df42374869b204e53c1ece2bf9d0432\", element=\"e5ff78fb-b7c4-43a8-bc1f-b09441274a99\")>,\n",
       " <selenium.webdriver.remote.webelement.WebElement (session=\"6df42374869b204e53c1ece2bf9d0432\", element=\"13369284-cce0-4843-8aa5-4d00d6721cb6\")>,\n",
       " <selenium.webdriver.remote.webelement.WebElement (session=\"6df42374869b204e53c1ece2bf9d0432\", element=\"11743711-16a3-4667-b2dd-9898059ddd0c\")>,\n",
       " <selenium.webdriver.remote.webelement.WebElement (session=\"6df42374869b204e53c1ece2bf9d0432\", element=\"5ff38024-6d8f-4e86-8897-dcf2f5207b43\")>,\n",
       " <selenium.webdriver.remote.webelement.WebElement (session=\"6df42374869b204e53c1ece2bf9d0432\", element=\"287ac767-afd6-4220-b51f-daa1314aa640\")>,\n",
       " <selenium.webdriver.remote.webelement.WebElement (session=\"6df42374869b204e53c1ece2bf9d0432\", element=\"b861cff3-99af-4c86-bbad-2bdef4a88c4a\")>,\n",
       " <selenium.webdriver.remote.webelement.WebElement (session=\"6df42374869b204e53c1ece2bf9d0432\", element=\"f19eebe0-f7e8-42da-89af-5e25b86cb8f3\")>,\n",
       " <selenium.webdriver.remote.webelement.WebElement (session=\"6df42374869b204e53c1ece2bf9d0432\", element=\"de9643a2-d678-46fa-993b-02d8d24473e9\")>]"
      ]
     },
     "execution_count": 110,
     "metadata": {},
     "output_type": "execute_result"
    }
   ],
   "source": [
    "discount_tags=driver.find_elements_by_xpath(\"//div[@class='_3Ay6Sb']/span\")\n",
    "discount_tags[0:99]"
   ]
  },
  {
   "cell_type": "code",
   "execution_count": 111,
   "id": "100d6f08",
   "metadata": {
    "scrolled": true
   },
   "outputs": [
    {
     "data": {
      "text/plain": [
       "['61% off',\n",
       " '84% off',\n",
       " '84% off',\n",
       " '76% off',\n",
       " '82% off',\n",
       " '70% off',\n",
       " '58% off',\n",
       " '55% off',\n",
       " '73% off',\n",
       " '64% off',\n",
       " '58% off',\n",
       " '76% off',\n",
       " '70% off',\n",
       " '59% off',\n",
       " '80% off',\n",
       " '77% off',\n",
       " '55% off',\n",
       " '60% off',\n",
       " '77% off',\n",
       " '63% off',\n",
       " '60% off',\n",
       " '60% off',\n",
       " '57% off',\n",
       " '60% off',\n",
       " '65% off',\n",
       " '60% off',\n",
       " '57% off',\n",
       " '80% off',\n",
       " '58% off',\n",
       " '10% off',\n",
       " '45% off',\n",
       " '60% off',\n",
       " '57% off',\n",
       " '78% off',\n",
       " '67% off',\n",
       " '73% off',\n",
       " '67% off',\n",
       " '70% off',\n",
       " '72% off']"
      ]
     },
     "execution_count": 111,
     "metadata": {},
     "output_type": "execute_result"
    }
   ],
   "source": [
    "for i in discount_tags:\n",
    "    text=i.text\n",
    "    discount.append(text)\n",
    "discount[0:99]"
   ]
  },
  {
   "cell_type": "code",
   "execution_count": 119,
   "id": "cbeefd31",
   "metadata": {},
   "outputs": [],
   "source": [
    "driver.close()"
   ]
  },
  {
   "cell_type": "markdown",
   "id": "ca423bc7",
   "metadata": {},
   "source": [
    "# 3) Go to the link - https://www.myntra.com/shoes Set Price filter to “Rs. 7149 to Rs. 14099 ” , Color filter to “Black”, as shown inthe below image. And then scrape First 100 shoes data you get. The data should include “Brand” of the shoes , Short Shoedescription, price of the shoe as shown in the below image."
   ]
  },
  {
   "cell_type": "code",
   "execution_count": 120,
   "id": "5f9035b9",
   "metadata": {},
   "outputs": [],
   "source": [
    "import selenium                              #library that is used to work with selenium.\n",
    "import pandas as pd                          #to create dataframe.\n",
    "from selenium import webdriver               #importing webdriver module from selenium to open up automated chrome windows.\n",
    "import warnings                              #to ignore any sort of warning.\n",
    "warnings.filterwarnings(\"ignore\")\n",
    "import time "
   ]
  },
  {
   "cell_type": "code",
   "execution_count": 121,
   "id": "ccee4e9d",
   "metadata": {},
   "outputs": [],
   "source": [
    "#Let us first connect to the web driver\n",
    "driver=webdriver.Chrome(\"chromedriver.exe\")\n",
    "time.sleep(2)"
   ]
  },
  {
   "cell_type": "code",
   "execution_count": 122,
   "id": "4e329a5f",
   "metadata": {},
   "outputs": [],
   "source": [
    "#opening up https://www.myntra.com/shoes website on automated chrome window\n",
    "driver.get(\"https://www.myntra.com/shoes\")"
   ]
  },
  {
   "cell_type": "code",
   "execution_count": 130,
   "id": "01667b12",
   "metadata": {},
   "outputs": [],
   "source": [
    "#Set Price filter to “Rs. 7074 to Rs. 14049\n",
    "price_filter=driver.find_element_by_xpath(\"/html/body/div[2]/div/div[1]/main/div[3]/div[1]/section/div/div[5]/ul/li[2]/label/div\")\n",
    "price_filter.click()"
   ]
  },
  {
   "cell_type": "code",
   "execution_count": 131,
   "id": "bc268eac",
   "metadata": {},
   "outputs": [],
   "source": [
    "#Set Color filter to “Black”,\n",
    "color_filter=driver.find_element_by_xpath(\"/html/body/div[2]/div/div[1]/main/div[3]/div[1]/section/div/div[6]/ul/li[1]/label/div\")\n",
    "color_filter.click()"
   ]
  },
  {
   "cell_type": "code",
   "execution_count": 132,
   "id": "250e7c9a",
   "metadata": {},
   "outputs": [],
   "source": [
    "Brand=[]"
   ]
  },
  {
   "cell_type": "code",
   "execution_count": 133,
   "id": "b185d6b3",
   "metadata": {
    "scrolled": true
   },
   "outputs": [
    {
     "data": {
      "text/plain": [
       "[<selenium.webdriver.remote.webelement.WebElement (session=\"ebdc013be5603748ac71c8c077fdb56e\", element=\"af332f2f-a4a6-40f5-8943-476342ab7631\")>,\n",
       " <selenium.webdriver.remote.webelement.WebElement (session=\"ebdc013be5603748ac71c8c077fdb56e\", element=\"00971554-86c3-4b97-b3b4-3ea23ece9789\")>,\n",
       " <selenium.webdriver.remote.webelement.WebElement (session=\"ebdc013be5603748ac71c8c077fdb56e\", element=\"7ca574e5-14b9-4539-8e47-88c5d7c77eed\")>,\n",
       " <selenium.webdriver.remote.webelement.WebElement (session=\"ebdc013be5603748ac71c8c077fdb56e\", element=\"ba523370-eea5-4cb6-9584-2d9578a9811d\")>,\n",
       " <selenium.webdriver.remote.webelement.WebElement (session=\"ebdc013be5603748ac71c8c077fdb56e\", element=\"68bf9e9d-afca-4639-9149-dbf643a9b883\")>,\n",
       " <selenium.webdriver.remote.webelement.WebElement (session=\"ebdc013be5603748ac71c8c077fdb56e\", element=\"c3a43686-2e8e-4ee2-ae94-0092c72f9810\")>,\n",
       " <selenium.webdriver.remote.webelement.WebElement (session=\"ebdc013be5603748ac71c8c077fdb56e\", element=\"ee523195-8b10-4269-94cc-959d5927aac7\")>,\n",
       " <selenium.webdriver.remote.webelement.WebElement (session=\"ebdc013be5603748ac71c8c077fdb56e\", element=\"2f721210-27be-4bf9-a6b9-6191fb48e037\")>,\n",
       " <selenium.webdriver.remote.webelement.WebElement (session=\"ebdc013be5603748ac71c8c077fdb56e\", element=\"1a8ca516-a1a2-44e2-966f-73e04cae7584\")>,\n",
       " <selenium.webdriver.remote.webelement.WebElement (session=\"ebdc013be5603748ac71c8c077fdb56e\", element=\"ab244085-7993-4621-ba81-1da6be25a72d\")>,\n",
       " <selenium.webdriver.remote.webelement.WebElement (session=\"ebdc013be5603748ac71c8c077fdb56e\", element=\"1db6d814-7b37-4b4a-8455-075bcb3142da\")>,\n",
       " <selenium.webdriver.remote.webelement.WebElement (session=\"ebdc013be5603748ac71c8c077fdb56e\", element=\"3e7a88b3-028e-4a0b-8dfe-6ab19356ae29\")>,\n",
       " <selenium.webdriver.remote.webelement.WebElement (session=\"ebdc013be5603748ac71c8c077fdb56e\", element=\"28dccaf3-f8b6-4b6e-8671-dc1e32af0256\")>,\n",
       " <selenium.webdriver.remote.webelement.WebElement (session=\"ebdc013be5603748ac71c8c077fdb56e\", element=\"ccaf9ec1-1081-4793-af72-cf7497dbac2e\")>,\n",
       " <selenium.webdriver.remote.webelement.WebElement (session=\"ebdc013be5603748ac71c8c077fdb56e\", element=\"97e4ef84-3ed4-4674-90b9-eb6421a4e39b\")>,\n",
       " <selenium.webdriver.remote.webelement.WebElement (session=\"ebdc013be5603748ac71c8c077fdb56e\", element=\"953ad4d8-9e45-42c7-b9af-85ed73b01756\")>,\n",
       " <selenium.webdriver.remote.webelement.WebElement (session=\"ebdc013be5603748ac71c8c077fdb56e\", element=\"22daaf2a-70ca-4052-b5ee-dbcc1429bf8e\")>,\n",
       " <selenium.webdriver.remote.webelement.WebElement (session=\"ebdc013be5603748ac71c8c077fdb56e\", element=\"3fc93abc-c61d-4ed5-bb69-6f8a88c3315f\")>,\n",
       " <selenium.webdriver.remote.webelement.WebElement (session=\"ebdc013be5603748ac71c8c077fdb56e\", element=\"9b07f633-dc44-4657-b5e8-d35dd7b81d11\")>,\n",
       " <selenium.webdriver.remote.webelement.WebElement (session=\"ebdc013be5603748ac71c8c077fdb56e\", element=\"56df8aa7-c5ae-4f70-a5e6-23263a298624\")>,\n",
       " <selenium.webdriver.remote.webelement.WebElement (session=\"ebdc013be5603748ac71c8c077fdb56e\", element=\"bf3870d3-a698-4845-841b-2c8a1e863f8c\")>,\n",
       " <selenium.webdriver.remote.webelement.WebElement (session=\"ebdc013be5603748ac71c8c077fdb56e\", element=\"88e5033a-120c-4475-8767-ddc1a2255472\")>,\n",
       " <selenium.webdriver.remote.webelement.WebElement (session=\"ebdc013be5603748ac71c8c077fdb56e\", element=\"08ed01c1-6c53-4eb9-8630-04e3f9c49868\")>,\n",
       " <selenium.webdriver.remote.webelement.WebElement (session=\"ebdc013be5603748ac71c8c077fdb56e\", element=\"11745eab-c401-4036-a56a-d2533c38d0e5\")>,\n",
       " <selenium.webdriver.remote.webelement.WebElement (session=\"ebdc013be5603748ac71c8c077fdb56e\", element=\"c6d6b2f2-1ef9-428c-bb48-6f63023a2ce4\")>,\n",
       " <selenium.webdriver.remote.webelement.WebElement (session=\"ebdc013be5603748ac71c8c077fdb56e\", element=\"b0f80cb0-ca21-4db0-afa7-a88180e1e407\")>,\n",
       " <selenium.webdriver.remote.webelement.WebElement (session=\"ebdc013be5603748ac71c8c077fdb56e\", element=\"6a796fd5-bc9d-4bf8-8c4d-e422d2264513\")>,\n",
       " <selenium.webdriver.remote.webelement.WebElement (session=\"ebdc013be5603748ac71c8c077fdb56e\", element=\"f3646f6b-78ec-4015-b3b5-6dac470cb0bd\")>,\n",
       " <selenium.webdriver.remote.webelement.WebElement (session=\"ebdc013be5603748ac71c8c077fdb56e\", element=\"a7aecb8c-68f9-4a38-9867-1bd3a1bcd703\")>,\n",
       " <selenium.webdriver.remote.webelement.WebElement (session=\"ebdc013be5603748ac71c8c077fdb56e\", element=\"f3a21077-55bb-4e65-813b-fdcac5a7290f\")>,\n",
       " <selenium.webdriver.remote.webelement.WebElement (session=\"ebdc013be5603748ac71c8c077fdb56e\", element=\"9571af83-7cd9-46b1-98c4-40eba6c8fe00\")>,\n",
       " <selenium.webdriver.remote.webelement.WebElement (session=\"ebdc013be5603748ac71c8c077fdb56e\", element=\"32971d22-1b9c-471f-a4a9-8c4eb8d5b277\")>,\n",
       " <selenium.webdriver.remote.webelement.WebElement (session=\"ebdc013be5603748ac71c8c077fdb56e\", element=\"26393fe4-85dd-490b-ba3b-533d4c0e98b9\")>,\n",
       " <selenium.webdriver.remote.webelement.WebElement (session=\"ebdc013be5603748ac71c8c077fdb56e\", element=\"3e054a77-e9c5-49e5-8e04-ee63ce0fa11c\")>,\n",
       " <selenium.webdriver.remote.webelement.WebElement (session=\"ebdc013be5603748ac71c8c077fdb56e\", element=\"aee45949-be51-485a-ac2e-a68267946aac\")>,\n",
       " <selenium.webdriver.remote.webelement.WebElement (session=\"ebdc013be5603748ac71c8c077fdb56e\", element=\"4a878060-ddba-40ac-a27d-e3de75ad34c3\")>,\n",
       " <selenium.webdriver.remote.webelement.WebElement (session=\"ebdc013be5603748ac71c8c077fdb56e\", element=\"1d407201-427c-4f93-9d99-0c1f20a01c90\")>,\n",
       " <selenium.webdriver.remote.webelement.WebElement (session=\"ebdc013be5603748ac71c8c077fdb56e\", element=\"80333f70-b555-4c70-a721-a2835739edaf\")>,\n",
       " <selenium.webdriver.remote.webelement.WebElement (session=\"ebdc013be5603748ac71c8c077fdb56e\", element=\"3eb91c1e-be26-4c92-94ea-d0a1d501964f\")>,\n",
       " <selenium.webdriver.remote.webelement.WebElement (session=\"ebdc013be5603748ac71c8c077fdb56e\", element=\"8b07688d-ad9d-457e-8828-944a7519dba0\")>,\n",
       " <selenium.webdriver.remote.webelement.WebElement (session=\"ebdc013be5603748ac71c8c077fdb56e\", element=\"82bbad62-aeb1-46d4-85dc-a77ca27c47c2\")>,\n",
       " <selenium.webdriver.remote.webelement.WebElement (session=\"ebdc013be5603748ac71c8c077fdb56e\", element=\"db78e422-5c45-4cd5-a4d8-347015a1b6c8\")>,\n",
       " <selenium.webdriver.remote.webelement.WebElement (session=\"ebdc013be5603748ac71c8c077fdb56e\", element=\"97b44633-c86a-4d7f-88b2-38565118885c\")>,\n",
       " <selenium.webdriver.remote.webelement.WebElement (session=\"ebdc013be5603748ac71c8c077fdb56e\", element=\"902308d8-44af-4064-9487-d483b2a9ea15\")>,\n",
       " <selenium.webdriver.remote.webelement.WebElement (session=\"ebdc013be5603748ac71c8c077fdb56e\", element=\"2bd58f50-1ebe-437c-b30c-3ec8f8101ee3\")>,\n",
       " <selenium.webdriver.remote.webelement.WebElement (session=\"ebdc013be5603748ac71c8c077fdb56e\", element=\"ffe7faca-8b04-4573-93b5-211e9a1a3ee1\")>,\n",
       " <selenium.webdriver.remote.webelement.WebElement (session=\"ebdc013be5603748ac71c8c077fdb56e\", element=\"b10b3351-cef8-4c25-9b2d-60f343167e7e\")>,\n",
       " <selenium.webdriver.remote.webelement.WebElement (session=\"ebdc013be5603748ac71c8c077fdb56e\", element=\"103b8921-6f89-4c3d-804e-30f24c81fa5c\")>,\n",
       " <selenium.webdriver.remote.webelement.WebElement (session=\"ebdc013be5603748ac71c8c077fdb56e\", element=\"0a7124ea-8907-4697-bb9e-4dd5c3271964\")>,\n",
       " <selenium.webdriver.remote.webelement.WebElement (session=\"ebdc013be5603748ac71c8c077fdb56e\", element=\"76a94565-2469-4322-ace9-6bd2e201622c\")>]"
      ]
     },
     "execution_count": 133,
     "metadata": {},
     "output_type": "execute_result"
    }
   ],
   "source": [
    "Brand_tags=driver.find_elements_by_xpath(\"//h3[@class='product-brand']\")\n",
    "Brand_tags[0:99]"
   ]
  },
  {
   "cell_type": "code",
   "execution_count": 135,
   "id": "13b79647",
   "metadata": {
    "scrolled": true
   },
   "outputs": [
    {
     "data": {
      "text/plain": [
       "['Skechers',\n",
       " 'ALDO',\n",
       " 'Nike',\n",
       " 'UNDER ARMOUR',\n",
       " 'Nike',\n",
       " 'ADIDAS Originals',\n",
       " 'ALDO',\n",
       " 'ALDO',\n",
       " 'Nike',\n",
       " 'Skechers',\n",
       " 'Puma',\n",
       " 'DAVINCHI',\n",
       " 'PUMA Motorsport',\n",
       " 'ALDO',\n",
       " 'UNDER ARMOUR',\n",
       " 'Skechers',\n",
       " 'ADIDAS Originals',\n",
       " 'Puma',\n",
       " 'Nike',\n",
       " 'UNDER ARMOUR',\n",
       " 'Puma',\n",
       " 'UNDER ARMOUR',\n",
       " 'UNDER ARMOUR',\n",
       " 'Puma',\n",
       " 'Nike',\n",
       " 'Puma',\n",
       " 'Puma',\n",
       " 'Puma',\n",
       " 'Tommy Hilfiger',\n",
       " 'Puma',\n",
       " 'Reebok',\n",
       " 'UNDER ARMOUR',\n",
       " 'UNDER ARMOUR',\n",
       " 'PUMA Motorsport',\n",
       " 'Reebok',\n",
       " 'Puma',\n",
       " 'Tommy Hilfiger',\n",
       " 'Puma',\n",
       " 'Puma',\n",
       " 'ADIDAS',\n",
       " 'Louis Philippe',\n",
       " 'Bugatti',\n",
       " 'Hush Puppies',\n",
       " 'Hush Puppies',\n",
       " 'DAVINCHI',\n",
       " 'Puma',\n",
       " 'Bugatti',\n",
       " 'DEL MONDO',\n",
       " 'Louis Philippe',\n",
       " 'ASICS',\n",
       " 'Skechers',\n",
       " 'ALDO',\n",
       " 'Nike',\n",
       " 'UNDER ARMOUR',\n",
       " 'Nike',\n",
       " 'ADIDAS Originals',\n",
       " 'ALDO',\n",
       " 'ALDO',\n",
       " 'Nike',\n",
       " 'Skechers',\n",
       " 'Puma',\n",
       " 'DAVINCHI',\n",
       " 'PUMA Motorsport',\n",
       " 'ALDO',\n",
       " 'UNDER ARMOUR',\n",
       " 'Skechers',\n",
       " 'ADIDAS Originals',\n",
       " 'Puma',\n",
       " 'Nike',\n",
       " 'UNDER ARMOUR',\n",
       " 'Puma',\n",
       " 'UNDER ARMOUR',\n",
       " 'UNDER ARMOUR',\n",
       " 'Puma',\n",
       " 'Nike',\n",
       " 'Puma',\n",
       " 'Puma',\n",
       " 'Puma',\n",
       " 'Tommy Hilfiger',\n",
       " 'Puma',\n",
       " 'Reebok',\n",
       " 'UNDER ARMOUR',\n",
       " 'UNDER ARMOUR',\n",
       " 'PUMA Motorsport',\n",
       " 'Reebok',\n",
       " 'Puma',\n",
       " 'Tommy Hilfiger',\n",
       " 'Puma',\n",
       " 'Puma',\n",
       " 'ADIDAS',\n",
       " 'Louis Philippe',\n",
       " 'Bugatti',\n",
       " 'Hush Puppies',\n",
       " 'Hush Puppies',\n",
       " 'DAVINCHI',\n",
       " 'Puma',\n",
       " 'Bugatti',\n",
       " 'DEL MONDO',\n",
       " 'Louis Philippe']"
      ]
     },
     "execution_count": 135,
     "metadata": {},
     "output_type": "execute_result"
    }
   ],
   "source": [
    "for i in Brand_tags:\n",
    "    text=i.text\n",
    "    Brands.append(text)\n",
    "Brands[0:99]"
   ]
  },
  {
   "cell_type": "code",
   "execution_count": 145,
   "id": "18d45b4c",
   "metadata": {},
   "outputs": [],
   "source": [
    "Description=[]"
   ]
  },
  {
   "cell_type": "code",
   "execution_count": 146,
   "id": "7c05730a",
   "metadata": {
    "scrolled": true
   },
   "outputs": [
    {
     "data": {
      "text/plain": [
       "[<selenium.webdriver.remote.webelement.WebElement (session=\"ebdc013be5603748ac71c8c077fdb56e\", element=\"7ce066a5-e9ee-4519-ad0e-39809d67ce7b\")>,\n",
       " <selenium.webdriver.remote.webelement.WebElement (session=\"ebdc013be5603748ac71c8c077fdb56e\", element=\"248bd2fa-cb77-42ab-b8a6-8fa667017c2d\")>,\n",
       " <selenium.webdriver.remote.webelement.WebElement (session=\"ebdc013be5603748ac71c8c077fdb56e\", element=\"13a92646-0e15-4fa2-949a-25895123eac6\")>,\n",
       " <selenium.webdriver.remote.webelement.WebElement (session=\"ebdc013be5603748ac71c8c077fdb56e\", element=\"5c4e4e58-4caa-42ac-881a-43076c17c487\")>,\n",
       " <selenium.webdriver.remote.webelement.WebElement (session=\"ebdc013be5603748ac71c8c077fdb56e\", element=\"d88c664c-2c62-433c-adaa-d477c549724a\")>,\n",
       " <selenium.webdriver.remote.webelement.WebElement (session=\"ebdc013be5603748ac71c8c077fdb56e\", element=\"3eccab25-c2e7-4f8e-94fe-6c20b326a765\")>,\n",
       " <selenium.webdriver.remote.webelement.WebElement (session=\"ebdc013be5603748ac71c8c077fdb56e\", element=\"9668cd73-dc37-47a7-a628-165f2ce39123\")>,\n",
       " <selenium.webdriver.remote.webelement.WebElement (session=\"ebdc013be5603748ac71c8c077fdb56e\", element=\"593a0c8c-8e12-4dde-980c-3970940115b5\")>,\n",
       " <selenium.webdriver.remote.webelement.WebElement (session=\"ebdc013be5603748ac71c8c077fdb56e\", element=\"5cec5abd-8c66-4864-9018-a066fc66c66d\")>,\n",
       " <selenium.webdriver.remote.webelement.WebElement (session=\"ebdc013be5603748ac71c8c077fdb56e\", element=\"89117cb5-7184-4399-aff8-08ab2412c897\")>,\n",
       " <selenium.webdriver.remote.webelement.WebElement (session=\"ebdc013be5603748ac71c8c077fdb56e\", element=\"7b5868fa-f6a8-4c56-8a8c-b0a77d1542c5\")>,\n",
       " <selenium.webdriver.remote.webelement.WebElement (session=\"ebdc013be5603748ac71c8c077fdb56e\", element=\"eaeaee2e-1f7d-472a-b8d2-118fc9bab8b0\")>,\n",
       " <selenium.webdriver.remote.webelement.WebElement (session=\"ebdc013be5603748ac71c8c077fdb56e\", element=\"059fde80-b8c0-4adb-9cb4-15819d06bac1\")>,\n",
       " <selenium.webdriver.remote.webelement.WebElement (session=\"ebdc013be5603748ac71c8c077fdb56e\", element=\"4025f779-52a2-401f-8279-98b2200e9deb\")>,\n",
       " <selenium.webdriver.remote.webelement.WebElement (session=\"ebdc013be5603748ac71c8c077fdb56e\", element=\"061bcf4e-7f57-47d4-a415-f5f2f7faac92\")>,\n",
       " <selenium.webdriver.remote.webelement.WebElement (session=\"ebdc013be5603748ac71c8c077fdb56e\", element=\"5fd14714-8d60-4ac8-85dc-bd38eac19c13\")>,\n",
       " <selenium.webdriver.remote.webelement.WebElement (session=\"ebdc013be5603748ac71c8c077fdb56e\", element=\"8617b55f-4ca4-457a-bbd6-e99adaf7a555\")>,\n",
       " <selenium.webdriver.remote.webelement.WebElement (session=\"ebdc013be5603748ac71c8c077fdb56e\", element=\"c4259a0e-45e5-4e6d-bc64-f5d554b75439\")>,\n",
       " <selenium.webdriver.remote.webelement.WebElement (session=\"ebdc013be5603748ac71c8c077fdb56e\", element=\"b8b5e1d9-05ae-4b0f-8232-9fd09871b515\")>,\n",
       " <selenium.webdriver.remote.webelement.WebElement (session=\"ebdc013be5603748ac71c8c077fdb56e\", element=\"8f78cd0a-9a8f-45a0-b5de-8a7367fd85bf\")>,\n",
       " <selenium.webdriver.remote.webelement.WebElement (session=\"ebdc013be5603748ac71c8c077fdb56e\", element=\"d5280c52-fd99-4c4a-8332-7f109830fcdd\")>,\n",
       " <selenium.webdriver.remote.webelement.WebElement (session=\"ebdc013be5603748ac71c8c077fdb56e\", element=\"3025b6c7-3cd5-439a-98c7-98e70e5992b4\")>,\n",
       " <selenium.webdriver.remote.webelement.WebElement (session=\"ebdc013be5603748ac71c8c077fdb56e\", element=\"d67a83b3-71fc-4be5-8e0f-e6869e3e8e25\")>,\n",
       " <selenium.webdriver.remote.webelement.WebElement (session=\"ebdc013be5603748ac71c8c077fdb56e\", element=\"286e5a1d-84e9-4367-9b9a-f5a5b0093c6d\")>,\n",
       " <selenium.webdriver.remote.webelement.WebElement (session=\"ebdc013be5603748ac71c8c077fdb56e\", element=\"580a7218-1229-4b2b-a1b4-f1d1d1493cb4\")>,\n",
       " <selenium.webdriver.remote.webelement.WebElement (session=\"ebdc013be5603748ac71c8c077fdb56e\", element=\"25af53ac-b454-4f37-95d1-b5ffcf5064e0\")>,\n",
       " <selenium.webdriver.remote.webelement.WebElement (session=\"ebdc013be5603748ac71c8c077fdb56e\", element=\"f34fa667-33bd-42d0-8d1a-1e24a4ad7db3\")>,\n",
       " <selenium.webdriver.remote.webelement.WebElement (session=\"ebdc013be5603748ac71c8c077fdb56e\", element=\"ecac8568-002c-4e18-88fe-0f4e342640b2\")>,\n",
       " <selenium.webdriver.remote.webelement.WebElement (session=\"ebdc013be5603748ac71c8c077fdb56e\", element=\"541653fe-49bb-460e-b0ce-9e635e4120eb\")>,\n",
       " <selenium.webdriver.remote.webelement.WebElement (session=\"ebdc013be5603748ac71c8c077fdb56e\", element=\"4424603c-0edb-4229-bf1b-d29c92b64fed\")>,\n",
       " <selenium.webdriver.remote.webelement.WebElement (session=\"ebdc013be5603748ac71c8c077fdb56e\", element=\"1892a0b2-1f2e-4e42-a74e-f6cdb4961c77\")>,\n",
       " <selenium.webdriver.remote.webelement.WebElement (session=\"ebdc013be5603748ac71c8c077fdb56e\", element=\"0434c6b7-b643-44a5-8136-fa345eccab47\")>,\n",
       " <selenium.webdriver.remote.webelement.WebElement (session=\"ebdc013be5603748ac71c8c077fdb56e\", element=\"9aa94894-7a8d-48cc-94b7-53751ff61242\")>,\n",
       " <selenium.webdriver.remote.webelement.WebElement (session=\"ebdc013be5603748ac71c8c077fdb56e\", element=\"657530ee-516a-4655-92ae-05a9770a389a\")>,\n",
       " <selenium.webdriver.remote.webelement.WebElement (session=\"ebdc013be5603748ac71c8c077fdb56e\", element=\"667000b6-4df7-4edf-b305-1d41efadfbc6\")>,\n",
       " <selenium.webdriver.remote.webelement.WebElement (session=\"ebdc013be5603748ac71c8c077fdb56e\", element=\"7efd687e-8fb9-492d-a0f6-57a66f200481\")>,\n",
       " <selenium.webdriver.remote.webelement.WebElement (session=\"ebdc013be5603748ac71c8c077fdb56e\", element=\"807f7dde-f3a1-451c-9ee2-11515c29209e\")>,\n",
       " <selenium.webdriver.remote.webelement.WebElement (session=\"ebdc013be5603748ac71c8c077fdb56e\", element=\"a3536d6a-2e83-451f-a118-cc935c34a49f\")>,\n",
       " <selenium.webdriver.remote.webelement.WebElement (session=\"ebdc013be5603748ac71c8c077fdb56e\", element=\"f56cc806-7a2a-4a1e-8218-74f13f6f93bd\")>,\n",
       " <selenium.webdriver.remote.webelement.WebElement (session=\"ebdc013be5603748ac71c8c077fdb56e\", element=\"e2668fc8-c4f8-47cb-ae7b-86497c4a5a12\")>,\n",
       " <selenium.webdriver.remote.webelement.WebElement (session=\"ebdc013be5603748ac71c8c077fdb56e\", element=\"7b5633a1-54da-4d8e-ad86-763de0df27a3\")>,\n",
       " <selenium.webdriver.remote.webelement.WebElement (session=\"ebdc013be5603748ac71c8c077fdb56e\", element=\"0421badc-9edd-4e30-8946-760fd13d85ae\")>,\n",
       " <selenium.webdriver.remote.webelement.WebElement (session=\"ebdc013be5603748ac71c8c077fdb56e\", element=\"0ff1ef5a-1698-4b5d-8ddd-dc58022c1b31\")>,\n",
       " <selenium.webdriver.remote.webelement.WebElement (session=\"ebdc013be5603748ac71c8c077fdb56e\", element=\"3dfdf910-1078-4900-962e-c7a71a5cf49e\")>,\n",
       " <selenium.webdriver.remote.webelement.WebElement (session=\"ebdc013be5603748ac71c8c077fdb56e\", element=\"fc2555b4-0d08-493f-bd2a-b5588373e11e\")>,\n",
       " <selenium.webdriver.remote.webelement.WebElement (session=\"ebdc013be5603748ac71c8c077fdb56e\", element=\"189c8da5-2b09-44d7-8896-acf76e1bcaa8\")>,\n",
       " <selenium.webdriver.remote.webelement.WebElement (session=\"ebdc013be5603748ac71c8c077fdb56e\", element=\"34a382ef-de2b-4dd5-870c-8ceee0f18650\")>,\n",
       " <selenium.webdriver.remote.webelement.WebElement (session=\"ebdc013be5603748ac71c8c077fdb56e\", element=\"2e22c8b5-fbe1-4188-81db-0c539f331cfc\")>,\n",
       " <selenium.webdriver.remote.webelement.WebElement (session=\"ebdc013be5603748ac71c8c077fdb56e\", element=\"9321c164-59de-4479-846e-56b9644cfe84\")>,\n",
       " <selenium.webdriver.remote.webelement.WebElement (session=\"ebdc013be5603748ac71c8c077fdb56e\", element=\"d19afefa-2013-4890-96a5-e81e2e3b92a9\")>]"
      ]
     },
     "execution_count": 146,
     "metadata": {},
     "output_type": "execute_result"
    }
   ],
   "source": [
    "description_tags=driver.find_elements_by_xpath(\"//h4[@class='product-product']\")\n",
    "description_tags[0:99]"
   ]
  },
  {
   "cell_type": "code",
   "execution_count": 147,
   "id": "38732280",
   "metadata": {
    "scrolled": true
   },
   "outputs": [
    {
     "data": {
      "text/plain": [
       "['Men Max Cushioning Running',\n",
       " 'Men Sneakers',\n",
       " 'Men React Miler2 Running Shoes',\n",
       " 'Men Charged Rouge 3 Run Shoes',\n",
       " 'Women React MR 3 Running Shoes',\n",
       " 'Men Niteball II Sneakers',\n",
       " 'Men Woven Design Sneakers',\n",
       " 'Men Leather Driving Shoes',\n",
       " 'Men AIR MAX EXCEE Sneakers',\n",
       " 'Men MAX CUSHIONING ELITE-LUCID',\n",
       " 'Electrify Nitro Running Shoes',\n",
       " 'Men Textured Formal Leather Loafers',\n",
       " 'Unisex Ferrari IONSpeed',\n",
       " 'Men Leather Loafers',\n",
       " 'Project Rock Training shoes',\n",
       " 'Men Sky Vault Walking Shoes',\n",
       " 'Men Solid Ozweego Sneakers',\n",
       " 'Mirage Sport Hacked Sneakers',\n",
       " 'Men Air Max Dawn Sneakers',\n",
       " 'Men UA Charged Vantage 2 Run',\n",
       " 'Men Jamming 2.0 Running Shoes',\n",
       " 'Men Charged Breeze Running',\n",
       " 'Women Breeze Running Shoes',\n",
       " 'Men Voyage Nitro Running Shoes',\n",
       " 'Men AIR MAX PRE-DAY Sneakers',\n",
       " 'Eternity Nitro Running Shoes',\n",
       " 'Unisex Leather Trainers',\n",
       " 'Men D Nitro WTR Running Shoes',\n",
       " 'Men Leather Sneakers',\n",
       " 'Men M Nitro Running Shoess',\n",
       " 'Men Zig Dynamica 2.0 Running',\n",
       " 'Women Charged Vantage 2 Run',\n",
       " 'Men UA TriBase Reign4 Training',\n",
       " 'Men ZenonSpeed Sneakers',\n",
       " 'Men Zig Dynamica 3.0 Running',\n",
       " 'Men Velocity Nitro Running',\n",
       " 'Men Textured Loafers',\n",
       " 'Men Golf Shoes',\n",
       " 'Men Voyage Nitro Running Shoes',\n",
       " 'Men Dropset Training Shoes',\n",
       " 'Men Solid Leather Formal Loafers',\n",
       " 'Men Black Walking Shoes',\n",
       " 'Men Solid Leather Formal Slip-Ons',\n",
       " 'Men Solid Leather Formal Derbys',\n",
       " 'Men Solid Leather Formal Loafers',\n",
       " 'Men KING Top Football Shoes',\n",
       " 'Men Textured Leather High-Top Flat Boots',\n",
       " 'Men Leather Sneakers',\n",
       " 'Men Textured Leather Loafers',\n",
       " 'Men Running Shoes']"
      ]
     },
     "execution_count": 147,
     "metadata": {},
     "output_type": "execute_result"
    }
   ],
   "source": [
    "for i in description_tags:\n",
    "    text=i.text\n",
    "    Description.append(text)\n",
    "Description[0:99]"
   ]
  },
  {
   "cell_type": "code",
   "execution_count": 148,
   "id": "93a6cb82",
   "metadata": {},
   "outputs": [],
   "source": [
    "Price=[]"
   ]
  },
  {
   "cell_type": "code",
   "execution_count": 149,
   "id": "791f1926",
   "metadata": {
    "scrolled": true
   },
   "outputs": [
    {
     "data": {
      "text/plain": [
       "[<selenium.webdriver.remote.webelement.WebElement (session=\"ebdc013be5603748ac71c8c077fdb56e\", element=\"3e64fc6b-0b74-4066-b37d-32edf2ec575b\")>,\n",
       " <selenium.webdriver.remote.webelement.WebElement (session=\"ebdc013be5603748ac71c8c077fdb56e\", element=\"5d91bc80-8e4d-4c2e-945d-0e74a1bfc070\")>,\n",
       " <selenium.webdriver.remote.webelement.WebElement (session=\"ebdc013be5603748ac71c8c077fdb56e\", element=\"48756566-1650-4000-92b9-59d754e2dada\")>,\n",
       " <selenium.webdriver.remote.webelement.WebElement (session=\"ebdc013be5603748ac71c8c077fdb56e\", element=\"4dd0fc02-c49b-43c5-82db-3c906cfc2abd\")>,\n",
       " <selenium.webdriver.remote.webelement.WebElement (session=\"ebdc013be5603748ac71c8c077fdb56e\", element=\"cdaceeb3-757a-4dc7-b08c-b6a7fff4c39a\")>,\n",
       " <selenium.webdriver.remote.webelement.WebElement (session=\"ebdc013be5603748ac71c8c077fdb56e\", element=\"16c840e5-4ede-4ee9-8ce9-52f184c4f376\")>,\n",
       " <selenium.webdriver.remote.webelement.WebElement (session=\"ebdc013be5603748ac71c8c077fdb56e\", element=\"6a451e52-7583-4794-9bfb-2a80bf8c8a76\")>,\n",
       " <selenium.webdriver.remote.webelement.WebElement (session=\"ebdc013be5603748ac71c8c077fdb56e\", element=\"a853f3f0-89a7-46cc-9a1c-6a4bf7e43464\")>,\n",
       " <selenium.webdriver.remote.webelement.WebElement (session=\"ebdc013be5603748ac71c8c077fdb56e\", element=\"534c59bb-ba7a-4c43-a270-f18be22ad285\")>,\n",
       " <selenium.webdriver.remote.webelement.WebElement (session=\"ebdc013be5603748ac71c8c077fdb56e\", element=\"f41474d4-ca87-4e89-9663-d554f54ad02d\")>,\n",
       " <selenium.webdriver.remote.webelement.WebElement (session=\"ebdc013be5603748ac71c8c077fdb56e\", element=\"f3c5e9b3-e8ad-47b6-ab26-b3c49b73e999\")>,\n",
       " <selenium.webdriver.remote.webelement.WebElement (session=\"ebdc013be5603748ac71c8c077fdb56e\", element=\"c1ce7933-b65f-49ae-a5c7-52812ee3d72e\")>,\n",
       " <selenium.webdriver.remote.webelement.WebElement (session=\"ebdc013be5603748ac71c8c077fdb56e\", element=\"fa7a1a68-a00b-40b0-895e-3bd22e2fc2a9\")>,\n",
       " <selenium.webdriver.remote.webelement.WebElement (session=\"ebdc013be5603748ac71c8c077fdb56e\", element=\"900b5627-25f1-4c59-a1c8-70cd7bdf58c6\")>,\n",
       " <selenium.webdriver.remote.webelement.WebElement (session=\"ebdc013be5603748ac71c8c077fdb56e\", element=\"47ae9ca2-e063-4c4d-a9e4-a87b00620576\")>,\n",
       " <selenium.webdriver.remote.webelement.WebElement (session=\"ebdc013be5603748ac71c8c077fdb56e\", element=\"5b097e64-7162-4a92-848c-157b30a1acfc\")>,\n",
       " <selenium.webdriver.remote.webelement.WebElement (session=\"ebdc013be5603748ac71c8c077fdb56e\", element=\"04a88af3-a536-40a4-8c99-665ce4028063\")>,\n",
       " <selenium.webdriver.remote.webelement.WebElement (session=\"ebdc013be5603748ac71c8c077fdb56e\", element=\"5d018c3a-9705-43a5-a617-86580b557c3c\")>,\n",
       " <selenium.webdriver.remote.webelement.WebElement (session=\"ebdc013be5603748ac71c8c077fdb56e\", element=\"3645d03c-aee0-4990-a2bf-1450fea3e263\")>,\n",
       " <selenium.webdriver.remote.webelement.WebElement (session=\"ebdc013be5603748ac71c8c077fdb56e\", element=\"3e25c7ad-d779-4a57-bbce-43c3e7559290\")>,\n",
       " <selenium.webdriver.remote.webelement.WebElement (session=\"ebdc013be5603748ac71c8c077fdb56e\", element=\"0dd11560-bbb7-4f3f-9701-cea0067055d7\")>,\n",
       " <selenium.webdriver.remote.webelement.WebElement (session=\"ebdc013be5603748ac71c8c077fdb56e\", element=\"d04b751b-9a48-4bdc-bb97-398dee05f73b\")>,\n",
       " <selenium.webdriver.remote.webelement.WebElement (session=\"ebdc013be5603748ac71c8c077fdb56e\", element=\"230e9f0c-1819-41c4-bdfa-ea55ff05afd7\")>,\n",
       " <selenium.webdriver.remote.webelement.WebElement (session=\"ebdc013be5603748ac71c8c077fdb56e\", element=\"0ba60a3f-1a36-4986-bdc6-f47d961af2e7\")>,\n",
       " <selenium.webdriver.remote.webelement.WebElement (session=\"ebdc013be5603748ac71c8c077fdb56e\", element=\"822f1eca-a868-4777-b662-8c24cc7d5e43\")>,\n",
       " <selenium.webdriver.remote.webelement.WebElement (session=\"ebdc013be5603748ac71c8c077fdb56e\", element=\"099ca7b9-21c9-4bee-9c70-76497dbc3eee\")>,\n",
       " <selenium.webdriver.remote.webelement.WebElement (session=\"ebdc013be5603748ac71c8c077fdb56e\", element=\"c611b9ee-d490-4e27-a28b-ceb9b0d76ea5\")>,\n",
       " <selenium.webdriver.remote.webelement.WebElement (session=\"ebdc013be5603748ac71c8c077fdb56e\", element=\"2de426b7-5fbd-4f01-be97-95caedbd3452\")>,\n",
       " <selenium.webdriver.remote.webelement.WebElement (session=\"ebdc013be5603748ac71c8c077fdb56e\", element=\"873ad98b-b6bc-42bc-86a0-562efe9d02d5\")>,\n",
       " <selenium.webdriver.remote.webelement.WebElement (session=\"ebdc013be5603748ac71c8c077fdb56e\", element=\"8c66fc98-180d-4438-a7d7-31b24c812143\")>,\n",
       " <selenium.webdriver.remote.webelement.WebElement (session=\"ebdc013be5603748ac71c8c077fdb56e\", element=\"038e484c-a8c1-4774-8724-6587db618ef5\")>,\n",
       " <selenium.webdriver.remote.webelement.WebElement (session=\"ebdc013be5603748ac71c8c077fdb56e\", element=\"8369835d-9202-45f1-bed3-db9f38615e38\")>,\n",
       " <selenium.webdriver.remote.webelement.WebElement (session=\"ebdc013be5603748ac71c8c077fdb56e\", element=\"e92040df-b7e1-4c24-9f41-88a6f6537943\")>,\n",
       " <selenium.webdriver.remote.webelement.WebElement (session=\"ebdc013be5603748ac71c8c077fdb56e\", element=\"3cc6ffc1-c454-4073-b5dd-c368172144e0\")>,\n",
       " <selenium.webdriver.remote.webelement.WebElement (session=\"ebdc013be5603748ac71c8c077fdb56e\", element=\"d101b83e-0ac5-45b2-8977-9223ca1ff585\")>,\n",
       " <selenium.webdriver.remote.webelement.WebElement (session=\"ebdc013be5603748ac71c8c077fdb56e\", element=\"e94dcacf-3e75-4eb0-b34b-17b1ec527f56\")>,\n",
       " <selenium.webdriver.remote.webelement.WebElement (session=\"ebdc013be5603748ac71c8c077fdb56e\", element=\"85486e24-a4bc-4ac0-9d14-86ac50b129b6\")>,\n",
       " <selenium.webdriver.remote.webelement.WebElement (session=\"ebdc013be5603748ac71c8c077fdb56e\", element=\"b0230580-84ec-4db0-89e5-e6403e38d834\")>,\n",
       " <selenium.webdriver.remote.webelement.WebElement (session=\"ebdc013be5603748ac71c8c077fdb56e\", element=\"f29259d5-bd28-4592-b344-fc71422a541d\")>,\n",
       " <selenium.webdriver.remote.webelement.WebElement (session=\"ebdc013be5603748ac71c8c077fdb56e\", element=\"c6511a68-7920-4d1c-8f11-860c2fdb785c\")>,\n",
       " <selenium.webdriver.remote.webelement.WebElement (session=\"ebdc013be5603748ac71c8c077fdb56e\", element=\"45cd8a4b-e387-4734-92ed-775b1c1144db\")>,\n",
       " <selenium.webdriver.remote.webelement.WebElement (session=\"ebdc013be5603748ac71c8c077fdb56e\", element=\"c563ba5f-0bb4-4b51-a1a6-163623ebe033\")>,\n",
       " <selenium.webdriver.remote.webelement.WebElement (session=\"ebdc013be5603748ac71c8c077fdb56e\", element=\"576c4ad7-49fb-40a7-9ca6-7c63d056ca5e\")>,\n",
       " <selenium.webdriver.remote.webelement.WebElement (session=\"ebdc013be5603748ac71c8c077fdb56e\", element=\"dee2dc37-9311-4ec6-bace-6842e9f91179\")>,\n",
       " <selenium.webdriver.remote.webelement.WebElement (session=\"ebdc013be5603748ac71c8c077fdb56e\", element=\"d5f84d3b-e898-4c43-98c2-db53c1d154d1\")>,\n",
       " <selenium.webdriver.remote.webelement.WebElement (session=\"ebdc013be5603748ac71c8c077fdb56e\", element=\"89cff78f-0c24-4341-a5d4-9716406cb344\")>,\n",
       " <selenium.webdriver.remote.webelement.WebElement (session=\"ebdc013be5603748ac71c8c077fdb56e\", element=\"425254a0-83c2-4350-a3d3-aac2cb0e43cc\")>,\n",
       " <selenium.webdriver.remote.webelement.WebElement (session=\"ebdc013be5603748ac71c8c077fdb56e\", element=\"a9510bd8-c7a0-406f-bc5e-db928cc31b88\")>,\n",
       " <selenium.webdriver.remote.webelement.WebElement (session=\"ebdc013be5603748ac71c8c077fdb56e\", element=\"79b6dd0a-fc74-400a-bafb-f72339e25d87\")>,\n",
       " <selenium.webdriver.remote.webelement.WebElement (session=\"ebdc013be5603748ac71c8c077fdb56e\", element=\"fad170ad-728c-413c-8a9b-295abd0eda3a\")>]"
      ]
     },
     "execution_count": 149,
     "metadata": {},
     "output_type": "execute_result"
    }
   ],
   "source": [
    "price_tags=driver.find_elements_by_xpath(\"//div[@class='product-price']\")\n",
    "price_tags[0:99]"
   ]
  },
  {
   "cell_type": "code",
   "execution_count": 150,
   "id": "7bcc810b",
   "metadata": {
    "scrolled": true
   },
   "outputs": [
    {
     "data": {
      "text/plain": [
       "['Rs. 7199Rs. 8999(20% OFF)',\n",
       " 'Rs. 9999',\n",
       " 'Rs. 11495',\n",
       " 'Rs. 7999',\n",
       " 'Rs. 8920Rs. 10495(15% OFF)',\n",
       " 'Rs. 9349Rs. 10999(15% OFF)',\n",
       " 'Rs. 13999',\n",
       " 'Rs. 12999',\n",
       " 'Rs. 7995',\n",
       " 'Rs. 7599Rs. 9499(20% OFF)',\n",
       " 'Rs. 8499Rs. 9999(15% OFF)',\n",
       " 'Rs. 8990',\n",
       " 'Rs. 7199Rs. 8999(20% OFF)',\n",
       " 'Rs. 12999',\n",
       " 'Rs. 9999',\n",
       " 'Rs. 7199Rs. 8999(20% OFF)',\n",
       " 'Rs. 9349Rs. 10999(15% OFF)',\n",
       " 'Rs. 7199Rs. 8999(20% OFF)',\n",
       " 'Rs. 9295',\n",
       " 'Rs. 7999',\n",
       " 'Rs. 9749Rs. 12999(25% OFF)',\n",
       " 'Rs. 8999',\n",
       " 'Rs. 8999',\n",
       " 'Rs. 8799Rs. 10999(20% OFF)',\n",
       " 'Rs. 13995',\n",
       " 'Rs. 10399Rs. 12999(20% OFF)',\n",
       " 'Rs. 7999Rs. 9999(20% OFF)',\n",
       " 'Rs. 12799Rs. 15999(20% OFF)',\n",
       " 'Rs. 7309Rs. 8599(15% OFF)',\n",
       " 'Rs. 10399Rs. 12999(20% OFF)',\n",
       " 'Rs. 7999',\n",
       " 'Rs. 7999',\n",
       " 'Rs. 11999',\n",
       " 'Rs. 7649Rs. 8999(15% OFF)',\n",
       " 'Rs. 7999',\n",
       " 'Rs. 9599Rs. 11999(20% OFF)',\n",
       " 'Rs. 8999',\n",
       " 'Rs. 7649Rs. 8999(15% OFF)',\n",
       " 'Rs. 8799Rs. 10999(20% OFF)',\n",
       " 'Rs. 12999',\n",
       " 'Rs. 9999',\n",
       " 'Rs. 8999',\n",
       " 'Rs. 7649Rs. 8999(15% OFF)',\n",
       " 'Rs. 9999',\n",
       " 'Rs. 8490',\n",
       " 'Rs. 9599Rs. 11999(20% OFF)',\n",
       " 'Rs. 8399Rs. 11999(30% OFF)',\n",
       " 'Rs. 7890',\n",
       " 'Rs. 9999',\n",
       " 'Rs. 7999']"
      ]
     },
     "execution_count": 150,
     "metadata": {},
     "output_type": "execute_result"
    }
   ],
   "source": [
    "for i in price_tags:\n",
    "    text=i.text\n",
    "    Price.append(text)\n",
    "Price[0:99]"
   ]
  },
  {
   "cell_type": "code",
   "execution_count": 151,
   "id": "d684396f",
   "metadata": {},
   "outputs": [],
   "source": [
    "driver.close()"
   ]
  },
  {
   "cell_type": "markdown",
   "id": "732509e7",
   "metadata": {},
   "source": [
    " # 4) Go to webpage https://www.amazon.in/ Enter “Laptop” in the search field and then click the search icon.Then set CPU Type filter to “Intel Core i7” and “Intel Core i9” as shown in the below image:"
   ]
  },
  {
   "cell_type": "code",
   "execution_count": 218,
   "id": "f4e14974",
   "metadata": {},
   "outputs": [],
   "source": [
    "import selenium                              #library that is used to work with selenium.\n",
    "import pandas as pd                          #to create dataframe.\n",
    "from selenium import webdriver               #importing webdriver module from selenium to open up automated chrome windows.\n",
    "import warnings                              #to ignore any sort of warning.\n",
    "warnings.filterwarnings(\"ignore\")\n",
    "import time "
   ]
  },
  {
   "cell_type": "code",
   "execution_count": 219,
   "id": "14af9454",
   "metadata": {},
   "outputs": [],
   "source": [
    "#Let us first connect to the web driver\n",
    "driver=webdriver.Chrome(\"chromedriver.exe\")\n",
    "time.sleep(2)"
   ]
  },
  {
   "cell_type": "code",
   "execution_count": 220,
   "id": "d29b5d7f",
   "metadata": {},
   "outputs": [],
   "source": [
    "#opening up https://www.amazon.in/ website on automated chrome window\n",
    "driver.get(\"https://www.amazon.in/\")"
   ]
  },
  {
   "cell_type": "code",
   "execution_count": 221,
   "id": "8367df09",
   "metadata": {},
   "outputs": [],
   "source": [
    "#finding element for laptop search bar\n",
    "search_field=driver.find_element_by_id(\"twotabsearchtextbox\") #laptop search bar\n",
    "search_field.send_keys(\"Laptop\")"
   ]
  },
  {
   "cell_type": "code",
   "execution_count": 222,
   "id": "5207f8cd",
   "metadata": {},
   "outputs": [],
   "source": [
    "#Clicking on search button\n",
    "search_button=driver.find_element_by_id(\"nav-search-submit-button\")\n",
    "search_button.click()"
   ]
  },
  {
   "cell_type": "code",
   "execution_count": 223,
   "id": "2f1f2e28",
   "metadata": {},
   "outputs": [],
   "source": [
    "# Set CPU Type filter to “Intel Core i7”\n",
    "intel_core_i7=driver.find_element_by_xpath(\"/html/body/div[1]/div[2]/div[1]/div[2]/div/div[3]/span/div[1]/div/div/div[6]/ul[4]/li[12]/span/a/span\")\n",
    "intel_core_i7.click()"
   ]
  },
  {
   "cell_type": "code",
   "execution_count": 224,
   "id": "cba7ad68",
   "metadata": {},
   "outputs": [],
   "source": [
    "Title=[]"
   ]
  },
  {
   "cell_type": "code",
   "execution_count": 225,
   "id": "093c8967",
   "metadata": {
    "scrolled": true
   },
   "outputs": [
    {
     "data": {
      "text/plain": [
       "[<selenium.webdriver.remote.webelement.WebElement (session=\"84e0b5b70a5966c775c490b1c2e341a8\", element=\"02cf194e-390e-4fab-b632-ebefd88f1ef1\")>,\n",
       " <selenium.webdriver.remote.webelement.WebElement (session=\"84e0b5b70a5966c775c490b1c2e341a8\", element=\"4b52eaf6-3769-4de8-9f83-ecfeab0cf6a5\")>,\n",
       " <selenium.webdriver.remote.webelement.WebElement (session=\"84e0b5b70a5966c775c490b1c2e341a8\", element=\"7a71faf7-74d6-4b13-aa27-51c15f27f50d\")>,\n",
       " <selenium.webdriver.remote.webelement.WebElement (session=\"84e0b5b70a5966c775c490b1c2e341a8\", element=\"cab95161-2de7-46ad-a597-0bcc8815b09c\")>,\n",
       " <selenium.webdriver.remote.webelement.WebElement (session=\"84e0b5b70a5966c775c490b1c2e341a8\", element=\"5f893905-2d35-402d-b319-319838985d2b\")>,\n",
       " <selenium.webdriver.remote.webelement.WebElement (session=\"84e0b5b70a5966c775c490b1c2e341a8\", element=\"a7a227ec-fe89-45c1-9571-70c6b385075e\")>,\n",
       " <selenium.webdriver.remote.webelement.WebElement (session=\"84e0b5b70a5966c775c490b1c2e341a8\", element=\"408db015-444c-4306-911d-aec83bfbfa04\")>,\n",
       " <selenium.webdriver.remote.webelement.WebElement (session=\"84e0b5b70a5966c775c490b1c2e341a8\", element=\"6c1c052a-2bec-4da4-a783-ce94ec909a70\")>,\n",
       " <selenium.webdriver.remote.webelement.WebElement (session=\"84e0b5b70a5966c775c490b1c2e341a8\", element=\"a90ec7f5-12e6-4107-8d21-494f15041e29\")>,\n",
       " <selenium.webdriver.remote.webelement.WebElement (session=\"84e0b5b70a5966c775c490b1c2e341a8\", element=\"a3a832df-5cc9-41f1-8613-c1cd8e621cee\")>]"
      ]
     },
     "execution_count": 225,
     "metadata": {},
     "output_type": "execute_result"
    }
   ],
   "source": [
    "title_tags=driver.find_elements_by_xpath(\"//h2[@class='a-size-mini a-spacing-none a-color-base s-line-clamp-2']\")\n",
    "title_tags[0:10]"
   ]
  },
  {
   "cell_type": "code",
   "execution_count": 227,
   "id": "7dca1932",
   "metadata": {
    "scrolled": true
   },
   "outputs": [
    {
     "data": {
      "text/plain": [
       "['MSI Katana GF66 Gaming, Intel i7-11800H, 15.6\" FHD IPS-Level 144Hz Panel Laptop (16GB/512GB NVMe SSD/Windows 10 Home/Nvidia RTX3050Ti 4GB GDDR6/Black/2.25Kg), 11UD-476IN',\n",
       " 'Fujitsu UH-X 11th Gen Intel Core i7 13.3” FHD IPS 400Nits Thin & Light Laptop(16GB/512GB SSD/Windows 11/Office 2021/Iris Xe Graphics/Backlit Kb/Fingerprint Reader/2Yr Warranty/Black/878gms),4ZR1F38024',\n",
       " 'Mi Notebook Ultra 3.2K Resolution Display Intel Core i7-11370H 11th Gen 15.6-inch(39.62 cm) Thin and Light Laptop (16GB/512GB SSD/Iris Xe Graphic/Win 10/MS Office 21/Backlit KB/FP Sensor/1.7Kg)',\n",
       " 'ASUS VivoBook 14 (2021), 14-inch (35.56 cms) FHD, Intel Core i7-1065G7 10th Gen, Thin and Light Laptop (16GB/512GB SSD/Integrated Graphics/Office 2021/Windows 11/Silver/1.6 Kg), X415JA-EK701WS',\n",
       " 'Lenovo ThinkBook 15 Intel 11th Gen Core i7 15.6\"(39.62 cm)FHD Thin and Light Laptop (16GB/512GB SSD/Windows 11 Home/MS Office H&S 2021/Iris® Xe Graphics/Backlit/Mineral Grey/1.7 Kg) 20VE00W4IH',\n",
       " 'HP Pavilion x360 11th Gen Intel Core i7 14 inch(35.6 cm) FHD Multitouch 2-in-1 Laptop(16GB RAM/512GB SSD/B&O/Win 11/FPR/Backlit KB/Intel Iris Xe Graphics/Pen/Alexa/MS Office/Silver/1.52Kg) 14-dy1047TU',\n",
       " 'ASUS TUF Gaming F15 (2021), 15.6\" (39.62 cms) FHD 144Hz, Intel Core i7-11600H 11th Gen, 4GB RTX 3050 Graphics, Gaming Laptop (16GB/512GB SSD/Windows 10/Office 2019/Gray/2.3 Kg), FX566HCB-HN299TS',\n",
       " 'HP Pavilion 14, 11th Gen Intel Core i7-16GB RAM/1TB SSD 14 inch(35.6 cm) Laptop/Intel Iris Xe Graphics/Backlit Keyboard/Alexa/B&O Audio/Fast Charge/FPR/Win 11/MS Office, 14-dv1029TU,Natural Silver',\n",
       " 'Samsung Galaxy Book2 Intel 12th Gen core i7 39.6cm (15.6\") FHD LED Thin & Light Laptop (16 GB/512 GB SSD/Windows 11/MS Office/Backlit Keyboard/Fingerprint Reader/Silver/1.55Kg), NP750XED-KC2IN',\n",
       " 'LG Gram Intel Evo 11th Gen Core i7 17 inches Ultra-Light Laptop (16 GB RAM, 512 GB SSD, New Windows 11 Home Preload, Iris Xe Graphics, USC -C x 2 (with Power), 1.35 kg, 17Z90P-G.AH85A2, Black)']"
      ]
     },
     "execution_count": 227,
     "metadata": {},
     "output_type": "execute_result"
    }
   ],
   "source": [
    "for i in title_tags:\n",
    "    text=i.text\n",
    "    Title.append(text)\n",
    "Title[0:10]"
   ]
  },
  {
   "cell_type": "code",
   "execution_count": 302,
   "id": "bdb7db52",
   "metadata": {},
   "outputs": [],
   "source": [
    "Ratings=[]"
   ]
  },
  {
   "cell_type": "code",
   "execution_count": 303,
   "id": "9f3f478f",
   "metadata": {
    "scrolled": true
   },
   "outputs": [
    {
     "data": {
      "text/plain": [
       "[<selenium.webdriver.remote.webelement.WebElement (session=\"84e0b5b70a5966c775c490b1c2e341a8\", element=\"e0e41afb-c79a-4a07-9424-a15d0af74f55\")>,\n",
       " <selenium.webdriver.remote.webelement.WebElement (session=\"84e0b5b70a5966c775c490b1c2e341a8\", element=\"01a59264-72da-4395-b7d8-41650709069f\")>,\n",
       " <selenium.webdriver.remote.webelement.WebElement (session=\"84e0b5b70a5966c775c490b1c2e341a8\", element=\"f18508b7-8c8e-4808-bad5-29c3a3b8abfe\")>,\n",
       " <selenium.webdriver.remote.webelement.WebElement (session=\"84e0b5b70a5966c775c490b1c2e341a8\", element=\"078f2262-74d5-4137-9a71-38368aa6d1f9\")>,\n",
       " <selenium.webdriver.remote.webelement.WebElement (session=\"84e0b5b70a5966c775c490b1c2e341a8\", element=\"0ea4c643-b50a-4c27-b7d9-872180bf643b\")>,\n",
       " <selenium.webdriver.remote.webelement.WebElement (session=\"84e0b5b70a5966c775c490b1c2e341a8\", element=\"2d6b2a57-c5f3-4034-8c81-dcfdc40d3314\")>,\n",
       " <selenium.webdriver.remote.webelement.WebElement (session=\"84e0b5b70a5966c775c490b1c2e341a8\", element=\"65bfb442-0e41-4ab3-934b-6a80d5680391\")>,\n",
       " <selenium.webdriver.remote.webelement.WebElement (session=\"84e0b5b70a5966c775c490b1c2e341a8\", element=\"b1fe83ce-7311-454d-86be-0c84eff34997\")>,\n",
       " <selenium.webdriver.remote.webelement.WebElement (session=\"84e0b5b70a5966c775c490b1c2e341a8\", element=\"b0b1337f-a519-48b6-a4d6-629c94e05f22\")>,\n",
       " <selenium.webdriver.remote.webelement.WebElement (session=\"84e0b5b70a5966c775c490b1c2e341a8\", element=\"7ceea79a-5fac-4baf-9d2c-370a39e9a429\")>]"
      ]
     },
     "execution_count": 303,
     "metadata": {},
     "output_type": "execute_result"
    }
   ],
   "source": [
    "ratings_tags=driver.find_elements_by_xpath(\"//span[@class='a-size-base a-color-base s-bold-weight-text']\")\n",
    "ratings_tags[0:10]"
   ]
  },
  {
   "cell_type": "code",
   "execution_count": 304,
   "id": "29af19d5",
   "metadata": {},
   "outputs": [
    {
     "data": {
      "text/plain": [
       "['Delivery Day',\n",
       " 'Department',\n",
       " 'Customer Reviews',\n",
       " 'Brands',\n",
       " 'Price Laptops',\n",
       " 'CPU Manufacturer',\n",
       " 'Display Type',\n",
       " 'Laptop Weight',\n",
       " 'CPU Type',\n",
       " 'Maximum CPU Speed']"
      ]
     },
     "execution_count": 304,
     "metadata": {},
     "output_type": "execute_result"
    }
   ],
   "source": [
    "for i in ratings_tags:\n",
    "    text=i.text\n",
    "    Ratings.append(text)\n",
    "Ratings[0:10]"
   ]
  },
  {
   "cell_type": "code",
   "execution_count": 284,
   "id": "d7992b06",
   "metadata": {},
   "outputs": [],
   "source": [
    "Price=[]"
   ]
  },
  {
   "cell_type": "code",
   "execution_count": 285,
   "id": "48fb2e00",
   "metadata": {
    "scrolled": true
   },
   "outputs": [
    {
     "data": {
      "text/plain": [
       "[<selenium.webdriver.remote.webelement.WebElement (session=\"84e0b5b70a5966c775c490b1c2e341a8\", element=\"61aa7bee-a395-42f3-85c1-928afdf9e979\")>,\n",
       " <selenium.webdriver.remote.webelement.WebElement (session=\"84e0b5b70a5966c775c490b1c2e341a8\", element=\"4dafe010-63cf-4f54-b13a-3f8e6f6f14c5\")>,\n",
       " <selenium.webdriver.remote.webelement.WebElement (session=\"84e0b5b70a5966c775c490b1c2e341a8\", element=\"ab8be43a-33bd-468d-842d-73d6348a47f6\")>,\n",
       " <selenium.webdriver.remote.webelement.WebElement (session=\"84e0b5b70a5966c775c490b1c2e341a8\", element=\"7827c212-6609-491c-a0db-832c0743fed3\")>,\n",
       " <selenium.webdriver.remote.webelement.WebElement (session=\"84e0b5b70a5966c775c490b1c2e341a8\", element=\"5cfbf256-c6cc-4d54-9d30-fac843f48a53\")>,\n",
       " <selenium.webdriver.remote.webelement.WebElement (session=\"84e0b5b70a5966c775c490b1c2e341a8\", element=\"de908079-8dd7-4a35-a95f-afe14a7f4fb6\")>,\n",
       " <selenium.webdriver.remote.webelement.WebElement (session=\"84e0b5b70a5966c775c490b1c2e341a8\", element=\"ae23daa9-a69c-4494-ae84-85b2abe81562\")>,\n",
       " <selenium.webdriver.remote.webelement.WebElement (session=\"84e0b5b70a5966c775c490b1c2e341a8\", element=\"d7cf4652-a5e3-493c-a78d-58d0ebc3128c\")>,\n",
       " <selenium.webdriver.remote.webelement.WebElement (session=\"84e0b5b70a5966c775c490b1c2e341a8\", element=\"a85d3050-dd3d-410e-b068-b081a5b13552\")>,\n",
       " <selenium.webdriver.remote.webelement.WebElement (session=\"84e0b5b70a5966c775c490b1c2e341a8\", element=\"33c73308-a843-41b6-8096-b086f3568e51\")>]"
      ]
     },
     "execution_count": 285,
     "metadata": {},
     "output_type": "execute_result"
    }
   ],
   "source": [
    "price_tags=driver.find_elements_by_xpath(\"//span[@class='a-price-whole']\")\n",
    "price_tags[0:10]"
   ]
  },
  {
   "cell_type": "code",
   "execution_count": 286,
   "id": "08699773",
   "metadata": {},
   "outputs": [
    {
     "data": {
      "text/plain": [
       "['98,999',\n",
       " '84,590',\n",
       " '77,999',\n",
       " '57,490',\n",
       " '86,900',\n",
       " '85,890',\n",
       " '89,990',\n",
       " '86,990',\n",
       " '79,990',\n",
       " '93,999']"
      ]
     },
     "execution_count": 286,
     "metadata": {},
     "output_type": "execute_result"
    }
   ],
   "source": [
    "for i in price_tags:\n",
    "    text=i.text\n",
    "    Price.append(text)\n",
    "Price[0:10]"
   ]
  },
  {
   "cell_type": "code",
   "execution_count": 306,
   "id": "621cd5ac",
   "metadata": {},
   "outputs": [],
   "source": [
    "driver.close()"
   ]
  },
  {
   "cell_type": "code",
   "execution_count": 307,
   "id": "1ce3b442",
   "metadata": {},
   "outputs": [],
   "source": [
    "import selenium                              #library that is used to work with selenium.\n",
    "import pandas as pd                          #to create dataframe.\n",
    "from selenium import webdriver               #importing webdriver module from selenium to open up automated chrome windows.\n",
    "import warnings                              #to ignore any sort of warning.\n",
    "warnings.filterwarnings(\"ignore\")\n",
    "import time "
   ]
  },
  {
   "cell_type": "code",
   "execution_count": 308,
   "id": "e89e60e8",
   "metadata": {},
   "outputs": [],
   "source": [
    "#Let us first connect to the web driver\n",
    "driver=webdriver.Chrome(\"chromedriver.exe\")\n",
    "time.sleep(2)"
   ]
  },
  {
   "cell_type": "code",
   "execution_count": 309,
   "id": "ee1a7d4e",
   "metadata": {},
   "outputs": [],
   "source": [
    "#opening up https://www.amazon.in/ website on automated chrome window\n",
    "driver.get(\"https://www.amazon.in/\")"
   ]
  },
  {
   "cell_type": "code",
   "execution_count": 310,
   "id": "c4ef3748",
   "metadata": {},
   "outputs": [],
   "source": [
    "#finding element for laptop search bar\n",
    "search_field=driver.find_element_by_id(\"twotabsearchtextbox\") #laptop search bar\n",
    "search_field.send_keys(\"Laptop\")"
   ]
  },
  {
   "cell_type": "code",
   "execution_count": 311,
   "id": "cd7095b2",
   "metadata": {},
   "outputs": [],
   "source": [
    "#Clicking on search button\n",
    "search_button=driver.find_element_by_id(\"nav-search-submit-button\")\n",
    "search_button.click()"
   ]
  },
  {
   "cell_type": "code",
   "execution_count": 312,
   "id": "9fd49dd8",
   "metadata": {},
   "outputs": [],
   "source": [
    "# Set CPU Type filter to “Intel Core i9”\n",
    "intel_core_i9=driver.find_element_by_xpath(\"/html/body/div[1]/div[2]/div[1]/div[2]/div/div[3]/span/div[1]/div/div/div[6]/ul[4]/li[13]/span/a/span\")\n",
    "intel_core_i9.click()"
   ]
  },
  {
   "cell_type": "code",
   "execution_count": 315,
   "id": "49966076",
   "metadata": {},
   "outputs": [],
   "source": [
    "Title=[]"
   ]
  },
  {
   "cell_type": "code",
   "execution_count": 316,
   "id": "f276264e",
   "metadata": {
    "scrolled": true
   },
   "outputs": [
    {
     "data": {
      "text/plain": [
       "[<selenium.webdriver.remote.webelement.WebElement (session=\"3c26ccc49a651618049596ed6b088803\", element=\"db6650d7-4f5b-45ff-abef-13703036807e\")>,\n",
       " <selenium.webdriver.remote.webelement.WebElement (session=\"3c26ccc49a651618049596ed6b088803\", element=\"6f1bd684-8565-4d52-84f0-7ebc05ebf301\")>,\n",
       " <selenium.webdriver.remote.webelement.WebElement (session=\"3c26ccc49a651618049596ed6b088803\", element=\"aa05fe31-d84f-414e-ab1f-da6d21773b0d\")>,\n",
       " <selenium.webdriver.remote.webelement.WebElement (session=\"3c26ccc49a651618049596ed6b088803\", element=\"a8fae468-e614-4c91-8393-1b255ebb6bdc\")>,\n",
       " <selenium.webdriver.remote.webelement.WebElement (session=\"3c26ccc49a651618049596ed6b088803\", element=\"3a010a05-1a6e-429b-8612-57c5d67e95aa\")>,\n",
       " <selenium.webdriver.remote.webelement.WebElement (session=\"3c26ccc49a651618049596ed6b088803\", element=\"ab88c13a-1b2c-4adb-a212-61af3a90452f\")>,\n",
       " <selenium.webdriver.remote.webelement.WebElement (session=\"3c26ccc49a651618049596ed6b088803\", element=\"95969a16-e380-4984-8912-e81ef0949e0c\")>,\n",
       " <selenium.webdriver.remote.webelement.WebElement (session=\"3c26ccc49a651618049596ed6b088803\", element=\"c423e938-df02-413c-b23a-457eb5f7d0c7\")>,\n",
       " <selenium.webdriver.remote.webelement.WebElement (session=\"3c26ccc49a651618049596ed6b088803\", element=\"2ee89a81-3d40-45d3-8a1b-85fa02d3e0a0\")>,\n",
       " <selenium.webdriver.remote.webelement.WebElement (session=\"3c26ccc49a651618049596ed6b088803\", element=\"3316b9b6-c1a6-43a1-bc0c-1c4269a49178\")>]"
      ]
     },
     "execution_count": 316,
     "metadata": {},
     "output_type": "execute_result"
    }
   ],
   "source": [
    "title_tags=driver.find_elements_by_xpath(\"//span[@class='a-size-medium a-color-base a-text-normal']\")\n",
    "title_tags[0:10]"
   ]
  },
  {
   "cell_type": "code",
   "execution_count": 317,
   "id": "3e4e011c",
   "metadata": {},
   "outputs": [
    {
     "data": {
      "text/plain": [
       "['ASUS ROG Strix Scar 15 (2022), Intel Core i9-12900H 12th Gen 15.6 inches 2K WQHD 240Hz/3ms Gaming Laptop (32GB/1TB SSD/RTX 3080 Ti 16GB Graphics/Windows 11 Home/Office 2021/Black/2.3 Kg)',\n",
       " 'Acer Predator Helios 300 11th Gen Intel Core i9-11900H 15.6\" (39.62cms) FHD IPS Gaming Laptop (16 GB/1TB SSD/Win 11 Home/6 GB Graphics/NVIDIA GeForce RTX 3060/360 Hz, Black, 2.3 kg) PH315-54',\n",
       " 'HP Envy 15- 11th Gen Intel Core i9/32GB/1TB SSD/15.6 inch(39.6 cm) 400 nits,4K AMOLED Touch, TUV + Win 11 Pro 64/NVIDIA GeForce RTX 3060 6GB Graphics/Alexa/FPR /B&O/2.14kg,15-ep1087TX, Natural Silver',\n",
       " 'ASUS ROG Zephyrus M16 (2022), 16-inch (40.64 cms) 2K QHD 165Hz/3ms, Core i9-12900H 12th Gen, RTX 3080 Ti 16GB Graphics, Gaming Laptop (32GB/2TB SSD/Win 11/Office 2021/Black/2 Kg), GU603ZX-K8024WS',\n",
       " 'ASUS ROG Strix Scar 15 (2022), 15.6\" (39.62 cms) 2K WQHD 240Hz/3ms, Intel Core i9-12900H 12th Gen, RTX 3070 Ti 8GB Graphics, Gaming Laptop (32GB/1TB SSD/Win 11/Office 2021/Black/2.3 kg) G533ZW-LN136WS',\n",
       " 'ASUS ROG Strix Scar 15 (2022), 15.6-inch (39.62 cms) 2K WQHD 240Hz/3ms, Core i9-12900H 12th Gen, RTX 3070 Ti 8GB Graphics, Gaming Laptop (32GB/2TB SSD/Win 11/Office 2021/Black/2.3 Kg), G533ZW-LN106WS',\n",
       " 'ASUS ROG Zephyrus S17 (2021), 17.3\" (43.94 cms) 4K UHD 120Hz/3ms, Intel Core i9-11900H 11th Gen, 16GB RTX 3080, Gaming Laptop (32GB/2TB RAID 0 SSD/Office 2019/Windows 10/Black/2.6 Kg), GX703HS-KF058TS',\n",
       " 'Dell G7 7500 15.6inch FHD 300 Hz Display Gaming Laptop (10th Gen i9-10885H / 16 GB / 1TB SSD / NVIDIA RTX 2070 8GB Graphics / 1Yr Premium Warranty / Win 10 + MS Office H&S 2019) D560233WIN9B, Black',\n",
       " 'Predator Helios 500 Gaming Laptop (11th Gen Intel Core I9/17.3\" 4K UHD Display/64GB DDR4 RAM/2TB SSD/1TB HDD/RTX 3080 Graphics/Per Key RGB Backlit Keyboard) | PH517-52',\n",
       " '(Renewed) HP Omen 15-dh0139TX Gaming Laptop (9th Gen i9-9880H/16GB/1TB HDD + 512GB SSD/Win 10/8GB NVIDIA RTX 2080 Graphics) & Z3700 Wireless Mouse']"
      ]
     },
     "execution_count": 317,
     "metadata": {},
     "output_type": "execute_result"
    }
   ],
   "source": [
    "for i in title_tags:\n",
    "    text=i.text\n",
    "    Title.append(text)\n",
    "Title[0:10]"
   ]
  },
  {
   "cell_type": "code",
   "execution_count": 321,
   "id": "81220bf4",
   "metadata": {},
   "outputs": [],
   "source": [
    "Ratings=[]"
   ]
  },
  {
   "cell_type": "code",
   "execution_count": 322,
   "id": "f6bb3b24",
   "metadata": {},
   "outputs": [
    {
     "data": {
      "text/plain": [
       "[<selenium.webdriver.remote.webelement.WebElement (session=\"3c26ccc49a651618049596ed6b088803\", element=\"88d96363-7f7b-4890-99f9-b6e5706aeb49\")>,\n",
       " <selenium.webdriver.remote.webelement.WebElement (session=\"3c26ccc49a651618049596ed6b088803\", element=\"5f5751a8-f81c-4941-aff2-63294088dc49\")>,\n",
       " <selenium.webdriver.remote.webelement.WebElement (session=\"3c26ccc49a651618049596ed6b088803\", element=\"5e8a7185-f3db-439f-b0e9-b2c4da7b09af\")>]"
      ]
     },
     "execution_count": 322,
     "metadata": {},
     "output_type": "execute_result"
    }
   ],
   "source": [
    "ratings_tags=driver.find_elements_by_xpath(\"//i[@class='a-icon a-icon-star-small a-star-small-5 aok-align-bottom']\")\n",
    "ratings_tags[0:10]"
   ]
  },
  {
   "cell_type": "code",
   "execution_count": 318,
   "id": "1ac298f4",
   "metadata": {},
   "outputs": [],
   "source": [
    "Price=[]"
   ]
  },
  {
   "cell_type": "code",
   "execution_count": 319,
   "id": "41ae88b3",
   "metadata": {},
   "outputs": [
    {
     "data": {
      "text/plain": [
       "[<selenium.webdriver.remote.webelement.WebElement (session=\"3c26ccc49a651618049596ed6b088803\", element=\"1623bf66-796c-42d0-83c5-cb0cdf80b046\")>,\n",
       " <selenium.webdriver.remote.webelement.WebElement (session=\"3c26ccc49a651618049596ed6b088803\", element=\"a9ad2a32-4f1e-448a-bbd0-8b6c0169b653\")>,\n",
       " <selenium.webdriver.remote.webelement.WebElement (session=\"3c26ccc49a651618049596ed6b088803\", element=\"507f66b9-413f-4669-a9aa-771688088db8\")>,\n",
       " <selenium.webdriver.remote.webelement.WebElement (session=\"3c26ccc49a651618049596ed6b088803\", element=\"f550d324-a0fb-4807-b1be-610edbd30f42\")>,\n",
       " <selenium.webdriver.remote.webelement.WebElement (session=\"3c26ccc49a651618049596ed6b088803\", element=\"520c13ab-b2ee-46f0-a93d-81f24d37ca61\")>,\n",
       " <selenium.webdriver.remote.webelement.WebElement (session=\"3c26ccc49a651618049596ed6b088803\", element=\"7f65c42d-433d-49bd-ba88-8dca567b7f9c\")>,\n",
       " <selenium.webdriver.remote.webelement.WebElement (session=\"3c26ccc49a651618049596ed6b088803\", element=\"e512055f-52b7-4d74-9fcf-90f73a2045ac\")>,\n",
       " <selenium.webdriver.remote.webelement.WebElement (session=\"3c26ccc49a651618049596ed6b088803\", element=\"42bc6f36-e035-486f-ab1a-6b34c7be02f4\")>,\n",
       " <selenium.webdriver.remote.webelement.WebElement (session=\"3c26ccc49a651618049596ed6b088803\", element=\"f863248b-7ad1-4bf6-8a09-793376aa3167\")>,\n",
       " <selenium.webdriver.remote.webelement.WebElement (session=\"3c26ccc49a651618049596ed6b088803\", element=\"abe8267e-b911-46d8-8231-4222773329cd\")>]"
      ]
     },
     "execution_count": 319,
     "metadata": {},
     "output_type": "execute_result"
    }
   ],
   "source": [
    "price_tags=driver.find_elements_by_xpath(\"//span[@class='a-price-whole']\")\n",
    "price_tags[0:10]"
   ]
  },
  {
   "cell_type": "code",
   "execution_count": 320,
   "id": "9449d9fe",
   "metadata": {},
   "outputs": [
    {
     "data": {
      "text/plain": [
       "['3,01,990',\n",
       " '1,44,990',\n",
       " '3,31,990',\n",
       " '2,32,364',\n",
       " '2,85,390',\n",
       " '3,99,990',\n",
       " '2,05,990',\n",
       " '3,79,990',\n",
       " '1,38,000',\n",
       " '2,25,000']"
      ]
     },
     "execution_count": 320,
     "metadata": {},
     "output_type": "execute_result"
    }
   ],
   "source": [
    "for i in price_tags:\n",
    "    text=i.text\n",
    "    Price.append(text)\n",
    "Price[0:10]"
   ]
  },
  {
   "cell_type": "code",
   "execution_count": 323,
   "id": "f8215df8",
   "metadata": {},
   "outputs": [],
   "source": [
    "driver.close()"
   ]
  },
  {
   "cell_type": "markdown",
   "id": "6b975327",
   "metadata": {},
   "source": [
    "# 5) Write a python program to scrape data for first 10 job results for Data Scientist Designation in Noidalocation. You have to scrape company name, No. of days ago when job was posted, Rating of the company.This task will be done in following step1. First get the webpage https://www.ambitionbox.com/ 2. Click on the Job option as shown in the image"
   ]
  },
  {
   "cell_type": "code",
   "execution_count": 354,
   "id": "e64fc404",
   "metadata": {},
   "outputs": [],
   "source": [
    "import selenium                              #library that is used to work with selenium.\n",
    "import pandas as pd                          #to create dataframe.\n",
    "from selenium import webdriver               #importing webdriver module from selenium to open up automated chrome windows.\n",
    "import warnings                              #to ignore any sort of warning.\n",
    "warnings.filterwarnings(\"ignore\")\n",
    "import time "
   ]
  },
  {
   "cell_type": "code",
   "execution_count": 355,
   "id": "17f347c2",
   "metadata": {},
   "outputs": [],
   "source": [
    "#Let us first connect to the web driver\n",
    "driver=webdriver.Chrome(\"chromedriver.exe\")\n",
    "time.sleep(2)"
   ]
  },
  {
   "cell_type": "code",
   "execution_count": 356,
   "id": "b214b14b",
   "metadata": {},
   "outputs": [],
   "source": [
    "#opening up https://www.ambitionbox.com/ website on automated chrome window\n",
    "driver.get(\"https://www.ambitionbox.com/\")"
   ]
  },
  {
   "cell_type": "code",
   "execution_count": 357,
   "id": "d7a79dee",
   "metadata": {},
   "outputs": [],
   "source": [
    "#finding element for job search bar\n",
    "search_field_designation=driver.find_element_by_xpath(\"/html/body/div/div/div/div[2]/div[1]/div[1]/div/div/div/div/span/input\") #job search bar\n",
    "search_field_designation.send_keys(\"Data Scientist\")"
   ]
  },
  {
   "cell_type": "code",
   "execution_count": 358,
   "id": "7f095d46",
   "metadata": {},
   "outputs": [],
   "source": [
    "#Clicking on search button\n",
    "search_button=driver.find_element_by_xpath(\"/html/body/div/div/div/div[2]/div[1]/div[1]/div/div/div/button/span\")\n",
    "search_button.click()"
   ]
  },
  {
   "cell_type": "code",
   "execution_count": 361,
   "id": "06b9ef9c",
   "metadata": {},
   "outputs": [],
   "source": [
    "#entering location Bangalore in location search bar\n",
    "search_field_location=driver.find_element_by_xpath(\"/html/body/div/div/div/div[2]/div[1]/div[2]/div[1]/div/div/div/div[2]/div[2]/div/div[2]/input\") #location saerch bar\n",
    "search_field_location.send_keys(\"Noida\")"
   ]
  },
  {
   "cell_type": "code",
   "execution_count": 362,
   "id": "d65ffbbf",
   "metadata": {},
   "outputs": [],
   "source": [
    "Company_name=[]"
   ]
  },
  {
   "cell_type": "code",
   "execution_count": 363,
   "id": "d84e9cfe",
   "metadata": {},
   "outputs": [
    {
     "data": {
      "text/plain": [
       "[<selenium.webdriver.remote.webelement.WebElement (session=\"8654504913bdb35cd8323c77368823bb\", element=\"2d2035f6-1e3c-4426-9bbd-fd844164a4b0\")>,\n",
       " <selenium.webdriver.remote.webelement.WebElement (session=\"8654504913bdb35cd8323c77368823bb\", element=\"52dac0db-8e74-43ba-b964-84a2f5d69779\")>,\n",
       " <selenium.webdriver.remote.webelement.WebElement (session=\"8654504913bdb35cd8323c77368823bb\", element=\"ac146220-5c8d-4cd6-b3ef-5b3de0b3fd4e\")>,\n",
       " <selenium.webdriver.remote.webelement.WebElement (session=\"8654504913bdb35cd8323c77368823bb\", element=\"5cddc8e7-42d2-41f9-942d-16a2de1d2bce\")>,\n",
       " <selenium.webdriver.remote.webelement.WebElement (session=\"8654504913bdb35cd8323c77368823bb\", element=\"788ecf66-2171-4a8b-ac94-64c476d5d31b\")>,\n",
       " <selenium.webdriver.remote.webelement.WebElement (session=\"8654504913bdb35cd8323c77368823bb\", element=\"b2e47b0e-bc9a-4ec7-be88-78daab830f0d\")>,\n",
       " <selenium.webdriver.remote.webelement.WebElement (session=\"8654504913bdb35cd8323c77368823bb\", element=\"4e87f57a-fe46-4a8f-9c60-e43877a45cfe\")>,\n",
       " <selenium.webdriver.remote.webelement.WebElement (session=\"8654504913bdb35cd8323c77368823bb\", element=\"555248b2-7afd-4107-9e26-4391218a7de0\")>,\n",
       " <selenium.webdriver.remote.webelement.WebElement (session=\"8654504913bdb35cd8323c77368823bb\", element=\"5ddfc0ea-fde1-456d-8b8f-3bdee6849c5e\")>,\n",
       " <selenium.webdriver.remote.webelement.WebElement (session=\"8654504913bdb35cd8323c77368823bb\", element=\"a2bd01cd-2df0-4f03-9790-2c363935d243\")>]"
      ]
     },
     "execution_count": 363,
     "metadata": {},
     "output_type": "execute_result"
    }
   ],
   "source": [
    "company_name_tags=driver.find_elements_by_xpath(\"//p[@class='company body-medium']\")\n",
    "company_name_tags[0:10]"
   ]
  },
  {
   "cell_type": "code",
   "execution_count": 364,
   "id": "4f22bf0c",
   "metadata": {},
   "outputs": [
    {
     "data": {
      "text/plain": [
       "['Ericsson India Global Services Pvt. Ltd.',\n",
       " 'EXL Services.com ( I ) Pvt. Ltd.',\n",
       " 'GENPACT India Private Limited',\n",
       " 'TECHNIP GLOBAL BUSINESS SERVICES PRIVATE LIMITED',\n",
       " 'GENPACT India Private Limited',\n",
       " 'Bristlecone India Limited',\n",
       " 'Zyoin',\n",
       " 'Newgen Software Technologies Ltd.',\n",
       " 'Ashkom Media India Private Limited',\n",
       " 'Pitney Bowes India Pvt Ltd']"
      ]
     },
     "execution_count": 364,
     "metadata": {},
     "output_type": "execute_result"
    }
   ],
   "source": [
    "for i in company_name_tags:\n",
    "    text=i.text\n",
    "    Company_name.append(text)\n",
    "Company_name[0:10]"
   ]
  },
  {
   "cell_type": "code",
   "execution_count": 368,
   "id": "04ebeb33",
   "metadata": {},
   "outputs": [],
   "source": [
    "No_of_days_ago=[]"
   ]
  },
  {
   "cell_type": "code",
   "execution_count": 369,
   "id": "6daa7b5c",
   "metadata": {},
   "outputs": [
    {
     "data": {
      "text/plain": [
       "[<selenium.webdriver.remote.webelement.WebElement (session=\"8654504913bdb35cd8323c77368823bb\", element=\"7b7de9c1-f072-47f2-9d4c-729cdccb1ea4\")>,\n",
       " <selenium.webdriver.remote.webelement.WebElement (session=\"8654504913bdb35cd8323c77368823bb\", element=\"31c22db7-e04e-4260-89b4-f113776c5d6a\")>,\n",
       " <selenium.webdriver.remote.webelement.WebElement (session=\"8654504913bdb35cd8323c77368823bb\", element=\"fcfcec25-f42f-46ed-beb8-7a7fa13912fb\")>,\n",
       " <selenium.webdriver.remote.webelement.WebElement (session=\"8654504913bdb35cd8323c77368823bb\", element=\"35793b12-e302-4b28-bd88-b44d57a64d4c\")>,\n",
       " <selenium.webdriver.remote.webelement.WebElement (session=\"8654504913bdb35cd8323c77368823bb\", element=\"395a6278-a4a1-4912-af23-03ecbc5b27d3\")>,\n",
       " <selenium.webdriver.remote.webelement.WebElement (session=\"8654504913bdb35cd8323c77368823bb\", element=\"fcca754d-244a-4ee6-a5f6-f2689531d42a\")>,\n",
       " <selenium.webdriver.remote.webelement.WebElement (session=\"8654504913bdb35cd8323c77368823bb\", element=\"97713504-05c6-4075-b711-a864690530f2\")>,\n",
       " <selenium.webdriver.remote.webelement.WebElement (session=\"8654504913bdb35cd8323c77368823bb\", element=\"2396892f-71f7-4a81-b466-81d9d15ec6cd\")>,\n",
       " <selenium.webdriver.remote.webelement.WebElement (session=\"8654504913bdb35cd8323c77368823bb\", element=\"414e0c58-9aed-4d99-b0a7-5b62b9afed53\")>,\n",
       " <selenium.webdriver.remote.webelement.WebElement (session=\"8654504913bdb35cd8323c77368823bb\", element=\"070bd141-6dd4-4a89-b0b2-d903f5412d8b\")>]"
      ]
     },
     "execution_count": 369,
     "metadata": {},
     "output_type": "execute_result"
    }
   ],
   "source": [
    "job_was_posted_tags=driver.find_elements_by_xpath(\"//span[@class='body-small-l']\")\n",
    "job_was_posted_tags[0:10]"
   ]
  },
  {
   "cell_type": "code",
   "execution_count": 371,
   "id": "0ae30966",
   "metadata": {},
   "outputs": [
    {
     "data": {
      "text/plain": [
       "['3d ago',\n",
       " 'via naukri.com',\n",
       " '13d ago',\n",
       " 'via naukri.com',\n",
       " '25d ago',\n",
       " 'via naukri.com',\n",
       " '11d ago',\n",
       " 'via naukri.com',\n",
       " '1mon ago',\n",
       " 'via naukri.com']"
      ]
     },
     "execution_count": 371,
     "metadata": {},
     "output_type": "execute_result"
    }
   ],
   "source": [
    "for i in job_was_posted_tags:\n",
    "    text=i.text\n",
    "    No_of_days_ago.append(text)\n",
    "No_of_days_ago[0:10]"
   ]
  },
  {
   "cell_type": "code",
   "execution_count": 372,
   "id": "77036c73",
   "metadata": {},
   "outputs": [],
   "source": [
    "Rating=[]"
   ]
  },
  {
   "cell_type": "code",
   "execution_count": 373,
   "id": "90f4b46d",
   "metadata": {},
   "outputs": [
    {
     "data": {
      "text/plain": [
       "[<selenium.webdriver.remote.webelement.WebElement (session=\"8654504913bdb35cd8323c77368823bb\", element=\"7304ff7a-b489-4b0a-b8f7-2bab6491ee50\")>,\n",
       " <selenium.webdriver.remote.webelement.WebElement (session=\"8654504913bdb35cd8323c77368823bb\", element=\"c7e1473e-a7ac-40bb-9714-db2287665c81\")>,\n",
       " <selenium.webdriver.remote.webelement.WebElement (session=\"8654504913bdb35cd8323c77368823bb\", element=\"cbbcc394-a004-42b2-bace-7de60f8488cc\")>,\n",
       " <selenium.webdriver.remote.webelement.WebElement (session=\"8654504913bdb35cd8323c77368823bb\", element=\"7ce23fb2-7f3d-442a-ad52-a4494b93ce5b\")>,\n",
       " <selenium.webdriver.remote.webelement.WebElement (session=\"8654504913bdb35cd8323c77368823bb\", element=\"b314a745-176a-4a42-918a-48478714a06a\")>,\n",
       " <selenium.webdriver.remote.webelement.WebElement (session=\"8654504913bdb35cd8323c77368823bb\", element=\"44fe83e8-1e70-4ef2-bc5c-b67e7f0b2806\")>,\n",
       " <selenium.webdriver.remote.webelement.WebElement (session=\"8654504913bdb35cd8323c77368823bb\", element=\"54551e6a-d7a3-45da-b9dd-139753c1ddac\")>,\n",
       " <selenium.webdriver.remote.webelement.WebElement (session=\"8654504913bdb35cd8323c77368823bb\", element=\"5abb14f2-dabf-4a35-942a-5f9f5fb4eb87\")>,\n",
       " <selenium.webdriver.remote.webelement.WebElement (session=\"8654504913bdb35cd8323c77368823bb\", element=\"d282cb86-87bc-40e4-9cfd-29034e266760\")>,\n",
       " <selenium.webdriver.remote.webelement.WebElement (session=\"8654504913bdb35cd8323c77368823bb\", element=\"051216a7-e7c9-44e2-ad92-ceed9b67533c\")>]"
      ]
     },
     "execution_count": 373,
     "metadata": {},
     "output_type": "execute_result"
    }
   ],
   "source": [
    "ratings_tags=driver.find_elements_by_xpath(\"//span[@class='body-small']\")\n",
    "ratings_tags[0:10]"
   ]
  },
  {
   "cell_type": "code",
   "execution_count": 374,
   "id": "bc2a010a",
   "metadata": {},
   "outputs": [
    {
     "data": {
      "text/plain": [
       "['4.3', '3.9', '4.0', '3.9', '4.0', '3.8', '4.1', '3.6', '3.7', '4.2']"
      ]
     },
     "execution_count": 374,
     "metadata": {},
     "output_type": "execute_result"
    }
   ],
   "source": [
    "for i in ratings_tags:\n",
    "    text=i.text\n",
    "    Rating.append(text)\n",
    "Rating[0:10]"
   ]
  },
  {
   "cell_type": "code",
   "execution_count": 376,
   "id": "101eb0ca",
   "metadata": {},
   "outputs": [],
   "source": [
    "#import pandas as pd\n",
    "jobs=pd.DataFrame({})\n",
    "jobs['Company_name']=Company_name[0:10]\n",
    "jobs['No_of_days_ago']=No_of_days_ago[0:10]\n",
    "jobs['Rating']=Rating[0:10]"
   ]
  },
  {
   "cell_type": "code",
   "execution_count": 377,
   "id": "4e742edc",
   "metadata": {},
   "outputs": [
    {
     "data": {
      "text/html": [
       "<div>\n",
       "<style scoped>\n",
       "    .dataframe tbody tr th:only-of-type {\n",
       "        vertical-align: middle;\n",
       "    }\n",
       "\n",
       "    .dataframe tbody tr th {\n",
       "        vertical-align: top;\n",
       "    }\n",
       "\n",
       "    .dataframe thead th {\n",
       "        text-align: right;\n",
       "    }\n",
       "</style>\n",
       "<table border=\"1\" class=\"dataframe\">\n",
       "  <thead>\n",
       "    <tr style=\"text-align: right;\">\n",
       "      <th></th>\n",
       "      <th>Company_name</th>\n",
       "      <th>No_of_days_ago</th>\n",
       "      <th>Rating</th>\n",
       "    </tr>\n",
       "  </thead>\n",
       "  <tbody>\n",
       "    <tr>\n",
       "      <th>0</th>\n",
       "      <td>Ericsson India Global Services Pvt. Ltd.</td>\n",
       "      <td>3d ago</td>\n",
       "      <td>4.3</td>\n",
       "    </tr>\n",
       "    <tr>\n",
       "      <th>1</th>\n",
       "      <td>EXL Services.com ( I ) Pvt. Ltd.</td>\n",
       "      <td>via naukri.com</td>\n",
       "      <td>3.9</td>\n",
       "    </tr>\n",
       "    <tr>\n",
       "      <th>2</th>\n",
       "      <td>GENPACT India Private Limited</td>\n",
       "      <td>13d ago</td>\n",
       "      <td>4.0</td>\n",
       "    </tr>\n",
       "    <tr>\n",
       "      <th>3</th>\n",
       "      <td>TECHNIP GLOBAL BUSINESS SERVICES PRIVATE LIMITED</td>\n",
       "      <td>via naukri.com</td>\n",
       "      <td>3.9</td>\n",
       "    </tr>\n",
       "    <tr>\n",
       "      <th>4</th>\n",
       "      <td>GENPACT India Private Limited</td>\n",
       "      <td>25d ago</td>\n",
       "      <td>4.0</td>\n",
       "    </tr>\n",
       "    <tr>\n",
       "      <th>5</th>\n",
       "      <td>Bristlecone India Limited</td>\n",
       "      <td>via naukri.com</td>\n",
       "      <td>3.8</td>\n",
       "    </tr>\n",
       "    <tr>\n",
       "      <th>6</th>\n",
       "      <td>Zyoin</td>\n",
       "      <td>11d ago</td>\n",
       "      <td>4.1</td>\n",
       "    </tr>\n",
       "    <tr>\n",
       "      <th>7</th>\n",
       "      <td>Newgen Software Technologies Ltd.</td>\n",
       "      <td>via naukri.com</td>\n",
       "      <td>3.6</td>\n",
       "    </tr>\n",
       "    <tr>\n",
       "      <th>8</th>\n",
       "      <td>Ashkom Media India Private Limited</td>\n",
       "      <td>1mon ago</td>\n",
       "      <td>3.7</td>\n",
       "    </tr>\n",
       "    <tr>\n",
       "      <th>9</th>\n",
       "      <td>Pitney Bowes India Pvt Ltd</td>\n",
       "      <td>via naukri.com</td>\n",
       "      <td>4.2</td>\n",
       "    </tr>\n",
       "  </tbody>\n",
       "</table>\n",
       "</div>"
      ],
      "text/plain": [
       "                                       Company_name  No_of_days_ago Rating\n",
       "0          Ericsson India Global Services Pvt. Ltd.          3d ago    4.3\n",
       "1                  EXL Services.com ( I ) Pvt. Ltd.  via naukri.com    3.9\n",
       "2                     GENPACT India Private Limited         13d ago    4.0\n",
       "3  TECHNIP GLOBAL BUSINESS SERVICES PRIVATE LIMITED  via naukri.com    3.9\n",
       "4                     GENPACT India Private Limited         25d ago    4.0\n",
       "5                         Bristlecone India Limited  via naukri.com    3.8\n",
       "6                                             Zyoin         11d ago    4.1\n",
       "7                 Newgen Software Technologies Ltd.  via naukri.com    3.6\n",
       "8                Ashkom Media India Private Limited        1mon ago    3.7\n",
       "9                        Pitney Bowes India Pvt Ltd  via naukri.com    4.2"
      ]
     },
     "execution_count": 377,
     "metadata": {},
     "output_type": "execute_result"
    }
   ],
   "source": [
    "jobs"
   ]
  },
  {
   "cell_type": "code",
   "execution_count": 378,
   "id": "31957f3d",
   "metadata": {},
   "outputs": [],
   "source": [
    "driver.close()"
   ]
  },
  {
   "cell_type": "markdown",
   "id": "997942d6",
   "metadata": {},
   "source": [
    "# 6) Write a python program to scrape the salary data for Data Scientist designation.You have to scrape Company name, Number of salaries, Average salary, Minsalary, Max Salary."
   ]
  },
  {
   "cell_type": "code",
   "execution_count": 384,
   "id": "309ec90f",
   "metadata": {},
   "outputs": [],
   "source": [
    "import selenium                              #library that is used to work with selenium.\n",
    "import pandas as pd                          #to create dataframe.\n",
    "from selenium import webdriver               #importing webdriver module from selenium to open up automated chrome windows.\n",
    "import warnings                              #to ignore any sort of warning.\n",
    "warnings.filterwarnings(\"ignore\")\n",
    "import time "
   ]
  },
  {
   "cell_type": "code",
   "execution_count": 385,
   "id": "dfa1f792",
   "metadata": {},
   "outputs": [],
   "source": [
    "#Let us first connect to the web driver\n",
    "driver=webdriver.Chrome(\"chromedriver.exe\")\n",
    "time.sleep(2)"
   ]
  },
  {
   "cell_type": "code",
   "execution_count": 386,
   "id": "66d09de2",
   "metadata": {},
   "outputs": [],
   "source": [
    "#opening up https://www.ambitionbox.com/ website on automated chrome window\n",
    "driver.get(\"https://www.ambitionbox.com/\")"
   ]
  },
  {
   "cell_type": "code",
   "execution_count": 387,
   "id": "d1a8884e",
   "metadata": {},
   "outputs": [],
   "source": [
    "#finding element for job search bar\n",
    "search_field_designation=driver.find_element_by_xpath(\"/html/body/div/div/div/main/section[1]/div[2]/div[1]/span/input\") #job search bar\n",
    "search_field_designation.send_keys(\"Data Scientist\")"
   ]
  },
  {
   "cell_type": "code",
   "execution_count": 388,
   "id": "b92a1983",
   "metadata": {},
   "outputs": [],
   "source": [
    "Company_name=[]"
   ]
  },
  {
   "cell_type": "code",
   "execution_count": 390,
   "id": "ddf068aa",
   "metadata": {},
   "outputs": [
    {
     "data": {
      "text/plain": [
       "[<selenium.webdriver.remote.webelement.WebElement (session=\"3b1ac8a58ec6907fd40741b20b5047c4\", element=\"c701bb28-958b-4ac4-95ba-309796ef014e\")>,\n",
       " <selenium.webdriver.remote.webelement.WebElement (session=\"3b1ac8a58ec6907fd40741b20b5047c4\", element=\"d44bea67-c4ac-4d3a-a148-d334f24a2211\")>,\n",
       " <selenium.webdriver.remote.webelement.WebElement (session=\"3b1ac8a58ec6907fd40741b20b5047c4\", element=\"2890890e-9333-4fb9-a5c7-26090317bee7\")>,\n",
       " <selenium.webdriver.remote.webelement.WebElement (session=\"3b1ac8a58ec6907fd40741b20b5047c4\", element=\"9f0c891f-2124-4327-8119-12a5442329e2\")>,\n",
       " <selenium.webdriver.remote.webelement.WebElement (session=\"3b1ac8a58ec6907fd40741b20b5047c4\", element=\"572842ed-1eae-4a2d-bb94-03c741ed2f9c\")>,\n",
       " <selenium.webdriver.remote.webelement.WebElement (session=\"3b1ac8a58ec6907fd40741b20b5047c4\", element=\"11b6f0ae-e249-40bf-8090-7dcfae7432e6\")>,\n",
       " <selenium.webdriver.remote.webelement.WebElement (session=\"3b1ac8a58ec6907fd40741b20b5047c4\", element=\"00401a33-8911-409d-858b-de598869f26c\")>,\n",
       " <selenium.webdriver.remote.webelement.WebElement (session=\"3b1ac8a58ec6907fd40741b20b5047c4\", element=\"5ba46f82-8d34-460f-b889-00fa7d747664\")>,\n",
       " <selenium.webdriver.remote.webelement.WebElement (session=\"3b1ac8a58ec6907fd40741b20b5047c4\", element=\"95ca4dd3-f1fd-49d5-bf1c-22cf6e41b482\")>,\n",
       " <selenium.webdriver.remote.webelement.WebElement (session=\"3b1ac8a58ec6907fd40741b20b5047c4\", element=\"1d504cbb-ca1f-4e27-8b8f-e5d8e4100f90\")>]"
      ]
     },
     "execution_count": 390,
     "metadata": {},
     "output_type": "execute_result"
    }
   ],
   "source": [
    "company_name_tags=driver.find_elements_by_xpath(\"//div[@class='name']\")\n",
    "company_name_tags[0:10]"
   ]
  },
  {
   "cell_type": "code",
   "execution_count": 391,
   "id": "4a7d2c3a",
   "metadata": {},
   "outputs": [
    {
     "data": {
      "text/plain": [
       "['Walmart\\nbased on 11 salaries',\n",
       " 'Ab Inbev\\nbased on 32 salaries',\n",
       " 'Reliance Jio\\nbased on 10 salaries',\n",
       " 'ZS\\nbased on 15 salaries',\n",
       " 'Optum\\nbased on 30 salaries',\n",
       " 'Fractal Analytics\\nbased on 82 salaries',\n",
       " 'Tiger Analytics\\nbased on 47 salaries',\n",
       " 'UnitedHealth\\nbased on 55 salaries',\n",
       " 'Verizon\\nbased on 14 salaries',\n",
       " 'Ganit Business Solutions\\nbased on 13 salaries']"
      ]
     },
     "execution_count": 391,
     "metadata": {},
     "output_type": "execute_result"
    }
   ],
   "source": [
    "for i in company_name_tags:\n",
    "    text=i.text\n",
    "    Company_name.append(text)\n",
    "Company_name[0:10]"
   ]
  },
  {
   "cell_type": "code",
   "execution_count": 416,
   "id": "78643589",
   "metadata": {},
   "outputs": [],
   "source": [
    "Average_salary=[]"
   ]
  },
  {
   "cell_type": "code",
   "execution_count": 417,
   "id": "167741d0",
   "metadata": {},
   "outputs": [
    {
     "data": {
      "text/plain": [
       "[<selenium.webdriver.remote.webelement.WebElement (session=\"3b1ac8a58ec6907fd40741b20b5047c4\", element=\"bf3c1238-335a-4da7-a87f-16482cdddf6d\")>,\n",
       " <selenium.webdriver.remote.webelement.WebElement (session=\"3b1ac8a58ec6907fd40741b20b5047c4\", element=\"5b46c19e-da47-4464-8c2b-bf05bb753d63\")>,\n",
       " <selenium.webdriver.remote.webelement.WebElement (session=\"3b1ac8a58ec6907fd40741b20b5047c4\", element=\"73148b38-9e26-4a34-badb-5d867015e504\")>,\n",
       " <selenium.webdriver.remote.webelement.WebElement (session=\"3b1ac8a58ec6907fd40741b20b5047c4\", element=\"af0a2355-bb7b-4cec-a442-17a7f948a295\")>,\n",
       " <selenium.webdriver.remote.webelement.WebElement (session=\"3b1ac8a58ec6907fd40741b20b5047c4\", element=\"353a03b5-fdbb-4e5e-a848-7a7ce2da9b0b\")>,\n",
       " <selenium.webdriver.remote.webelement.WebElement (session=\"3b1ac8a58ec6907fd40741b20b5047c4\", element=\"f4eadf14-6bbb-443e-8b57-e40b4b8a5658\")>,\n",
       " <selenium.webdriver.remote.webelement.WebElement (session=\"3b1ac8a58ec6907fd40741b20b5047c4\", element=\"4999e01e-24de-4681-8c0b-6de2bc55a03a\")>,\n",
       " <selenium.webdriver.remote.webelement.WebElement (session=\"3b1ac8a58ec6907fd40741b20b5047c4\", element=\"74e7f2a7-3752-4da8-a7a8-9cbd5bc16cbf\")>,\n",
       " <selenium.webdriver.remote.webelement.WebElement (session=\"3b1ac8a58ec6907fd40741b20b5047c4\", element=\"efd137fb-83d6-42ed-bd26-b43e3493f184\")>,\n",
       " <selenium.webdriver.remote.webelement.WebElement (session=\"3b1ac8a58ec6907fd40741b20b5047c4\", element=\"cd4ddff2-575a-4621-83a2-b1821330f52a\")>]"
      ]
     },
     "execution_count": 417,
     "metadata": {},
     "output_type": "execute_result"
    }
   ],
   "source": [
    "Average_salary_tags=driver.find_elements_by_xpath(\"//div[@class='average-indicator-wrapper']\")\n",
    "Average_salary_tags[0:10]"
   ]
  },
  {
   "cell_type": "code",
   "execution_count": 418,
   "id": "3e563bc8",
   "metadata": {},
   "outputs": [
    {
     "data": {
      "text/plain": [
       "['₹ 29.7L',\n",
       " '₹ 20.5L',\n",
       " '₹ 18.9L',\n",
       " '₹ 16.7L',\n",
       " '₹ 15.9L',\n",
       " '₹ 15.4L',\n",
       " '₹ 14.8L',\n",
       " '₹ 13.9L',\n",
       " '₹ 12.7L',\n",
       " '₹ 12.4L']"
      ]
     },
     "execution_count": 418,
     "metadata": {},
     "output_type": "execute_result"
    }
   ],
   "source": [
    "for i in Average_salary_tags:\n",
    "    text=i.text\n",
    "    Average_salary.append(text)\n",
    "Average_salary[0:10]"
   ]
  },
  {
   "cell_type": "code",
   "execution_count": 422,
   "id": "5fbd4ddf",
   "metadata": {},
   "outputs": [],
   "source": [
    "min_max_salary=[]"
   ]
  },
  {
   "cell_type": "code",
   "execution_count": 424,
   "id": "8e94b373",
   "metadata": {},
   "outputs": [
    {
     "data": {
      "text/plain": [
       "[<selenium.webdriver.remote.webelement.WebElement (session=\"3b1ac8a58ec6907fd40741b20b5047c4\", element=\"27a0101c-7dc2-4111-b02e-65de6ab86355\")>,\n",
       " <selenium.webdriver.remote.webelement.WebElement (session=\"3b1ac8a58ec6907fd40741b20b5047c4\", element=\"179fb216-e5d4-498a-a289-01b1c0da7f0d\")>,\n",
       " <selenium.webdriver.remote.webelement.WebElement (session=\"3b1ac8a58ec6907fd40741b20b5047c4\", element=\"c857f088-daa7-4cbf-b4df-0e30e6875204\")>,\n",
       " <selenium.webdriver.remote.webelement.WebElement (session=\"3b1ac8a58ec6907fd40741b20b5047c4\", element=\"1d4eef1d-31ec-47d2-9a2a-7711f7032cf9\")>,\n",
       " <selenium.webdriver.remote.webelement.WebElement (session=\"3b1ac8a58ec6907fd40741b20b5047c4\", element=\"3437628d-37f6-4402-a4ef-31ceabc00650\")>,\n",
       " <selenium.webdriver.remote.webelement.WebElement (session=\"3b1ac8a58ec6907fd40741b20b5047c4\", element=\"abd73c85-b5be-4ba0-9cf4-cef3834090b3\")>,\n",
       " <selenium.webdriver.remote.webelement.WebElement (session=\"3b1ac8a58ec6907fd40741b20b5047c4\", element=\"f76fa55b-b619-4c75-b1bb-87f6288b8ceb\")>,\n",
       " <selenium.webdriver.remote.webelement.WebElement (session=\"3b1ac8a58ec6907fd40741b20b5047c4\", element=\"257e913e-af17-43f5-bcca-4bfb089694ca\")>,\n",
       " <selenium.webdriver.remote.webelement.WebElement (session=\"3b1ac8a58ec6907fd40741b20b5047c4\", element=\"a98c00ad-7090-40d3-a92c-50290cbedc41\")>,\n",
       " <selenium.webdriver.remote.webelement.WebElement (session=\"3b1ac8a58ec6907fd40741b20b5047c4\", element=\"b0d8c691-9888-453f-99ed-e8cac5c65973\")>]"
      ]
     },
     "execution_count": 424,
     "metadata": {},
     "output_type": "execute_result"
    }
   ],
   "source": [
    "min_max_salary_tags=driver.find_elements_by_xpath(\"//div[@class='salary-values']\")\n",
    "min_max_salary_tags[0:10]"
   ]
  },
  {
   "cell_type": "code",
   "execution_count": 425,
   "id": "bccc5a88",
   "metadata": {},
   "outputs": [
    {
     "data": {
      "text/plain": [
       "['₹ 25.0L\\n₹ 35.0L',\n",
       " '₹ 15.0L\\n₹ 25.5L',\n",
       " '₹ 5.6L\\n₹ 26.2L',\n",
       " '₹ 11.0L\\n₹ 22.0L',\n",
       " '₹ 11.0L\\n₹ 22.6L',\n",
       " '₹ 9.7L\\n₹ 23.0L',\n",
       " '₹ 9.0L\\n₹ 20.0L',\n",
       " '₹ 8.3L\\n₹ 20.5L',\n",
       " '₹ 10.0L\\n₹ 21.0L',\n",
       " '₹ 8.5L\\n₹ 15.0L']"
      ]
     },
     "execution_count": 425,
     "metadata": {},
     "output_type": "execute_result"
    }
   ],
   "source": [
    "for i in min_max_salary_tags:\n",
    "    text=i.text\n",
    "    min_max_salary.append(text)\n",
    "min_max_salary[0:10]"
   ]
  },
  {
   "cell_type": "code",
   "execution_count": 426,
   "id": "db8e4e83",
   "metadata": {},
   "outputs": [],
   "source": [
    "experience_required=[]"
   ]
  },
  {
   "cell_type": "code",
   "execution_count": 427,
   "id": "d9a6082a",
   "metadata": {},
   "outputs": [
    {
     "data": {
      "text/plain": [
       "[<selenium.webdriver.remote.webelement.WebElement (session=\"3b1ac8a58ec6907fd40741b20b5047c4\", element=\"bba1e79d-cb07-456a-9f1a-4040f44ff169\")>,\n",
       " <selenium.webdriver.remote.webelement.WebElement (session=\"3b1ac8a58ec6907fd40741b20b5047c4\", element=\"11e278f3-155d-40f8-b917-039995a03610\")>,\n",
       " <selenium.webdriver.remote.webelement.WebElement (session=\"3b1ac8a58ec6907fd40741b20b5047c4\", element=\"c7148ef7-b9b4-40f3-a438-24004e2450f3\")>,\n",
       " <selenium.webdriver.remote.webelement.WebElement (session=\"3b1ac8a58ec6907fd40741b20b5047c4\", element=\"f73337ae-b9c1-4840-97f6-9d36be0dc929\")>,\n",
       " <selenium.webdriver.remote.webelement.WebElement (session=\"3b1ac8a58ec6907fd40741b20b5047c4\", element=\"67db3341-01c3-4d88-9e46-095597620cce\")>,\n",
       " <selenium.webdriver.remote.webelement.WebElement (session=\"3b1ac8a58ec6907fd40741b20b5047c4\", element=\"f503eb29-b545-4fde-baf1-7d421b8dd381\")>,\n",
       " <selenium.webdriver.remote.webelement.WebElement (session=\"3b1ac8a58ec6907fd40741b20b5047c4\", element=\"469c2fc9-716c-4680-8c16-261f31c2fcc1\")>,\n",
       " <selenium.webdriver.remote.webelement.WebElement (session=\"3b1ac8a58ec6907fd40741b20b5047c4\", element=\"89a3aaba-2b96-4446-89e2-b90ac2e002fc\")>,\n",
       " <selenium.webdriver.remote.webelement.WebElement (session=\"3b1ac8a58ec6907fd40741b20b5047c4\", element=\"088b9a06-ed7c-41e5-b3bf-dfa6b9ab9dbc\")>,\n",
       " <selenium.webdriver.remote.webelement.WebElement (session=\"3b1ac8a58ec6907fd40741b20b5047c4\", element=\"60a52e9a-f7d0-4814-b186-5f30eaac0707\")>]"
      ]
     },
     "execution_count": 427,
     "metadata": {},
     "output_type": "execute_result"
    }
   ],
   "source": [
    "experience_required_tags=driver.find_elements_by_xpath(\"//div[@class='salaries sbold-list-header']\")\n",
    "experience_required_tags[0:10]"
   ]
  },
  {
   "cell_type": "code",
   "execution_count": 430,
   "id": "d115421b",
   "metadata": {},
   "outputs": [
    {
     "data": {
      "text/plain": [
       "['Data Scientist\\n . \\n3 yrs exp',\n",
       " 'Data Scientist\\n . \\n3-4 yrs exp',\n",
       " 'Data Scientist\\n . \\n4 yrs exp',\n",
       " 'Data Scientist\\n . \\n2 yrs exp',\n",
       " 'Data Scientist\\n . \\n3-4 yrs exp',\n",
       " 'Data Scientist\\n . \\n2-4 yrs exp',\n",
       " 'Data Scientist\\n . \\n2-4 yrs exp',\n",
       " 'Data Scientist\\n . \\n2-4 yrs exp',\n",
       " 'Data Scientist\\n . \\n4 yrs exp',\n",
       " 'Data Scientist\\n . \\n4 yrs exp']"
      ]
     },
     "execution_count": 430,
     "metadata": {},
     "output_type": "execute_result"
    }
   ],
   "source": [
    "for i in experience_required_tags:\n",
    "    text=i.text\n",
    "    experience_required.append(text)\n",
    "experience_required[0:10]"
   ]
  },
  {
   "cell_type": "code",
   "execution_count": 431,
   "id": "10d58e76",
   "metadata": {},
   "outputs": [],
   "source": [
    "driver.close()"
   ]
  },
  {
   "cell_type": "markdown",
   "id": "7feb3c40",
   "metadata": {},
   "source": [
    "# 7) Write a python program to scrape data for “Data Scientist” Job position in “Bangalore” location. Youhave to scrape the job-title, job-location, company_name. You have to scrape first 10 jobs data."
   ]
  },
  {
   "cell_type": "code",
   "execution_count": 432,
   "id": "3d4214f6",
   "metadata": {},
   "outputs": [],
   "source": [
    "import selenium                              #library that is used to work with selenium.\n",
    "import pandas as pd                          #to create dataframe.\n",
    "from selenium import webdriver               #importing webdriver module from selenium to open up automated chrome windows.\n",
    "import warnings                              #to ignore any sort of warning.\n",
    "warnings.filterwarnings(\"ignore\")\n",
    "import time "
   ]
  },
  {
   "cell_type": "code",
   "execution_count": 433,
   "id": "256379e1",
   "metadata": {},
   "outputs": [],
   "source": [
    "#Let us first connect to the web driver\n",
    "driver=webdriver.Chrome(\"chromedriver.exe\")\n",
    "time.sleep(2)"
   ]
  },
  {
   "cell_type": "code",
   "execution_count": 434,
   "id": "a48a3add",
   "metadata": {},
   "outputs": [],
   "source": [
    "#opening up naukri.com website on automated chrome window\n",
    "driver.get(\"https://www.naukri.com/\")"
   ]
  },
  {
   "cell_type": "code",
   "execution_count": 435,
   "id": "a86f8603",
   "metadata": {},
   "outputs": [],
   "source": [
    "#finding element for job search bar\n",
    "search_field_designation=driver.find_element_by_class_name(\"suggestor-input\") #job search bar\n",
    "search_field_designation.send_keys(\"Data Scientist\")"
   ]
  },
  {
   "cell_type": "code",
   "execution_count": 436,
   "id": "211a1d43",
   "metadata": {},
   "outputs": [],
   "source": [
    "#entering location Bangalore in location search bar\n",
    "search_field_location=driver.find_element_by_xpath(\"/html/body/div/div[2]/div[3]/div/div/div[3]/div/div/div/input\") #location saerch bar\n",
    "search_field_location.send_keys(\"Bangalore\")"
   ]
  },
  {
   "cell_type": "code",
   "execution_count": 437,
   "id": "97df7445",
   "metadata": {},
   "outputs": [],
   "source": [
    "#Clicking on search button\n",
    "search_button=driver.find_element_by_xpath(\"/html/body/div/div[2]/div[3]/div/div/div[6]\")\n",
    "search_button.click()"
   ]
  },
  {
   "cell_type": "code",
   "execution_count": 438,
   "id": "30499956",
   "metadata": {},
   "outputs": [],
   "source": [
    "job_title=[]"
   ]
  },
  {
   "cell_type": "code",
   "execution_count": 439,
   "id": "a80de3a1",
   "metadata": {},
   "outputs": [
    {
     "data": {
      "text/plain": [
       "[<selenium.webdriver.remote.webelement.WebElement (session=\"d13dd9cb2650367ba3372163b4a368f8\", element=\"cb1786c3-a4d9-4eb6-a4ed-0350e7e68141\")>,\n",
       " <selenium.webdriver.remote.webelement.WebElement (session=\"d13dd9cb2650367ba3372163b4a368f8\", element=\"f1b4bd58-78f4-490a-acdf-d232ac2d1219\")>,\n",
       " <selenium.webdriver.remote.webelement.WebElement (session=\"d13dd9cb2650367ba3372163b4a368f8\", element=\"471ea41b-8bb1-49dd-bd46-5bbd7a609831\")>,\n",
       " <selenium.webdriver.remote.webelement.WebElement (session=\"d13dd9cb2650367ba3372163b4a368f8\", element=\"5326905c-db71-49b1-810a-994ad147a440\")>,\n",
       " <selenium.webdriver.remote.webelement.WebElement (session=\"d13dd9cb2650367ba3372163b4a368f8\", element=\"02d1c73b-bb47-4fb2-9df9-d390c2f6312c\")>,\n",
       " <selenium.webdriver.remote.webelement.WebElement (session=\"d13dd9cb2650367ba3372163b4a368f8\", element=\"7fdbd906-7eaf-4b2d-8ef1-6ba53e736644\")>,\n",
       " <selenium.webdriver.remote.webelement.WebElement (session=\"d13dd9cb2650367ba3372163b4a368f8\", element=\"dea362b7-8f16-4700-b3a7-67bc76909e68\")>,\n",
       " <selenium.webdriver.remote.webelement.WebElement (session=\"d13dd9cb2650367ba3372163b4a368f8\", element=\"4967bdb0-c295-455a-835b-1f3ea53a0ce0\")>,\n",
       " <selenium.webdriver.remote.webelement.WebElement (session=\"d13dd9cb2650367ba3372163b4a368f8\", element=\"2f964bdf-772b-41ae-9452-1c3e6763e7d5\")>,\n",
       " <selenium.webdriver.remote.webelement.WebElement (session=\"d13dd9cb2650367ba3372163b4a368f8\", element=\"ce68cd3f-3123-4eae-a231-e54d62124432\")>]"
      ]
     },
     "execution_count": 439,
     "metadata": {},
     "output_type": "execute_result"
    }
   ],
   "source": [
    "job_title_tags=driver.find_elements_by_xpath(\"//a[@class='title fw500 ellipsis']\")\n",
    "job_title_tags[0:10]"
   ]
  },
  {
   "cell_type": "code",
   "execution_count": 440,
   "id": "7f7d58fe",
   "metadata": {},
   "outputs": [
    {
     "data": {
      "text/plain": [
       "['Senior Data Scientist',\n",
       " 'Applied Data Scientist / ML Senior Engineer (Python / SQL)',\n",
       " 'Data Scientist',\n",
       " 'Expert Data Scientist',\n",
       " 'Principal Data Scientist',\n",
       " 'Lead Python Data Scientist',\n",
       " 'Senior Data Scientist Grade12',\n",
       " 'Senior Data Scientist Grade12',\n",
       " 'Sr. Analyst - Applied Data Scientist',\n",
       " 'Data Scientist: Advanced Analytics']"
      ]
     },
     "execution_count": 440,
     "metadata": {},
     "output_type": "execute_result"
    }
   ],
   "source": [
    "for i in job_title_tags:\n",
    "    text=i.text\n",
    "    job_title.append(text)\n",
    "job_title[0:10]"
   ]
  },
  {
   "cell_type": "code",
   "execution_count": 447,
   "id": "374e6c4e",
   "metadata": {},
   "outputs": [],
   "source": [
    "job_location=[]"
   ]
  },
  {
   "cell_type": "code",
   "execution_count": 448,
   "id": "0bcfd656",
   "metadata": {},
   "outputs": [
    {
     "data": {
      "text/plain": [
       "[<selenium.webdriver.remote.webelement.WebElement (session=\"d13dd9cb2650367ba3372163b4a368f8\", element=\"9d7e0723-dd3e-4f6c-a600-553be02aa529\")>,\n",
       " <selenium.webdriver.remote.webelement.WebElement (session=\"d13dd9cb2650367ba3372163b4a368f8\", element=\"bbb9d328-3715-437f-9386-60681e1f192c\")>,\n",
       " <selenium.webdriver.remote.webelement.WebElement (session=\"d13dd9cb2650367ba3372163b4a368f8\", element=\"0f0d8fb6-915f-4730-a454-adf7bec66136\")>,\n",
       " <selenium.webdriver.remote.webelement.WebElement (session=\"d13dd9cb2650367ba3372163b4a368f8\", element=\"dd3e7bb2-ca86-40c0-bd39-4a7ed9c370de\")>,\n",
       " <selenium.webdriver.remote.webelement.WebElement (session=\"d13dd9cb2650367ba3372163b4a368f8\", element=\"f886dd53-2cc6-4093-9f19-513a97c422d5\")>,\n",
       " <selenium.webdriver.remote.webelement.WebElement (session=\"d13dd9cb2650367ba3372163b4a368f8\", element=\"33944ef5-2881-4c7a-83c6-e6152289d780\")>,\n",
       " <selenium.webdriver.remote.webelement.WebElement (session=\"d13dd9cb2650367ba3372163b4a368f8\", element=\"84c69d13-1e4f-4322-a176-8428ac7a8440\")>,\n",
       " <selenium.webdriver.remote.webelement.WebElement (session=\"d13dd9cb2650367ba3372163b4a368f8\", element=\"22037af5-5b45-4ce1-b3e9-fefb2a4621ce\")>,\n",
       " <selenium.webdriver.remote.webelement.WebElement (session=\"d13dd9cb2650367ba3372163b4a368f8\", element=\"b7bae873-3e94-4dab-8d1f-06348a8ca80c\")>,\n",
       " <selenium.webdriver.remote.webelement.WebElement (session=\"d13dd9cb2650367ba3372163b4a368f8\", element=\"f544e4a5-4502-4dcc-a73f-9775deb9c7f5\")>]"
      ]
     },
     "execution_count": 448,
     "metadata": {},
     "output_type": "execute_result"
    }
   ],
   "source": [
    "job_location_tags=driver.find_elements_by_xpath(\"//li[@class='fleft grey-text br2 placeHolderLi location']\")\n",
    "job_location_tags[0:10]"
   ]
  },
  {
   "cell_type": "code",
   "execution_count": 449,
   "id": "4df5693d",
   "metadata": {},
   "outputs": [
    {
     "data": {
      "text/plain": [
       "['Bangalore/Bengaluru, Mumbai (All Areas)',\n",
       " 'Bangalore/Bengaluru',\n",
       " 'Bangalore/Bengaluru, Mumbai (All Areas)',\n",
       " 'Bangalore/Bengaluru, Mumbai (All Areas)',\n",
       " 'Bangalore/Bengaluru, Mumbai (All Areas)',\n",
       " 'Bangalore/Bengaluru',\n",
       " 'Bangalore/Bengaluru',\n",
       " 'Bangalore/Bengaluru',\n",
       " 'Bangalore/Bengaluru',\n",
       " 'Bangalore/Bengaluru']"
      ]
     },
     "execution_count": 449,
     "metadata": {},
     "output_type": "execute_result"
    }
   ],
   "source": [
    "for i in job_location_tags:\n",
    "    text=i.text\n",
    "    job_location.append(text)\n",
    "job_location[0:10]"
   ]
  },
  {
   "cell_type": "code",
   "execution_count": 450,
   "id": "f390e8fd",
   "metadata": {},
   "outputs": [],
   "source": [
    "Company_name=[]"
   ]
  },
  {
   "cell_type": "code",
   "execution_count": 451,
   "id": "c5d52097",
   "metadata": {},
   "outputs": [
    {
     "data": {
      "text/plain": [
       "[<selenium.webdriver.remote.webelement.WebElement (session=\"d13dd9cb2650367ba3372163b4a368f8\", element=\"9d18c3b9-7524-4851-800a-5bc9bc8b167a\")>,\n",
       " <selenium.webdriver.remote.webelement.WebElement (session=\"d13dd9cb2650367ba3372163b4a368f8\", element=\"a4590f23-a46c-46c3-8ce7-acf2cb0eeb3a\")>,\n",
       " <selenium.webdriver.remote.webelement.WebElement (session=\"d13dd9cb2650367ba3372163b4a368f8\", element=\"30b11c23-d31e-4247-bda8-42c46422ed26\")>,\n",
       " <selenium.webdriver.remote.webelement.WebElement (session=\"d13dd9cb2650367ba3372163b4a368f8\", element=\"ffbb57f9-084e-4e30-9d00-579906194512\")>,\n",
       " <selenium.webdriver.remote.webelement.WebElement (session=\"d13dd9cb2650367ba3372163b4a368f8\", element=\"574614a7-65e0-49a5-a6e9-86046987241e\")>,\n",
       " <selenium.webdriver.remote.webelement.WebElement (session=\"d13dd9cb2650367ba3372163b4a368f8\", element=\"6393a7e6-4492-4c21-b3b5-d8e64455d8de\")>,\n",
       " <selenium.webdriver.remote.webelement.WebElement (session=\"d13dd9cb2650367ba3372163b4a368f8\", element=\"b7b7b17c-c96d-44d6-a32f-5cd4d53a83fc\")>,\n",
       " <selenium.webdriver.remote.webelement.WebElement (session=\"d13dd9cb2650367ba3372163b4a368f8\", element=\"2fa3545b-4584-4231-9486-893b6bd36672\")>,\n",
       " <selenium.webdriver.remote.webelement.WebElement (session=\"d13dd9cb2650367ba3372163b4a368f8\", element=\"e3c64197-8373-4baf-bb11-ed07390d7ff0\")>,\n",
       " <selenium.webdriver.remote.webelement.WebElement (session=\"d13dd9cb2650367ba3372163b4a368f8\", element=\"1ce8e6b8-7810-4238-a8d2-3c9c728d4fd4\")>]"
      ]
     },
     "execution_count": 451,
     "metadata": {},
     "output_type": "execute_result"
    }
   ],
   "source": [
    "company_name_tags=driver.find_elements_by_xpath(\"//a[@class='subTitle ellipsis fleft']\")\n",
    "company_name_tags[0:10]"
   ]
  },
  {
   "cell_type": "code",
   "execution_count": 452,
   "id": "cb0880e9",
   "metadata": {},
   "outputs": [
    {
     "data": {
      "text/plain": [
       "['UPL',\n",
       " 'SAP India Pvt.Ltd',\n",
       " 'UPL',\n",
       " 'UPL',\n",
       " 'UPL',\n",
       " 'Micello India Pvt Ltd',\n",
       " 'Flipkart',\n",
       " 'Flipkart',\n",
       " 'Tesco',\n",
       " 'IBM']"
      ]
     },
     "execution_count": 452,
     "metadata": {},
     "output_type": "execute_result"
    }
   ],
   "source": [
    "for i in company_name_tags:\n",
    "    text=i.text\n",
    "    Company_name.append(text)\n",
    "Company_name[0:10]   "
   ]
  },
  {
   "cell_type": "code",
   "execution_count": 520,
   "id": "1d29cd76",
   "metadata": {},
   "outputs": [],
   "source": [
    "#import pandas as pd\n",
    "jobs=pd.DataFrame({})\n",
    "jobs['title']=job_title[0:10]\n",
    "jobs['location']=job_location[0:10]\n",
    "jobs['company']=Company_name[0:10]"
   ]
  },
  {
   "cell_type": "code",
   "execution_count": 521,
   "id": "aaf973ab",
   "metadata": {},
   "outputs": [
    {
     "data": {
      "text/html": [
       "<div>\n",
       "<style scoped>\n",
       "    .dataframe tbody tr th:only-of-type {\n",
       "        vertical-align: middle;\n",
       "    }\n",
       "\n",
       "    .dataframe tbody tr th {\n",
       "        vertical-align: top;\n",
       "    }\n",
       "\n",
       "    .dataframe thead th {\n",
       "        text-align: right;\n",
       "    }\n",
       "</style>\n",
       "<table border=\"1\" class=\"dataframe\">\n",
       "  <thead>\n",
       "    <tr style=\"text-align: right;\">\n",
       "      <th></th>\n",
       "      <th>title</th>\n",
       "      <th>location</th>\n",
       "      <th>company</th>\n",
       "    </tr>\n",
       "  </thead>\n",
       "  <tbody>\n",
       "    <tr>\n",
       "      <th>0</th>\n",
       "      <td>Job Opportunity || Data Scientist || HCL Techn...</td>\n",
       "      <td>Delhi / NCR</td>\n",
       "      <td>UPL</td>\n",
       "    </tr>\n",
       "    <tr>\n",
       "      <th>1</th>\n",
       "      <td>Job Opening For Data Scientist - Rapid Miner</td>\n",
       "      <td>Kochi/Cochin, Kolkata, Gurgaon/Gurugram, Chenn...</td>\n",
       "      <td>SAP India Pvt.Ltd</td>\n",
       "    </tr>\n",
       "    <tr>\n",
       "      <th>2</th>\n",
       "      <td>Data Scientist</td>\n",
       "      <td>Gurgaon</td>\n",
       "      <td>UPL</td>\n",
       "    </tr>\n",
       "    <tr>\n",
       "      <th>3</th>\n",
       "      <td>Manager - Data Scientist</td>\n",
       "      <td>Gurgaon/Gurugram</td>\n",
       "      <td>UPL</td>\n",
       "    </tr>\n",
       "    <tr>\n",
       "      <th>4</th>\n",
       "      <td>Assistant Vice President - Data Scientist</td>\n",
       "      <td>Gurgaon/Gurugram</td>\n",
       "      <td>UPL</td>\n",
       "    </tr>\n",
       "    <tr>\n",
       "      <th>5</th>\n",
       "      <td>Data Scientist with Text Analytics and NLP</td>\n",
       "      <td>Gurgaon/Gurugram, Delhi / NCR</td>\n",
       "      <td>Micello India Pvt Ltd</td>\n",
       "    </tr>\n",
       "    <tr>\n",
       "      <th>6</th>\n",
       "      <td>Data Scientist- Fresher Opening - Newgen Softw...</td>\n",
       "      <td>Noida</td>\n",
       "      <td>Flipkart</td>\n",
       "    </tr>\n",
       "    <tr>\n",
       "      <th>7</th>\n",
       "      <td>Speech Analyst - Data Miner</td>\n",
       "      <td>Gurgaon/Gurugram, Bangalore/Bengaluru\\n(WFH du...</td>\n",
       "      <td>Flipkart</td>\n",
       "    </tr>\n",
       "    <tr>\n",
       "      <th>8</th>\n",
       "      <td>Senior Data Lead / Architect - HCL Technologies</td>\n",
       "      <td>Noida, Hyderabad/Secunderabad, Pune, Chennai, ...</td>\n",
       "      <td>Tesco</td>\n",
       "    </tr>\n",
       "    <tr>\n",
       "      <th>9</th>\n",
       "      <td>Gcp Data Engineer</td>\n",
       "      <td>Hyderabad/Secunderabad, Bangalore/Bengaluru, D...</td>\n",
       "      <td>IBM</td>\n",
       "    </tr>\n",
       "  </tbody>\n",
       "</table>\n",
       "</div>"
      ],
      "text/plain": [
       "                                               title  \\\n",
       "0  Job Opportunity || Data Scientist || HCL Techn...   \n",
       "1       Job Opening For Data Scientist - Rapid Miner   \n",
       "2                                     Data Scientist   \n",
       "3                           Manager - Data Scientist   \n",
       "4          Assistant Vice President - Data Scientist   \n",
       "5         Data Scientist with Text Analytics and NLP   \n",
       "6  Data Scientist- Fresher Opening - Newgen Softw...   \n",
       "7                        Speech Analyst - Data Miner   \n",
       "8    Senior Data Lead / Architect - HCL Technologies   \n",
       "9                                  Gcp Data Engineer   \n",
       "\n",
       "                                            location                company  \n",
       "0                                        Delhi / NCR                    UPL  \n",
       "1  Kochi/Cochin, Kolkata, Gurgaon/Gurugram, Chenn...      SAP India Pvt.Ltd  \n",
       "2                                            Gurgaon                    UPL  \n",
       "3                                   Gurgaon/Gurugram                    UPL  \n",
       "4                                   Gurgaon/Gurugram                    UPL  \n",
       "5                      Gurgaon/Gurugram, Delhi / NCR  Micello India Pvt Ltd  \n",
       "6                                              Noida               Flipkart  \n",
       "7  Gurgaon/Gurugram, Bangalore/Bengaluru\\n(WFH du...               Flipkart  \n",
       "8  Noida, Hyderabad/Secunderabad, Pune, Chennai, ...                  Tesco  \n",
       "9  Hyderabad/Secunderabad, Bangalore/Bengaluru, D...                    IBM  "
      ]
     },
     "execution_count": 521,
     "metadata": {},
     "output_type": "execute_result"
    }
   ],
   "source": [
    "jobs"
   ]
  },
  {
   "cell_type": "code",
   "execution_count": 453,
   "id": "b74afcb4",
   "metadata": {},
   "outputs": [],
   "source": [
    "driver.close()"
   ]
  },
  {
   "cell_type": "markdown",
   "id": "46e90700",
   "metadata": {},
   "source": [
    "# 8) In this question you have to scrape data using the filters available on the webpage as shown below"
   ]
  },
  {
   "cell_type": "code",
   "execution_count": 489,
   "id": "aae5d86b",
   "metadata": {},
   "outputs": [],
   "source": [
    "import selenium                              #library that is used to work with selenium.\n",
    "import pandas as pd                          #to create dataframe.\n",
    "from selenium import webdriver               #importing webdriver module from selenium to open up automated chrome windows.\n",
    "import warnings                              #to ignore any sort of warning.\n",
    "warnings.filterwarnings(\"ignore\")\n",
    "import time "
   ]
  },
  {
   "cell_type": "code",
   "execution_count": 490,
   "id": "11eddc4d",
   "metadata": {},
   "outputs": [],
   "source": [
    "#Let us first connect to the web driver\n",
    "driver=webdriver.Chrome(\"chromedriver.exe\")\n",
    "time.sleep(2)"
   ]
  },
  {
   "cell_type": "code",
   "execution_count": 491,
   "id": "0a2ab13d",
   "metadata": {},
   "outputs": [],
   "source": [
    "#opening up naukri.com website on automated chrome window\n",
    "driver.get(\"https://www.naukri.com/\")"
   ]
  },
  {
   "cell_type": "code",
   "execution_count": 492,
   "id": "f653a2f7",
   "metadata": {},
   "outputs": [],
   "source": [
    "#finding element for job search bar\n",
    "search_field_designation=driver.find_element_by_class_name(\"suggestor-input\") #job search bar\n",
    "search_field_designation.send_keys(\"Data Scientist\")"
   ]
  },
  {
   "cell_type": "code",
   "execution_count": 493,
   "id": "127c2df6",
   "metadata": {},
   "outputs": [],
   "source": [
    "#entering location Bangalore in location search bar\n",
    "search_field_location=driver.find_element_by_xpath(\"/html/body/div/div[2]/div[3]/div/div/div[3]/div/div/div/input\") #location saerch bar\n",
    "search_field_location.send_keys(\"Delhi/NCR\")"
   ]
  },
  {
   "cell_type": "code",
   "execution_count": 494,
   "id": "e65a7cda",
   "metadata": {},
   "outputs": [],
   "source": [
    "#Clicking on search button\n",
    "search_button=driver.find_element_by_xpath(\"/html/body/div/div[2]/div[3]/div/div/div[6]\")\n",
    "search_button.click()"
   ]
  },
  {
   "cell_type": "code",
   "execution_count": 495,
   "id": "c68b75ce",
   "metadata": {},
   "outputs": [],
   "source": [
    "salary =  driver.find_element_by_xpath(\"/html/body/div[1]/div[3]/div[2]/section[1]/div[2]/div[5]/div[2]/div[2]/label/i\")\n",
    "salary.click()"
   ]
  },
  {
   "cell_type": "code",
   "execution_count": 496,
   "id": "ffa13c18",
   "metadata": {},
   "outputs": [],
   "source": [
    "job_title=[]"
   ]
  },
  {
   "cell_type": "code",
   "execution_count": 497,
   "id": "efd13ab7",
   "metadata": {},
   "outputs": [
    {
     "data": {
      "text/plain": [
       "[<selenium.webdriver.remote.webelement.WebElement (session=\"c5e149583d3382af37f5825245b3f7dc\", element=\"37f1b541-a34c-4d6d-99f5-a77aae5926d1\")>,\n",
       " <selenium.webdriver.remote.webelement.WebElement (session=\"c5e149583d3382af37f5825245b3f7dc\", element=\"2aa33478-fb31-4324-a2cf-2dd3130f6176\")>,\n",
       " <selenium.webdriver.remote.webelement.WebElement (session=\"c5e149583d3382af37f5825245b3f7dc\", element=\"bb474a29-779c-4c96-88ed-b5d93d9bde81\")>,\n",
       " <selenium.webdriver.remote.webelement.WebElement (session=\"c5e149583d3382af37f5825245b3f7dc\", element=\"83f7b049-09ea-452c-9870-6ff27508b036\")>,\n",
       " <selenium.webdriver.remote.webelement.WebElement (session=\"c5e149583d3382af37f5825245b3f7dc\", element=\"93b0a43c-9a61-4ba9-8808-ee1e484a6390\")>,\n",
       " <selenium.webdriver.remote.webelement.WebElement (session=\"c5e149583d3382af37f5825245b3f7dc\", element=\"f9f3b287-5bf7-47c5-b490-24cb72505092\")>,\n",
       " <selenium.webdriver.remote.webelement.WebElement (session=\"c5e149583d3382af37f5825245b3f7dc\", element=\"46badeb1-7532-4b47-9964-8dfbea4e2432\")>,\n",
       " <selenium.webdriver.remote.webelement.WebElement (session=\"c5e149583d3382af37f5825245b3f7dc\", element=\"ed747f1a-dcc9-42f1-9767-24cc29233883\")>,\n",
       " <selenium.webdriver.remote.webelement.WebElement (session=\"c5e149583d3382af37f5825245b3f7dc\", element=\"fb3a7965-3302-4e7d-8100-246f035925da\")>,\n",
       " <selenium.webdriver.remote.webelement.WebElement (session=\"c5e149583d3382af37f5825245b3f7dc\", element=\"945376a4-389c-4fe1-9a29-7ef5dcad5b8b\")>]"
      ]
     },
     "execution_count": 497,
     "metadata": {},
     "output_type": "execute_result"
    }
   ],
   "source": [
    "job_title_tags=driver.find_elements_by_xpath(\"//a[@class='title fw500 ellipsis']\")\n",
    "job_title_tags[0:10]"
   ]
  },
  {
   "cell_type": "code",
   "execution_count": 498,
   "id": "b5ff6ac2",
   "metadata": {},
   "outputs": [
    {
     "data": {
      "text/plain": [
       "['Job Opportunity || Data Scientist || HCL Technologies',\n",
       " 'Job Opening For Data Scientist - Rapid Miner',\n",
       " 'Data Scientist',\n",
       " 'Manager - Data Scientist',\n",
       " 'Assistant Vice President - Data Scientist',\n",
       " 'Data Scientist with Text Analytics and NLP',\n",
       " 'Data Scientist- Fresher Opening - Newgen Software Technologies',\n",
       " 'Speech Analyst - Data Miner',\n",
       " 'Senior Data Lead / Architect - HCL Technologies',\n",
       " 'Gcp Data Engineer']"
      ]
     },
     "execution_count": 498,
     "metadata": {},
     "output_type": "execute_result"
    }
   ],
   "source": [
    "for i in job_title_tags:\n",
    "    text=i.text\n",
    "    job_title.append(text)\n",
    "job_title[0:10]"
   ]
  },
  {
   "cell_type": "code",
   "execution_count": 505,
   "id": "d564311a",
   "metadata": {},
   "outputs": [],
   "source": [
    "job_location=[]"
   ]
  },
  {
   "cell_type": "code",
   "execution_count": 506,
   "id": "9b291f5a",
   "metadata": {},
   "outputs": [
    {
     "data": {
      "text/plain": [
       "[<selenium.webdriver.remote.webelement.WebElement (session=\"c5e149583d3382af37f5825245b3f7dc\", element=\"f904d947-846e-4b4a-8edb-10b2b31d4dbd\")>,\n",
       " <selenium.webdriver.remote.webelement.WebElement (session=\"c5e149583d3382af37f5825245b3f7dc\", element=\"81664c4c-a6b4-41ef-87f2-c0d5be2d66b9\")>,\n",
       " <selenium.webdriver.remote.webelement.WebElement (session=\"c5e149583d3382af37f5825245b3f7dc\", element=\"73ffbad0-a921-42ee-a7f3-0666f03571a8\")>,\n",
       " <selenium.webdriver.remote.webelement.WebElement (session=\"c5e149583d3382af37f5825245b3f7dc\", element=\"3160e5f1-ecfb-454d-9c32-2bbd0929ef64\")>,\n",
       " <selenium.webdriver.remote.webelement.WebElement (session=\"c5e149583d3382af37f5825245b3f7dc\", element=\"7438d689-3a4e-491f-9c90-9d477b0ee47f\")>,\n",
       " <selenium.webdriver.remote.webelement.WebElement (session=\"c5e149583d3382af37f5825245b3f7dc\", element=\"69fc9283-896d-4dd4-ab67-cdeff25aad19\")>,\n",
       " <selenium.webdriver.remote.webelement.WebElement (session=\"c5e149583d3382af37f5825245b3f7dc\", element=\"954f10b5-aaa9-45b3-a0ee-9efdc5efe8f4\")>,\n",
       " <selenium.webdriver.remote.webelement.WebElement (session=\"c5e149583d3382af37f5825245b3f7dc\", element=\"153ff155-0fba-4059-bcf3-9103194c6ab6\")>,\n",
       " <selenium.webdriver.remote.webelement.WebElement (session=\"c5e149583d3382af37f5825245b3f7dc\", element=\"1a68b9a9-7729-4af1-8d6e-df5cbc0a4e0f\")>,\n",
       " <selenium.webdriver.remote.webelement.WebElement (session=\"c5e149583d3382af37f5825245b3f7dc\", element=\"56cc64b0-28c2-49a5-a8ff-b8c27f5b296a\")>]"
      ]
     },
     "execution_count": 506,
     "metadata": {},
     "output_type": "execute_result"
    }
   ],
   "source": [
    "job_location_tags=driver.find_elements_by_xpath(\"//li[@class='fleft grey-text br2 placeHolderLi location']\")\n",
    "job_location_tags[0:10]"
   ]
  },
  {
   "cell_type": "code",
   "execution_count": 507,
   "id": "bec4a653",
   "metadata": {},
   "outputs": [
    {
     "data": {
      "text/plain": [
       "['Delhi / NCR',\n",
       " 'Kochi/Cochin, Kolkata, Gurgaon/Gurugram, Chennai, Coimbatore, Bangalore/Bengaluru, Mumbai (All Areas), Pune, Hyderabad',\n",
       " 'Gurgaon',\n",
       " 'Gurgaon/Gurugram',\n",
       " 'Gurgaon/Gurugram',\n",
       " 'Gurgaon/Gurugram, Delhi / NCR',\n",
       " 'Noida',\n",
       " 'Gurgaon/Gurugram, Bangalore/Bengaluru\\n(WFH during Covid)',\n",
       " 'Noida, Hyderabad/Secunderabad, Pune, Chennai, Bangalore/Bengaluru, Delhi / NCR',\n",
       " 'Hyderabad/Secunderabad, Bangalore/Bengaluru, Delhi / NCR, Mumbai (All Areas)']"
      ]
     },
     "execution_count": 507,
     "metadata": {},
     "output_type": "execute_result"
    }
   ],
   "source": [
    "for i in job_location_tags:\n",
    "    text=i.text\n",
    "    job_location.append(text)\n",
    "job_location[0:10]"
   ]
  },
  {
   "cell_type": "code",
   "execution_count": 508,
   "id": "d6cd836f",
   "metadata": {},
   "outputs": [],
   "source": [
    "company_name=[]"
   ]
  },
  {
   "cell_type": "code",
   "execution_count": 509,
   "id": "b32e2b43",
   "metadata": {},
   "outputs": [
    {
     "data": {
      "text/plain": [
       "[<selenium.webdriver.remote.webelement.WebElement (session=\"c5e149583d3382af37f5825245b3f7dc\", element=\"326f10bb-359b-45b1-b73b-1dfe475efe08\")>,\n",
       " <selenium.webdriver.remote.webelement.WebElement (session=\"c5e149583d3382af37f5825245b3f7dc\", element=\"cd4195d0-6c9c-4d2d-8041-d61aa20390fb\")>,\n",
       " <selenium.webdriver.remote.webelement.WebElement (session=\"c5e149583d3382af37f5825245b3f7dc\", element=\"437c28df-ba50-4e95-a27b-0e79cbf53d3c\")>,\n",
       " <selenium.webdriver.remote.webelement.WebElement (session=\"c5e149583d3382af37f5825245b3f7dc\", element=\"8fbbd2f6-d330-45bf-8ff2-43285175c211\")>,\n",
       " <selenium.webdriver.remote.webelement.WebElement (session=\"c5e149583d3382af37f5825245b3f7dc\", element=\"f72f814d-97be-4f12-926c-ced6caba5238\")>,\n",
       " <selenium.webdriver.remote.webelement.WebElement (session=\"c5e149583d3382af37f5825245b3f7dc\", element=\"82379f6e-19eb-4f5a-bb71-60572626fef4\")>,\n",
       " <selenium.webdriver.remote.webelement.WebElement (session=\"c5e149583d3382af37f5825245b3f7dc\", element=\"e7851a99-1bb8-431a-8bba-25610f4cffd3\")>,\n",
       " <selenium.webdriver.remote.webelement.WebElement (session=\"c5e149583d3382af37f5825245b3f7dc\", element=\"d45f5bd4-d549-4dd5-9077-476b30f30857\")>,\n",
       " <selenium.webdriver.remote.webelement.WebElement (session=\"c5e149583d3382af37f5825245b3f7dc\", element=\"dfda22c0-a8f5-4cd9-8159-c0b2c7827ae7\")>,\n",
       " <selenium.webdriver.remote.webelement.WebElement (session=\"c5e149583d3382af37f5825245b3f7dc\", element=\"c7164dc7-3fe6-47f0-a68c-b1916bc88e46\")>]"
      ]
     },
     "execution_count": 509,
     "metadata": {},
     "output_type": "execute_result"
    }
   ],
   "source": [
    "company_name_tags=driver.find_elements_by_xpath(\"//a[@class='subTitle ellipsis fleft']\")\n",
    "company_name_tags[0:10]"
   ]
  },
  {
   "cell_type": "code",
   "execution_count": 510,
   "id": "58358a3c",
   "metadata": {},
   "outputs": [
    {
     "data": {
      "text/plain": [
       "['HCL Technologies',\n",
       " 'Wipro',\n",
       " 'Nihilent',\n",
       " 'SBI Card',\n",
       " 'SBI Card',\n",
       " 'Concentrix',\n",
       " 'Newgen',\n",
       " 'Concentrix Services India Private Limited.',\n",
       " 'HCL Technologies',\n",
       " 'Wipro']"
      ]
     },
     "execution_count": 510,
     "metadata": {},
     "output_type": "execute_result"
    }
   ],
   "source": [
    "for i in company_name_tags:\n",
    "    text=i.text\n",
    "    company_name.append(text)\n",
    "company_name[0:10]"
   ]
  },
  {
   "cell_type": "code",
   "execution_count": 514,
   "id": "c1eee23a",
   "metadata": {},
   "outputs": [],
   "source": [
    "experience_required=[]"
   ]
  },
  {
   "cell_type": "code",
   "execution_count": 515,
   "id": "b90833c6",
   "metadata": {},
   "outputs": [
    {
     "data": {
      "text/plain": [
       "[<selenium.webdriver.remote.webelement.WebElement (session=\"c5e149583d3382af37f5825245b3f7dc\", element=\"eaadf5ea-074e-4a0b-ae47-261380397aa3\")>,\n",
       " <selenium.webdriver.remote.webelement.WebElement (session=\"c5e149583d3382af37f5825245b3f7dc\", element=\"c8c74cd8-7498-4a61-8feb-6aad92a7949c\")>,\n",
       " <selenium.webdriver.remote.webelement.WebElement (session=\"c5e149583d3382af37f5825245b3f7dc\", element=\"861f62c1-006f-4a8b-923e-7098968ffcc3\")>,\n",
       " <selenium.webdriver.remote.webelement.WebElement (session=\"c5e149583d3382af37f5825245b3f7dc\", element=\"7907b3d4-f2f6-4c87-a7b8-05cba6c84c17\")>,\n",
       " <selenium.webdriver.remote.webelement.WebElement (session=\"c5e149583d3382af37f5825245b3f7dc\", element=\"187f53e4-a03f-431e-911b-6ddaee9f3d65\")>,\n",
       " <selenium.webdriver.remote.webelement.WebElement (session=\"c5e149583d3382af37f5825245b3f7dc\", element=\"df2fbf4e-f9d1-41d1-8934-34fa5db70478\")>,\n",
       " <selenium.webdriver.remote.webelement.WebElement (session=\"c5e149583d3382af37f5825245b3f7dc\", element=\"59ef46e2-b7c7-490a-85be-a5a8a99abb94\")>,\n",
       " <selenium.webdriver.remote.webelement.WebElement (session=\"c5e149583d3382af37f5825245b3f7dc\", element=\"051192e3-267e-41f5-a04d-f1fa093d9584\")>,\n",
       " <selenium.webdriver.remote.webelement.WebElement (session=\"c5e149583d3382af37f5825245b3f7dc\", element=\"447b1773-a001-4b92-9121-6cf8eb460194\")>,\n",
       " <selenium.webdriver.remote.webelement.WebElement (session=\"c5e149583d3382af37f5825245b3f7dc\", element=\"e3fd2ea0-befc-4973-8713-8456c07169a9\")>]"
      ]
     },
     "execution_count": 515,
     "metadata": {},
     "output_type": "execute_result"
    }
   ],
   "source": [
    "experience_required_tags=driver.find_elements_by_xpath(\"//li[@class='fleft grey-text br2 placeHolderLi experience']\")\n",
    "experience_required_tags[0:10]"
   ]
  },
  {
   "cell_type": "code",
   "execution_count": 516,
   "id": "8c89d340",
   "metadata": {},
   "outputs": [
    {
     "data": {
      "text/plain": [
       "['2-7 Yrs',\n",
       " '7-12 Yrs',\n",
       " '5-8 Yrs',\n",
       " '1-5 Yrs',\n",
       " '9-12 Yrs',\n",
       " '3-6 Yrs',\n",
       " '0-2 Yrs',\n",
       " '2-5 Yrs',\n",
       " '10-20 Yrs',\n",
       " '4-9 Yrs']"
      ]
     },
     "execution_count": 516,
     "metadata": {},
     "output_type": "execute_result"
    }
   ],
   "source": [
    "for i in experience_required_tags:\n",
    "    text=i.text\n",
    "    experience_required.append(text)\n",
    "experience_required[0:10]"
   ]
  },
  {
   "cell_type": "code",
   "execution_count": 517,
   "id": "025ef642",
   "metadata": {},
   "outputs": [],
   "source": [
    "#import pandas as pd\n",
    "jobs=pd.DataFrame({})\n",
    "jobs['title']=job_title[0:10]\n",
    "jobs['location']=job_location[0:10]\n",
    "jobs['company']=company_name[0:10]\n",
    "jobs['experience_required']=experience_required[0:10]"
   ]
  },
  {
   "cell_type": "code",
   "execution_count": 518,
   "id": "82cb79a7",
   "metadata": {},
   "outputs": [
    {
     "data": {
      "text/html": [
       "<div>\n",
       "<style scoped>\n",
       "    .dataframe tbody tr th:only-of-type {\n",
       "        vertical-align: middle;\n",
       "    }\n",
       "\n",
       "    .dataframe tbody tr th {\n",
       "        vertical-align: top;\n",
       "    }\n",
       "\n",
       "    .dataframe thead th {\n",
       "        text-align: right;\n",
       "    }\n",
       "</style>\n",
       "<table border=\"1\" class=\"dataframe\">\n",
       "  <thead>\n",
       "    <tr style=\"text-align: right;\">\n",
       "      <th></th>\n",
       "      <th>title</th>\n",
       "      <th>location</th>\n",
       "      <th>company</th>\n",
       "      <th>experience_required</th>\n",
       "    </tr>\n",
       "  </thead>\n",
       "  <tbody>\n",
       "    <tr>\n",
       "      <th>0</th>\n",
       "      <td>Job Opportunity || Data Scientist || HCL Techn...</td>\n",
       "      <td>Delhi / NCR</td>\n",
       "      <td>HCL Technologies</td>\n",
       "      <td>2-7 Yrs</td>\n",
       "    </tr>\n",
       "    <tr>\n",
       "      <th>1</th>\n",
       "      <td>Job Opening For Data Scientist - Rapid Miner</td>\n",
       "      <td>Kochi/Cochin, Kolkata, Gurgaon/Gurugram, Chenn...</td>\n",
       "      <td>Wipro</td>\n",
       "      <td>7-12 Yrs</td>\n",
       "    </tr>\n",
       "    <tr>\n",
       "      <th>2</th>\n",
       "      <td>Data Scientist</td>\n",
       "      <td>Gurgaon</td>\n",
       "      <td>Nihilent</td>\n",
       "      <td>5-8 Yrs</td>\n",
       "    </tr>\n",
       "    <tr>\n",
       "      <th>3</th>\n",
       "      <td>Manager - Data Scientist</td>\n",
       "      <td>Gurgaon/Gurugram</td>\n",
       "      <td>SBI Card</td>\n",
       "      <td>1-5 Yrs</td>\n",
       "    </tr>\n",
       "    <tr>\n",
       "      <th>4</th>\n",
       "      <td>Assistant Vice President - Data Scientist</td>\n",
       "      <td>Gurgaon/Gurugram</td>\n",
       "      <td>SBI Card</td>\n",
       "      <td>9-12 Yrs</td>\n",
       "    </tr>\n",
       "    <tr>\n",
       "      <th>5</th>\n",
       "      <td>Data Scientist with Text Analytics and NLP</td>\n",
       "      <td>Gurgaon/Gurugram, Delhi / NCR</td>\n",
       "      <td>Concentrix</td>\n",
       "      <td>3-6 Yrs</td>\n",
       "    </tr>\n",
       "    <tr>\n",
       "      <th>6</th>\n",
       "      <td>Data Scientist- Fresher Opening - Newgen Softw...</td>\n",
       "      <td>Noida</td>\n",
       "      <td>Newgen</td>\n",
       "      <td>0-2 Yrs</td>\n",
       "    </tr>\n",
       "    <tr>\n",
       "      <th>7</th>\n",
       "      <td>Speech Analyst - Data Miner</td>\n",
       "      <td>Gurgaon/Gurugram, Bangalore/Bengaluru\\n(WFH du...</td>\n",
       "      <td>Concentrix Services India Private Limited.</td>\n",
       "      <td>2-5 Yrs</td>\n",
       "    </tr>\n",
       "    <tr>\n",
       "      <th>8</th>\n",
       "      <td>Senior Data Lead / Architect - HCL Technologies</td>\n",
       "      <td>Noida, Hyderabad/Secunderabad, Pune, Chennai, ...</td>\n",
       "      <td>HCL Technologies</td>\n",
       "      <td>10-20 Yrs</td>\n",
       "    </tr>\n",
       "    <tr>\n",
       "      <th>9</th>\n",
       "      <td>Gcp Data Engineer</td>\n",
       "      <td>Hyderabad/Secunderabad, Bangalore/Bengaluru, D...</td>\n",
       "      <td>Wipro</td>\n",
       "      <td>4-9 Yrs</td>\n",
       "    </tr>\n",
       "  </tbody>\n",
       "</table>\n",
       "</div>"
      ],
      "text/plain": [
       "                                               title  \\\n",
       "0  Job Opportunity || Data Scientist || HCL Techn...   \n",
       "1       Job Opening For Data Scientist - Rapid Miner   \n",
       "2                                     Data Scientist   \n",
       "3                           Manager - Data Scientist   \n",
       "4          Assistant Vice President - Data Scientist   \n",
       "5         Data Scientist with Text Analytics and NLP   \n",
       "6  Data Scientist- Fresher Opening - Newgen Softw...   \n",
       "7                        Speech Analyst - Data Miner   \n",
       "8    Senior Data Lead / Architect - HCL Technologies   \n",
       "9                                  Gcp Data Engineer   \n",
       "\n",
       "                                            location  \\\n",
       "0                                        Delhi / NCR   \n",
       "1  Kochi/Cochin, Kolkata, Gurgaon/Gurugram, Chenn...   \n",
       "2                                            Gurgaon   \n",
       "3                                   Gurgaon/Gurugram   \n",
       "4                                   Gurgaon/Gurugram   \n",
       "5                      Gurgaon/Gurugram, Delhi / NCR   \n",
       "6                                              Noida   \n",
       "7  Gurgaon/Gurugram, Bangalore/Bengaluru\\n(WFH du...   \n",
       "8  Noida, Hyderabad/Secunderabad, Pune, Chennai, ...   \n",
       "9  Hyderabad/Secunderabad, Bangalore/Bengaluru, D...   \n",
       "\n",
       "                                      company experience_required  \n",
       "0                            HCL Technologies             2-7 Yrs  \n",
       "1                                       Wipro            7-12 Yrs  \n",
       "2                                    Nihilent             5-8 Yrs  \n",
       "3                                    SBI Card             1-5 Yrs  \n",
       "4                                    SBI Card            9-12 Yrs  \n",
       "5                                  Concentrix             3-6 Yrs  \n",
       "6                                      Newgen             0-2 Yrs  \n",
       "7  Concentrix Services India Private Limited.             2-5 Yrs  \n",
       "8                            HCL Technologies           10-20 Yrs  \n",
       "9                                       Wipro             4-9 Yrs  "
      ]
     },
     "execution_count": 518,
     "metadata": {},
     "output_type": "execute_result"
    }
   ],
   "source": [
    "jobs"
   ]
  },
  {
   "cell_type": "code",
   "execution_count": 519,
   "id": "a5ff2f4d",
   "metadata": {},
   "outputs": [],
   "source": [
    "driver.close()"
   ]
  },
  {
   "cell_type": "markdown",
   "id": "b222ea75",
   "metadata": {},
   "source": [
    "# 9)Scrape data of first 100 sunglasses listings on flipkart.com. You have to scrape four attributes:1. Brand2. Product Description3. Price"
   ]
  },
  {
   "cell_type": "code",
   "execution_count": 522,
   "id": "f6ae8dba",
   "metadata": {},
   "outputs": [],
   "source": [
    "import selenium                              #library that is used to work with selenium.\n",
    "import pandas as pd                          #to create dataframe.\n",
    "from selenium import webdriver               #importing webdriver module from selenium to open up automated chrome windows.\n",
    "import warnings                              #to ignore any sort of warning.\n",
    "warnings.filterwarnings(\"ignore\")\n",
    "import time "
   ]
  },
  {
   "cell_type": "code",
   "execution_count": 523,
   "id": "e8dddc6c",
   "metadata": {},
   "outputs": [],
   "source": [
    "#Let us first connect to the web driver\n",
    "driver=webdriver.Chrome(\"chromedriver.exe\")\n",
    "time.sleep(2)"
   ]
  },
  {
   "cell_type": "code",
   "execution_count": 524,
   "id": "2f097b32",
   "metadata": {},
   "outputs": [],
   "source": [
    "#opening up flipkart.com website on automated chrome window\n",
    "driver.get(\"https://www.flipkart.com/\")"
   ]
  },
  {
   "cell_type": "code",
   "execution_count": 526,
   "id": "c21c0d10",
   "metadata": {},
   "outputs": [],
   "source": [
    "Search=driver.find_element_by_xpath(\"/html/body/div[1]/div/div[1]/div[1]/div[2]/div[2]/form/div/div/input\")\n",
    "Search.send_keys(\"sunglasses\")"
   ]
  },
  {
   "cell_type": "code",
   "execution_count": 527,
   "id": "d31ac836",
   "metadata": {},
   "outputs": [],
   "source": [
    "search_button=driver.find_element_by_xpath(\"/html/body/div[1]/div/div[1]/div[1]/div[2]/div[2]/form/div/button\")\n",
    "search_button.click()"
   ]
  },
  {
   "cell_type": "code",
   "execution_count": 528,
   "id": "b4ffaf48",
   "metadata": {},
   "outputs": [],
   "source": [
    "Brand=[]"
   ]
  },
  {
   "cell_type": "code",
   "execution_count": 529,
   "id": "11740f70",
   "metadata": {
    "scrolled": true
   },
   "outputs": [
    {
     "data": {
      "text/plain": [
       "[<selenium.webdriver.remote.webelement.WebElement (session=\"a77230fc2d886a22fee29cb611361083\", element=\"317ef8a4-85e4-4eef-a7cc-7e8c3e3fc9c0\")>,\n",
       " <selenium.webdriver.remote.webelement.WebElement (session=\"a77230fc2d886a22fee29cb611361083\", element=\"7dd9f2fe-a3e9-4463-8f70-776ceff0e9ee\")>,\n",
       " <selenium.webdriver.remote.webelement.WebElement (session=\"a77230fc2d886a22fee29cb611361083\", element=\"8ca29f6b-d1fa-4c13-b5c0-e27e7a313198\")>,\n",
       " <selenium.webdriver.remote.webelement.WebElement (session=\"a77230fc2d886a22fee29cb611361083\", element=\"5236359f-7e3d-4cc0-8a2e-aa0b5af7d3ce\")>,\n",
       " <selenium.webdriver.remote.webelement.WebElement (session=\"a77230fc2d886a22fee29cb611361083\", element=\"5468db95-fca8-43d6-80f2-18cb239a1f0f\")>,\n",
       " <selenium.webdriver.remote.webelement.WebElement (session=\"a77230fc2d886a22fee29cb611361083\", element=\"6015b006-e91b-4290-8b3e-72a284d6f702\")>,\n",
       " <selenium.webdriver.remote.webelement.WebElement (session=\"a77230fc2d886a22fee29cb611361083\", element=\"5be7ad5c-f57d-466d-86e7-2083c29b08b0\")>,\n",
       " <selenium.webdriver.remote.webelement.WebElement (session=\"a77230fc2d886a22fee29cb611361083\", element=\"83ab7cc1-b986-4173-8265-ea44d47f259d\")>,\n",
       " <selenium.webdriver.remote.webelement.WebElement (session=\"a77230fc2d886a22fee29cb611361083\", element=\"c10fba05-c95b-4dd1-ac57-b02e9f604397\")>,\n",
       " <selenium.webdriver.remote.webelement.WebElement (session=\"a77230fc2d886a22fee29cb611361083\", element=\"676957b1-6f06-4695-b818-9b547eea0456\")>,\n",
       " <selenium.webdriver.remote.webelement.WebElement (session=\"a77230fc2d886a22fee29cb611361083\", element=\"049f8b0b-07aa-49f9-9400-5a8aaf8ee07d\")>,\n",
       " <selenium.webdriver.remote.webelement.WebElement (session=\"a77230fc2d886a22fee29cb611361083\", element=\"0c88162b-04bd-42e2-a47c-68ac203dd0ea\")>,\n",
       " <selenium.webdriver.remote.webelement.WebElement (session=\"a77230fc2d886a22fee29cb611361083\", element=\"dee2ecf8-d5dd-4c60-a230-20769b9cb9c5\")>,\n",
       " <selenium.webdriver.remote.webelement.WebElement (session=\"a77230fc2d886a22fee29cb611361083\", element=\"7bf71a92-861a-4103-8d3c-3323270fffd7\")>,\n",
       " <selenium.webdriver.remote.webelement.WebElement (session=\"a77230fc2d886a22fee29cb611361083\", element=\"b909b769-d781-4662-a411-cae264346186\")>,\n",
       " <selenium.webdriver.remote.webelement.WebElement (session=\"a77230fc2d886a22fee29cb611361083\", element=\"2747bf73-65ff-4319-a25f-508eac87b27e\")>,\n",
       " <selenium.webdriver.remote.webelement.WebElement (session=\"a77230fc2d886a22fee29cb611361083\", element=\"aff9e2fe-94c4-4076-9e96-18a1ecc3b0a2\")>,\n",
       " <selenium.webdriver.remote.webelement.WebElement (session=\"a77230fc2d886a22fee29cb611361083\", element=\"fbfc9ceb-a209-447d-9d8f-76f65be6c7bd\")>,\n",
       " <selenium.webdriver.remote.webelement.WebElement (session=\"a77230fc2d886a22fee29cb611361083\", element=\"d5b5bede-3fdd-4563-9b02-976ab16b9cca\")>,\n",
       " <selenium.webdriver.remote.webelement.WebElement (session=\"a77230fc2d886a22fee29cb611361083\", element=\"bed1545f-650a-48d7-888e-6aaea414462f\")>,\n",
       " <selenium.webdriver.remote.webelement.WebElement (session=\"a77230fc2d886a22fee29cb611361083\", element=\"208e7814-06e1-439b-8670-7935ab07995e\")>,\n",
       " <selenium.webdriver.remote.webelement.WebElement (session=\"a77230fc2d886a22fee29cb611361083\", element=\"f245f2a5-4435-41c8-9b5b-a8335111346e\")>,\n",
       " <selenium.webdriver.remote.webelement.WebElement (session=\"a77230fc2d886a22fee29cb611361083\", element=\"d7b7ba2e-07a3-42ab-9684-3751c9c59369\")>,\n",
       " <selenium.webdriver.remote.webelement.WebElement (session=\"a77230fc2d886a22fee29cb611361083\", element=\"877a03a2-d733-4cd6-b025-c700e8489030\")>,\n",
       " <selenium.webdriver.remote.webelement.WebElement (session=\"a77230fc2d886a22fee29cb611361083\", element=\"1792cc69-517c-473d-9d6b-ccd7dd436231\")>,\n",
       " <selenium.webdriver.remote.webelement.WebElement (session=\"a77230fc2d886a22fee29cb611361083\", element=\"c8599803-599a-4d7b-8ebf-61e3a153aaf2\")>,\n",
       " <selenium.webdriver.remote.webelement.WebElement (session=\"a77230fc2d886a22fee29cb611361083\", element=\"0c8c465f-566c-46c4-a9e5-f1690fcb6103\")>,\n",
       " <selenium.webdriver.remote.webelement.WebElement (session=\"a77230fc2d886a22fee29cb611361083\", element=\"e60e45a0-aee3-48a9-9853-787249fb9888\")>,\n",
       " <selenium.webdriver.remote.webelement.WebElement (session=\"a77230fc2d886a22fee29cb611361083\", element=\"af917512-07e5-45ce-a930-bdbd264a7abb\")>,\n",
       " <selenium.webdriver.remote.webelement.WebElement (session=\"a77230fc2d886a22fee29cb611361083\", element=\"da7facb7-3109-4e3f-9b3a-3e7f4e6988de\")>,\n",
       " <selenium.webdriver.remote.webelement.WebElement (session=\"a77230fc2d886a22fee29cb611361083\", element=\"ca0a8092-93b4-46ce-b5f7-d3962b02527d\")>,\n",
       " <selenium.webdriver.remote.webelement.WebElement (session=\"a77230fc2d886a22fee29cb611361083\", element=\"f5afdd3e-df02-4d75-9c21-8d1868190dd7\")>,\n",
       " <selenium.webdriver.remote.webelement.WebElement (session=\"a77230fc2d886a22fee29cb611361083\", element=\"c15a5856-3228-4bd3-b041-0e29bc793d86\")>,\n",
       " <selenium.webdriver.remote.webelement.WebElement (session=\"a77230fc2d886a22fee29cb611361083\", element=\"0b565563-ca0d-4b33-b97e-2dd8f174a163\")>,\n",
       " <selenium.webdriver.remote.webelement.WebElement (session=\"a77230fc2d886a22fee29cb611361083\", element=\"f36fb90d-a77b-43a9-bde7-e5aca8475a8c\")>,\n",
       " <selenium.webdriver.remote.webelement.WebElement (session=\"a77230fc2d886a22fee29cb611361083\", element=\"ebb7fcc9-228f-4347-bd62-721900ee81b9\")>,\n",
       " <selenium.webdriver.remote.webelement.WebElement (session=\"a77230fc2d886a22fee29cb611361083\", element=\"757700a1-9dcf-4237-bfe1-3d9f01095c46\")>,\n",
       " <selenium.webdriver.remote.webelement.WebElement (session=\"a77230fc2d886a22fee29cb611361083\", element=\"c6b8503c-e687-4d05-af94-ba8c27213a78\")>,\n",
       " <selenium.webdriver.remote.webelement.WebElement (session=\"a77230fc2d886a22fee29cb611361083\", element=\"c5455872-3b91-4c88-b47b-2213c8aa0b28\")>,\n",
       " <selenium.webdriver.remote.webelement.WebElement (session=\"a77230fc2d886a22fee29cb611361083\", element=\"c5892f04-c34f-4201-a63b-0ce3b11640c8\")>]"
      ]
     },
     "execution_count": 529,
     "metadata": {},
     "output_type": "execute_result"
    }
   ],
   "source": [
    "Brand_tags=driver.find_elements_by_xpath(\"//div[@class='_2WkVRV']\")\n",
    "Brand_tags[0:99]"
   ]
  },
  {
   "cell_type": "code",
   "execution_count": 530,
   "id": "bef9da3c",
   "metadata": {
    "scrolled": true
   },
   "outputs": [
    {
     "data": {
      "text/plain": [
       "['ROYAL SON',\n",
       " 'VINCENT CHASE',\n",
       " 'Elligator',\n",
       " 'PIRASO',\n",
       " 'DAHAAZIL',\n",
       " 'SUNBEE',\n",
       " 'Fastrack',\n",
       " 'ROYAL SON',\n",
       " 'New Specs',\n",
       " 'PIRASO',\n",
       " 'Elligator',\n",
       " 'VINCENT CHASE',\n",
       " 'Lee Topper',\n",
       " 'hipe',\n",
       " 'Fastrack',\n",
       " 'LOUIS KOUROS',\n",
       " 'SHAAH COLLECTIONS',\n",
       " 'PIRASO',\n",
       " 'PIRASO',\n",
       " 'VINCENT CHASE',\n",
       " 'Lee Topper',\n",
       " 'ROZZETTA CRAFT',\n",
       " 'kingsunglasses',\n",
       " 'AISLIN',\n",
       " 'kingsunglasses',\n",
       " 'New Specs',\n",
       " 'Fastrack',\n",
       " 'LOUIS KOUROS',\n",
       " 'SRPM',\n",
       " 'SUNBEE',\n",
       " 'Fastrack',\n",
       " 'ROYAL SON',\n",
       " 'Fastrack',\n",
       " 'New Specs',\n",
       " 'DEIXELS',\n",
       " 'Arnette',\n",
       " 'Singco India',\n",
       " 'Elligator',\n",
       " 'SRPM',\n",
       " 'ROYAL SON']"
      ]
     },
     "execution_count": 530,
     "metadata": {},
     "output_type": "execute_result"
    }
   ],
   "source": [
    "for i in Brand_tags:\n",
    "    text=i.text\n",
    "    Brand.append(text)\n",
    "Brand[0:99]"
   ]
  },
  {
   "cell_type": "code",
   "execution_count": 531,
   "id": "8deb8732",
   "metadata": {},
   "outputs": [],
   "source": [
    "Product_description=[]"
   ]
  },
  {
   "cell_type": "code",
   "execution_count": 532,
   "id": "32865d29",
   "metadata": {
    "scrolled": true
   },
   "outputs": [
    {
     "data": {
      "text/plain": [
       "[<selenium.webdriver.remote.webelement.WebElement (session=\"a77230fc2d886a22fee29cb611361083\", element=\"fe9af415-a1d5-478b-ba3f-7fcfa1dcd8e4\")>,\n",
       " <selenium.webdriver.remote.webelement.WebElement (session=\"a77230fc2d886a22fee29cb611361083\", element=\"e045e415-b040-44dc-b165-381eb1a3b550\")>,\n",
       " <selenium.webdriver.remote.webelement.WebElement (session=\"a77230fc2d886a22fee29cb611361083\", element=\"8515c1e6-159d-4cb3-ad96-36b279520cfa\")>,\n",
       " <selenium.webdriver.remote.webelement.WebElement (session=\"a77230fc2d886a22fee29cb611361083\", element=\"53b00a1f-99f3-4acb-9cc7-ba98aab48fe2\")>,\n",
       " <selenium.webdriver.remote.webelement.WebElement (session=\"a77230fc2d886a22fee29cb611361083\", element=\"8d942751-f408-48e7-bf21-f14ccf73a7f2\")>,\n",
       " <selenium.webdriver.remote.webelement.WebElement (session=\"a77230fc2d886a22fee29cb611361083\", element=\"55d0f9cf-dfda-48f4-87ac-c4a8f06bb17b\")>,\n",
       " <selenium.webdriver.remote.webelement.WebElement (session=\"a77230fc2d886a22fee29cb611361083\", element=\"9cd901bf-52d4-4772-84b8-6823c19ef34a\")>,\n",
       " <selenium.webdriver.remote.webelement.WebElement (session=\"a77230fc2d886a22fee29cb611361083\", element=\"018a2965-4801-405b-9a74-08102b66f6c4\")>,\n",
       " <selenium.webdriver.remote.webelement.WebElement (session=\"a77230fc2d886a22fee29cb611361083\", element=\"d025a726-3e6f-4afc-bf78-89c54f5250a0\")>,\n",
       " <selenium.webdriver.remote.webelement.WebElement (session=\"a77230fc2d886a22fee29cb611361083\", element=\"d1690cef-2493-437e-b8b6-70dc6ef3bd13\")>,\n",
       " <selenium.webdriver.remote.webelement.WebElement (session=\"a77230fc2d886a22fee29cb611361083\", element=\"1be492cb-2fb3-4b57-bc39-3b9521c5ac8f\")>,\n",
       " <selenium.webdriver.remote.webelement.WebElement (session=\"a77230fc2d886a22fee29cb611361083\", element=\"27c94b7d-05ef-4580-a32e-87a28b76f824\")>,\n",
       " <selenium.webdriver.remote.webelement.WebElement (session=\"a77230fc2d886a22fee29cb611361083\", element=\"73931fac-f764-4cdc-8344-f80d1c0227a8\")>,\n",
       " <selenium.webdriver.remote.webelement.WebElement (session=\"a77230fc2d886a22fee29cb611361083\", element=\"2cad7687-89e5-4ae5-830d-ea2ee04befca\")>,\n",
       " <selenium.webdriver.remote.webelement.WebElement (session=\"a77230fc2d886a22fee29cb611361083\", element=\"b437d2bd-617b-44e6-8676-91cec06ec618\")>,\n",
       " <selenium.webdriver.remote.webelement.WebElement (session=\"a77230fc2d886a22fee29cb611361083\", element=\"15e0f58d-07cd-4d3e-a00b-7e19c13417f6\")>,\n",
       " <selenium.webdriver.remote.webelement.WebElement (session=\"a77230fc2d886a22fee29cb611361083\", element=\"bc0df668-47f6-4a40-be21-e8d5f174d1df\")>,\n",
       " <selenium.webdriver.remote.webelement.WebElement (session=\"a77230fc2d886a22fee29cb611361083\", element=\"4395a778-0d75-4de1-b92b-9a456044804e\")>,\n",
       " <selenium.webdriver.remote.webelement.WebElement (session=\"a77230fc2d886a22fee29cb611361083\", element=\"6391a6ab-fe8e-4649-ad55-ffbcfc529a25\")>,\n",
       " <selenium.webdriver.remote.webelement.WebElement (session=\"a77230fc2d886a22fee29cb611361083\", element=\"a2660155-2a1b-4bdd-9a56-b0d26c7aca10\")>,\n",
       " <selenium.webdriver.remote.webelement.WebElement (session=\"a77230fc2d886a22fee29cb611361083\", element=\"f167d9f9-890a-433d-b3ab-a5abbdfaa4e8\")>,\n",
       " <selenium.webdriver.remote.webelement.WebElement (session=\"a77230fc2d886a22fee29cb611361083\", element=\"11316561-6533-48c1-85a6-a595622f7227\")>,\n",
       " <selenium.webdriver.remote.webelement.WebElement (session=\"a77230fc2d886a22fee29cb611361083\", element=\"61b2c6bd-56a7-431d-a0af-938916df5aca\")>,\n",
       " <selenium.webdriver.remote.webelement.WebElement (session=\"a77230fc2d886a22fee29cb611361083\", element=\"20014d81-d446-470a-969c-2b95cd1ebeae\")>,\n",
       " <selenium.webdriver.remote.webelement.WebElement (session=\"a77230fc2d886a22fee29cb611361083\", element=\"0d6bc169-2653-429b-8e1e-8450e1c24029\")>,\n",
       " <selenium.webdriver.remote.webelement.WebElement (session=\"a77230fc2d886a22fee29cb611361083\", element=\"e9b0f039-20fa-44cb-b234-bde0e543d2fd\")>,\n",
       " <selenium.webdriver.remote.webelement.WebElement (session=\"a77230fc2d886a22fee29cb611361083\", element=\"0bf37dd0-096e-4376-a116-8e012eaa1727\")>,\n",
       " <selenium.webdriver.remote.webelement.WebElement (session=\"a77230fc2d886a22fee29cb611361083\", element=\"5d5c648b-35fc-4c39-b7ec-b01cb350f916\")>,\n",
       " <selenium.webdriver.remote.webelement.WebElement (session=\"a77230fc2d886a22fee29cb611361083\", element=\"016ddac7-fdae-42d1-83b5-0a5c6b658f2f\")>,\n",
       " <selenium.webdriver.remote.webelement.WebElement (session=\"a77230fc2d886a22fee29cb611361083\", element=\"d8037f03-c776-401e-a8cb-aae0d698b073\")>,\n",
       " <selenium.webdriver.remote.webelement.WebElement (session=\"a77230fc2d886a22fee29cb611361083\", element=\"03cbc376-3de9-4fea-bf96-e7b1f61566e0\")>,\n",
       " <selenium.webdriver.remote.webelement.WebElement (session=\"a77230fc2d886a22fee29cb611361083\", element=\"6b62b859-90c5-4842-8ad8-b7b08f43a29a\")>,\n",
       " <selenium.webdriver.remote.webelement.WebElement (session=\"a77230fc2d886a22fee29cb611361083\", element=\"c271a70b-e7b1-41eb-943e-8942c7b90ae2\")>,\n",
       " <selenium.webdriver.remote.webelement.WebElement (session=\"a77230fc2d886a22fee29cb611361083\", element=\"3ab10452-a01c-47b2-a99f-134b047af829\")>,\n",
       " <selenium.webdriver.remote.webelement.WebElement (session=\"a77230fc2d886a22fee29cb611361083\", element=\"0c6c4c11-e34f-4573-a1aa-463c7304992c\")>,\n",
       " <selenium.webdriver.remote.webelement.WebElement (session=\"a77230fc2d886a22fee29cb611361083\", element=\"23f6df53-1c0c-4dd5-9c75-53dd2e720681\")>,\n",
       " <selenium.webdriver.remote.webelement.WebElement (session=\"a77230fc2d886a22fee29cb611361083\", element=\"98419b4b-72eb-4d60-bd36-505ded0d3596\")>,\n",
       " <selenium.webdriver.remote.webelement.WebElement (session=\"a77230fc2d886a22fee29cb611361083\", element=\"182d063b-2b90-4779-98c5-c3541bebcd47\")>,\n",
       " <selenium.webdriver.remote.webelement.WebElement (session=\"a77230fc2d886a22fee29cb611361083\", element=\"f16efd3e-c7fe-470a-a293-4ec0d9355ca5\")>,\n",
       " <selenium.webdriver.remote.webelement.WebElement (session=\"a77230fc2d886a22fee29cb611361083\", element=\"4cda8a66-b4b6-463b-80c5-ed82c2387f5e\")>]"
      ]
     },
     "execution_count": 532,
     "metadata": {},
     "output_type": "execute_result"
    }
   ],
   "source": [
    "Product_description_tags=driver.find_elements_by_xpath(\"//a[@class='IRpwTa']\")\n",
    "Product_description_tags[0:99]"
   ]
  },
  {
   "cell_type": "code",
   "execution_count": 533,
   "id": "618cbf0c",
   "metadata": {
    "scrolled": true
   },
   "outputs": [
    {
     "data": {
      "text/plain": [
       "['Polarized, UV Protection Cat-eye Sunglasses (55)',\n",
       " 'by Lenskart Polarized, UV Protection Aviator Sunglasses...',\n",
       " 'UV Protection Round Sunglasses (54)',\n",
       " 'UV Protection Aviator Sunglasses (54)',\n",
       " 'UV Protection, Night Vision, Riding Glasses Wayfarer, W...',\n",
       " 'UV Protection, Polarized Wayfarer Sunglasses (Free Size...',\n",
       " 'UV Protection Wayfarer Sunglasses (Free Size)',\n",
       " 'Polarized, UV Protection Retro Square Sunglasses (55)',\n",
       " 'UV Protection Rectangular Sunglasses (Free Size)',\n",
       " 'UV Protection Rectangular Sunglasses (52)',\n",
       " 'UV Protection Wayfarer Sunglasses (53)',\n",
       " 'by Lenskart Polarized, UV Protection Aviator Sunglasses...',\n",
       " 'Riding Glasses Wrap-around Sunglasses (Free Size)',\n",
       " 'Gradient, UV Protection Round Sunglasses (Free Size)',\n",
       " 'UV Protection Wayfarer Sunglasses (Free Size)',\n",
       " 'UV Protection Aviator Sunglasses (60)',\n",
       " 'UV Protection, Polarized, Mirrored Rectangular Sunglass...',\n",
       " 'UV Protection Aviator Sunglasses (54)',\n",
       " 'UV Protection Aviator Sunglasses (54)',\n",
       " 'by Lenskart UV Protection Round Sunglasses (48)',\n",
       " 'UV Protection Rectangular Sunglasses (Free Size)',\n",
       " 'UV Protection, Gradient Retro Square Sunglasses (Free S...',\n",
       " 'UV Protection, Riding Glasses, Mirrored Wayfarer Sungla...',\n",
       " 'Toughened Glass Lens, UV Protection Aviator Sunglasses ...',\n",
       " 'UV Protection Round Sunglasses (54)',\n",
       " 'UV Protection, Mirrored Round Sunglasses (Free Size)',\n",
       " 'UV Protection Shield Sunglasses (Free Size)',\n",
       " 'UV Protection Aviator Sunglasses (60)',\n",
       " 'UV Protection Wayfarer Sunglasses (50)',\n",
       " 'UV Protection, Polarized, Mirrored Retro Square Sunglas...',\n",
       " 'UV Protection Wayfarer Sunglasses (Free Size)',\n",
       " 'UV Protection Rectangular Sunglasses (64)',\n",
       " 'Gradient, UV Protection Wayfarer Sunglasses (Free Size)',\n",
       " 'Mirrored, UV Protection, Riding Glasses, Others Round S...',\n",
       " 'UV Protection Aviator, Wayfarer Sunglasses (Free Size)',\n",
       " 'Mirrored Retro Square Sunglasses (56)',\n",
       " 'Riding Glasses, UV Protection Clubmaster, Wayfarer Sung...',\n",
       " 'UV Protection Aviator Sunglasses (55)',\n",
       " 'UV Protection Wayfarer Sunglasses (53)',\n",
       " 'Polarized, UV Protection Wrap-around Sunglasses (62)']"
      ]
     },
     "execution_count": 533,
     "metadata": {},
     "output_type": "execute_result"
    }
   ],
   "source": [
    "for i in Product_description_tags:\n",
    "    text=i.text\n",
    "    Product_description.append(text)\n",
    "Product_description[0:99]"
   ]
  },
  {
   "cell_type": "code",
   "execution_count": 534,
   "id": "7d029826",
   "metadata": {},
   "outputs": [],
   "source": [
    "Price=[]"
   ]
  },
  {
   "cell_type": "code",
   "execution_count": 535,
   "id": "04e0985f",
   "metadata": {
    "scrolled": true
   },
   "outputs": [
    {
     "data": {
      "text/plain": [
       "[<selenium.webdriver.remote.webelement.WebElement (session=\"a77230fc2d886a22fee29cb611361083\", element=\"621e191c-542e-4ba1-b034-2db9434fd0e3\")>,\n",
       " <selenium.webdriver.remote.webelement.WebElement (session=\"a77230fc2d886a22fee29cb611361083\", element=\"efe80162-65f3-45db-85a7-debd24a14ed4\")>,\n",
       " <selenium.webdriver.remote.webelement.WebElement (session=\"a77230fc2d886a22fee29cb611361083\", element=\"a3e6eb79-031e-4010-b8ac-c49ab7696426\")>,\n",
       " <selenium.webdriver.remote.webelement.WebElement (session=\"a77230fc2d886a22fee29cb611361083\", element=\"9138b0ff-4855-400c-bef5-dc7ae388df08\")>,\n",
       " <selenium.webdriver.remote.webelement.WebElement (session=\"a77230fc2d886a22fee29cb611361083\", element=\"043918a3-cca4-4c19-856d-415207207413\")>,\n",
       " <selenium.webdriver.remote.webelement.WebElement (session=\"a77230fc2d886a22fee29cb611361083\", element=\"ddb3aa3a-ec91-4f48-b3a1-70558881acc2\")>,\n",
       " <selenium.webdriver.remote.webelement.WebElement (session=\"a77230fc2d886a22fee29cb611361083\", element=\"ded628e8-a3ba-43e3-ae28-ca72dddcccf6\")>,\n",
       " <selenium.webdriver.remote.webelement.WebElement (session=\"a77230fc2d886a22fee29cb611361083\", element=\"fdeee44d-fcb0-4ec9-aabb-9f78a7d30824\")>,\n",
       " <selenium.webdriver.remote.webelement.WebElement (session=\"a77230fc2d886a22fee29cb611361083\", element=\"913fabd4-0ad6-4872-b728-02a4368257fc\")>,\n",
       " <selenium.webdriver.remote.webelement.WebElement (session=\"a77230fc2d886a22fee29cb611361083\", element=\"ea7f5a0f-13c1-464f-b3e9-803c8354e20c\")>,\n",
       " <selenium.webdriver.remote.webelement.WebElement (session=\"a77230fc2d886a22fee29cb611361083\", element=\"7b9e0184-ff8a-4bb3-98a3-38fc4b702652\")>,\n",
       " <selenium.webdriver.remote.webelement.WebElement (session=\"a77230fc2d886a22fee29cb611361083\", element=\"eb2bad3e-9a65-4c6b-9f33-550dde635ab4\")>,\n",
       " <selenium.webdriver.remote.webelement.WebElement (session=\"a77230fc2d886a22fee29cb611361083\", element=\"5fc4326f-38fa-4899-a1c4-0f30deadbc93\")>,\n",
       " <selenium.webdriver.remote.webelement.WebElement (session=\"a77230fc2d886a22fee29cb611361083\", element=\"d8adce2c-45c4-4ce3-b213-b216dd0e5ef1\")>,\n",
       " <selenium.webdriver.remote.webelement.WebElement (session=\"a77230fc2d886a22fee29cb611361083\", element=\"2f2a5361-df86-4366-96df-86120c88dca9\")>,\n",
       " <selenium.webdriver.remote.webelement.WebElement (session=\"a77230fc2d886a22fee29cb611361083\", element=\"5c813893-0620-4a44-89f2-f5079df5c2a3\")>,\n",
       " <selenium.webdriver.remote.webelement.WebElement (session=\"a77230fc2d886a22fee29cb611361083\", element=\"62e70557-42d0-4fd8-809e-80fc7c3a2ea4\")>,\n",
       " <selenium.webdriver.remote.webelement.WebElement (session=\"a77230fc2d886a22fee29cb611361083\", element=\"828ab854-86e2-4afd-8f74-c44e7ad77157\")>,\n",
       " <selenium.webdriver.remote.webelement.WebElement (session=\"a77230fc2d886a22fee29cb611361083\", element=\"27bdc9d8-9f48-4939-add9-05083d2413b2\")>,\n",
       " <selenium.webdriver.remote.webelement.WebElement (session=\"a77230fc2d886a22fee29cb611361083\", element=\"8ab9f01f-27bc-4315-904a-790a43c05e0c\")>,\n",
       " <selenium.webdriver.remote.webelement.WebElement (session=\"a77230fc2d886a22fee29cb611361083\", element=\"43d2e263-92be-4379-b6da-a3c79dae2d4f\")>,\n",
       " <selenium.webdriver.remote.webelement.WebElement (session=\"a77230fc2d886a22fee29cb611361083\", element=\"128bbd1d-c8f1-4358-9b32-592b83621098\")>,\n",
       " <selenium.webdriver.remote.webelement.WebElement (session=\"a77230fc2d886a22fee29cb611361083\", element=\"acfe414d-83f5-4566-bf6a-1f44d0a4bce2\")>,\n",
       " <selenium.webdriver.remote.webelement.WebElement (session=\"a77230fc2d886a22fee29cb611361083\", element=\"f06d4592-e4bb-481b-aae1-ef7c5c5625a9\")>,\n",
       " <selenium.webdriver.remote.webelement.WebElement (session=\"a77230fc2d886a22fee29cb611361083\", element=\"ee078efa-5582-428c-ac6a-55f0162b750b\")>,\n",
       " <selenium.webdriver.remote.webelement.WebElement (session=\"a77230fc2d886a22fee29cb611361083\", element=\"1b4f5821-058a-4c61-a263-a2e0383e0975\")>,\n",
       " <selenium.webdriver.remote.webelement.WebElement (session=\"a77230fc2d886a22fee29cb611361083\", element=\"889ef54f-7851-48e5-978a-5514ea2d8b74\")>,\n",
       " <selenium.webdriver.remote.webelement.WebElement (session=\"a77230fc2d886a22fee29cb611361083\", element=\"0125d631-8fa1-4b74-841d-2bd8b2f26bb4\")>,\n",
       " <selenium.webdriver.remote.webelement.WebElement (session=\"a77230fc2d886a22fee29cb611361083\", element=\"593dcb11-fd8a-4a3d-adc2-46f932b46dd8\")>,\n",
       " <selenium.webdriver.remote.webelement.WebElement (session=\"a77230fc2d886a22fee29cb611361083\", element=\"2ef4fd89-636a-4cb9-8237-ac77f52aee4b\")>,\n",
       " <selenium.webdriver.remote.webelement.WebElement (session=\"a77230fc2d886a22fee29cb611361083\", element=\"3ff85c39-6bee-4573-8129-8aaecdc50af9\")>,\n",
       " <selenium.webdriver.remote.webelement.WebElement (session=\"a77230fc2d886a22fee29cb611361083\", element=\"0912d64d-0fca-4e67-9be9-b60c299d4fe2\")>,\n",
       " <selenium.webdriver.remote.webelement.WebElement (session=\"a77230fc2d886a22fee29cb611361083\", element=\"85a68844-9149-45de-8b07-603e4e99d2b3\")>,\n",
       " <selenium.webdriver.remote.webelement.WebElement (session=\"a77230fc2d886a22fee29cb611361083\", element=\"86d813bf-4ca4-46f6-9c8d-f5842d151283\")>,\n",
       " <selenium.webdriver.remote.webelement.WebElement (session=\"a77230fc2d886a22fee29cb611361083\", element=\"376c241a-1c08-4149-8cf2-7ba2166bfdf1\")>,\n",
       " <selenium.webdriver.remote.webelement.WebElement (session=\"a77230fc2d886a22fee29cb611361083\", element=\"472cde2a-d94c-4e61-ba72-3221f3746244\")>,\n",
       " <selenium.webdriver.remote.webelement.WebElement (session=\"a77230fc2d886a22fee29cb611361083\", element=\"51a419e6-87b4-4744-97f9-ecdc45ade6ed\")>,\n",
       " <selenium.webdriver.remote.webelement.WebElement (session=\"a77230fc2d886a22fee29cb611361083\", element=\"a1c76ffc-530f-4d96-a336-bd5e70e94d92\")>,\n",
       " <selenium.webdriver.remote.webelement.WebElement (session=\"a77230fc2d886a22fee29cb611361083\", element=\"90d7eff1-94e0-4761-818d-1536feed4e20\")>,\n",
       " <selenium.webdriver.remote.webelement.WebElement (session=\"a77230fc2d886a22fee29cb611361083\", element=\"906c6e9e-b16b-4f6d-8d9b-55097617f6ba\")>]"
      ]
     },
     "execution_count": 535,
     "metadata": {},
     "output_type": "execute_result"
    }
   ],
   "source": [
    "Price_tags=driver.find_elements_by_xpath(\"//div[@class='_30jeq3']\")\n",
    "Price_tags[0:99]"
   ]
  },
  {
   "cell_type": "code",
   "execution_count": 536,
   "id": "c5346f06",
   "metadata": {
    "scrolled": true
   },
   "outputs": [
    {
     "data": {
      "text/plain": [
       "['₹649',\n",
       " '₹1,049',\n",
       " '₹295',\n",
       " '₹249',\n",
       " '₹219',\n",
       " '₹283',\n",
       " '₹719',\n",
       " '₹649',\n",
       " '₹264',\n",
       " '₹280',\n",
       " '₹224',\n",
       " '₹899',\n",
       " '₹299',\n",
       " '₹208',\n",
       " '₹719',\n",
       " '₹1,491',\n",
       " '₹195',\n",
       " '₹224',\n",
       " '₹224',\n",
       " '₹1,179',\n",
       " '₹219',\n",
       " '₹349',\n",
       " '₹209',\n",
       " '₹995',\n",
       " '₹214',\n",
       " '₹329',\n",
       " '₹809',\n",
       " '₹1,491',\n",
       " '₹249',\n",
       " '₹259',\n",
       " '₹639',\n",
       " '₹699',\n",
       " '₹647',\n",
       " '₹299',\n",
       " '₹249',\n",
       " '₹2,549',\n",
       " '₹329',\n",
       " '₹333',\n",
       " '₹221',\n",
       " '₹799']"
      ]
     },
     "execution_count": 536,
     "metadata": {},
     "output_type": "execute_result"
    }
   ],
   "source": [
    "for i in Price_tags:\n",
    "    text=i.text\n",
    "    Price.append(text)\n",
    "Price[0:99]"
   ]
  },
  {
   "cell_type": "code",
   "execution_count": 537,
   "id": "343058e4",
   "metadata": {},
   "outputs": [],
   "source": [
    "Next=driver.find_element_by_xpath(\"/html/body/div[1]/div/div[3]/div[1]/div[2]/div[12]/div/div/nav/a[11]\")\n",
    "Next.click()"
   ]
  },
  {
   "cell_type": "code",
   "execution_count": 540,
   "id": "67f5d01e",
   "metadata": {},
   "outputs": [],
   "source": [
    "Brand1=[]"
   ]
  },
  {
   "cell_type": "code",
   "execution_count": 541,
   "id": "abaf854a",
   "metadata": {
    "scrolled": true
   },
   "outputs": [
    {
     "data": {
      "text/plain": [
       "[<selenium.webdriver.remote.webelement.WebElement (session=\"a77230fc2d886a22fee29cb611361083\", element=\"065728c4-bf12-413b-a05e-ea44abf8e400\")>,\n",
       " <selenium.webdriver.remote.webelement.WebElement (session=\"a77230fc2d886a22fee29cb611361083\", element=\"c48fe8ad-8902-47bd-b077-f98f78592653\")>,\n",
       " <selenium.webdriver.remote.webelement.WebElement (session=\"a77230fc2d886a22fee29cb611361083\", element=\"91d5d01e-b6ef-4aef-aac9-54ef0faae34c\")>,\n",
       " <selenium.webdriver.remote.webelement.WebElement (session=\"a77230fc2d886a22fee29cb611361083\", element=\"0334d49d-08f2-4a96-bf5a-437499e04cac\")>,\n",
       " <selenium.webdriver.remote.webelement.WebElement (session=\"a77230fc2d886a22fee29cb611361083\", element=\"06d14bff-dc97-44e6-b2ec-9d751b2a8f40\")>,\n",
       " <selenium.webdriver.remote.webelement.WebElement (session=\"a77230fc2d886a22fee29cb611361083\", element=\"b2e6dc14-0095-4fcc-9971-89fd028d22a6\")>,\n",
       " <selenium.webdriver.remote.webelement.WebElement (session=\"a77230fc2d886a22fee29cb611361083\", element=\"2069828e-e991-4313-abde-b3904a5decfe\")>,\n",
       " <selenium.webdriver.remote.webelement.WebElement (session=\"a77230fc2d886a22fee29cb611361083\", element=\"e6177c07-5277-4e4c-bb3f-95574b3c1bac\")>,\n",
       " <selenium.webdriver.remote.webelement.WebElement (session=\"a77230fc2d886a22fee29cb611361083\", element=\"5603efbe-cfd1-414b-885c-7d60114425b0\")>,\n",
       " <selenium.webdriver.remote.webelement.WebElement (session=\"a77230fc2d886a22fee29cb611361083\", element=\"d3f61185-df6c-410f-991b-2c1725501368\")>,\n",
       " <selenium.webdriver.remote.webelement.WebElement (session=\"a77230fc2d886a22fee29cb611361083\", element=\"88bc3844-15d6-4e0b-8478-9ef30b93a2db\")>,\n",
       " <selenium.webdriver.remote.webelement.WebElement (session=\"a77230fc2d886a22fee29cb611361083\", element=\"161d2352-7149-4e36-84d8-3e33af0cacab\")>,\n",
       " <selenium.webdriver.remote.webelement.WebElement (session=\"a77230fc2d886a22fee29cb611361083\", element=\"ade5426c-7b78-497d-a982-5e47951781c6\")>,\n",
       " <selenium.webdriver.remote.webelement.WebElement (session=\"a77230fc2d886a22fee29cb611361083\", element=\"78367c5b-5a77-47d5-bc28-0e105831e31c\")>,\n",
       " <selenium.webdriver.remote.webelement.WebElement (session=\"a77230fc2d886a22fee29cb611361083\", element=\"f13f0c0f-57da-4314-a60f-243b9c1c3c32\")>,\n",
       " <selenium.webdriver.remote.webelement.WebElement (session=\"a77230fc2d886a22fee29cb611361083\", element=\"c0eb8651-f63a-40eb-aeb3-e765a3d70dcc\")>,\n",
       " <selenium.webdriver.remote.webelement.WebElement (session=\"a77230fc2d886a22fee29cb611361083\", element=\"6ee4147b-c195-49b2-9fa5-b9027be1fd34\")>,\n",
       " <selenium.webdriver.remote.webelement.WebElement (session=\"a77230fc2d886a22fee29cb611361083\", element=\"c086f8da-8760-4fb1-9417-89782eb8200b\")>,\n",
       " <selenium.webdriver.remote.webelement.WebElement (session=\"a77230fc2d886a22fee29cb611361083\", element=\"e30e8dbd-e499-444e-a384-857a45a902bc\")>,\n",
       " <selenium.webdriver.remote.webelement.WebElement (session=\"a77230fc2d886a22fee29cb611361083\", element=\"8fdc57d4-2190-40b5-a0cb-c67640e6eecd\")>,\n",
       " <selenium.webdriver.remote.webelement.WebElement (session=\"a77230fc2d886a22fee29cb611361083\", element=\"eb62ad86-2cdb-4bd0-bd42-513eed2ad63a\")>,\n",
       " <selenium.webdriver.remote.webelement.WebElement (session=\"a77230fc2d886a22fee29cb611361083\", element=\"fab8a892-d209-422d-ba06-074b205d571d\")>,\n",
       " <selenium.webdriver.remote.webelement.WebElement (session=\"a77230fc2d886a22fee29cb611361083\", element=\"bb61e9df-e6da-4dc8-ab1e-9292c6cceba6\")>,\n",
       " <selenium.webdriver.remote.webelement.WebElement (session=\"a77230fc2d886a22fee29cb611361083\", element=\"fda37038-9ad1-4cc6-a212-a32e00e8d37d\")>,\n",
       " <selenium.webdriver.remote.webelement.WebElement (session=\"a77230fc2d886a22fee29cb611361083\", element=\"b920f0db-2a5f-4a46-a4c9-cb30899ee17b\")>,\n",
       " <selenium.webdriver.remote.webelement.WebElement (session=\"a77230fc2d886a22fee29cb611361083\", element=\"c4cc9825-e70d-4b8e-bf63-58b5babdc3ac\")>,\n",
       " <selenium.webdriver.remote.webelement.WebElement (session=\"a77230fc2d886a22fee29cb611361083\", element=\"74fc9b2a-6387-4c03-ba89-0ee2c0452bb2\")>,\n",
       " <selenium.webdriver.remote.webelement.WebElement (session=\"a77230fc2d886a22fee29cb611361083\", element=\"f091624b-c934-45d5-8b40-6526da8eb2f8\")>,\n",
       " <selenium.webdriver.remote.webelement.WebElement (session=\"a77230fc2d886a22fee29cb611361083\", element=\"077951aa-4a4e-4444-b253-274bb1770ec9\")>,\n",
       " <selenium.webdriver.remote.webelement.WebElement (session=\"a77230fc2d886a22fee29cb611361083\", element=\"7e801d89-ff28-4a91-952f-13cb02d4dd70\")>,\n",
       " <selenium.webdriver.remote.webelement.WebElement (session=\"a77230fc2d886a22fee29cb611361083\", element=\"0f036750-c1d0-4cf0-952f-10206f3a4af9\")>,\n",
       " <selenium.webdriver.remote.webelement.WebElement (session=\"a77230fc2d886a22fee29cb611361083\", element=\"9c980071-34a7-4db4-95b7-c82e095437eb\")>,\n",
       " <selenium.webdriver.remote.webelement.WebElement (session=\"a77230fc2d886a22fee29cb611361083\", element=\"a4e768ed-4c4c-4c6b-b57f-0b6fad9ae7d0\")>,\n",
       " <selenium.webdriver.remote.webelement.WebElement (session=\"a77230fc2d886a22fee29cb611361083\", element=\"a7450245-7658-4f71-9936-2d875be73abc\")>,\n",
       " <selenium.webdriver.remote.webelement.WebElement (session=\"a77230fc2d886a22fee29cb611361083\", element=\"6dd9ae87-2684-4f8d-b546-ea2050fe6296\")>,\n",
       " <selenium.webdriver.remote.webelement.WebElement (session=\"a77230fc2d886a22fee29cb611361083\", element=\"49b02df0-c01c-430e-ad42-e11a52673437\")>,\n",
       " <selenium.webdriver.remote.webelement.WebElement (session=\"a77230fc2d886a22fee29cb611361083\", element=\"78db9ea8-d810-4973-91c2-9af958ac3806\")>,\n",
       " <selenium.webdriver.remote.webelement.WebElement (session=\"a77230fc2d886a22fee29cb611361083\", element=\"964c1ca3-bcd2-46d7-bc14-0730ed22a0d1\")>,\n",
       " <selenium.webdriver.remote.webelement.WebElement (session=\"a77230fc2d886a22fee29cb611361083\", element=\"2d5c9925-ca6f-4854-b6c7-c41b5a9d87db\")>,\n",
       " <selenium.webdriver.remote.webelement.WebElement (session=\"a77230fc2d886a22fee29cb611361083\", element=\"f22be5df-74c4-4921-9aee-af7e899b39e6\")>]"
      ]
     },
     "execution_count": 541,
     "metadata": {},
     "output_type": "execute_result"
    }
   ],
   "source": [
    "Brand1_tags=driver.find_elements_by_xpath(\"//div[@class='_2WkVRV']\")\n",
    "Brand1_tags[0:99]"
   ]
  },
  {
   "cell_type": "code",
   "execution_count": 542,
   "id": "560d14aa",
   "metadata": {
    "scrolled": true
   },
   "outputs": [
    {
     "data": {
      "text/plain": [
       "['SRPM',\n",
       " 'Fastrack',\n",
       " 'GANSTA',\n",
       " 'kingsunglasses',\n",
       " 'Lee Topper',\n",
       " 'ROYAL SON',\n",
       " 'Fastrack',\n",
       " 'HIPPON',\n",
       " 'Silver Kartz',\n",
       " 'PIRASO',\n",
       " 'New Specs',\n",
       " 'AISLIN',\n",
       " 'kingsunglasses',\n",
       " 'kingsunglasses',\n",
       " 'PHENOMENAL',\n",
       " 'ROYAL SON',\n",
       " 'AISLIN',\n",
       " 'Mi',\n",
       " 'ROYAL SON',\n",
       " 'Rich Club',\n",
       " 'Fastrack',\n",
       " 'Lee Topper',\n",
       " 'PHENOMENAL',\n",
       " 'Rich Club',\n",
       " 'PHENOMENAL',\n",
       " 'hipe',\n",
       " 'Elligator',\n",
       " 'Fastrack',\n",
       " 'SUNBEE',\n",
       " 'Fastrack',\n",
       " 'Mi',\n",
       " 'PIRASO',\n",
       " 'AISLIN',\n",
       " 'Rich Club',\n",
       " 'Fastrack',\n",
       " 'PIRASO',\n",
       " 'elegante',\n",
       " 'Fastrack',\n",
       " 'kingsunglasses',\n",
       " 'hipe']"
      ]
     },
     "execution_count": 542,
     "metadata": {},
     "output_type": "execute_result"
    }
   ],
   "source": [
    "for i in Brand1_tags:\n",
    "    text=i.text\n",
    "    Brand1.append(text)\n",
    "Brand1[0:99]"
   ]
  },
  {
   "cell_type": "code",
   "execution_count": 543,
   "id": "38923a3d",
   "metadata": {},
   "outputs": [],
   "source": [
    "Product_desription1=[]"
   ]
  },
  {
   "cell_type": "code",
   "execution_count": 544,
   "id": "e20ca913",
   "metadata": {
    "scrolled": true
   },
   "outputs": [
    {
     "data": {
      "text/plain": [
       "[<selenium.webdriver.remote.webelement.WebElement (session=\"a77230fc2d886a22fee29cb611361083\", element=\"1e7fae69-0589-4ffa-b55d-125dbd4eec71\")>,\n",
       " <selenium.webdriver.remote.webelement.WebElement (session=\"a77230fc2d886a22fee29cb611361083\", element=\"f5bba16e-2a76-4a98-bb20-29b52bacb9fa\")>,\n",
       " <selenium.webdriver.remote.webelement.WebElement (session=\"a77230fc2d886a22fee29cb611361083\", element=\"61ca1d5c-1912-4c91-92de-d7e32f68c2a3\")>,\n",
       " <selenium.webdriver.remote.webelement.WebElement (session=\"a77230fc2d886a22fee29cb611361083\", element=\"6f0e6f74-5b2f-487d-b086-16b0c9dbc55c\")>,\n",
       " <selenium.webdriver.remote.webelement.WebElement (session=\"a77230fc2d886a22fee29cb611361083\", element=\"621a3354-b190-44d4-928f-a6abf4c8b0a3\")>,\n",
       " <selenium.webdriver.remote.webelement.WebElement (session=\"a77230fc2d886a22fee29cb611361083\", element=\"4c74fdfa-90de-47b2-9065-e40fce99f49d\")>,\n",
       " <selenium.webdriver.remote.webelement.WebElement (session=\"a77230fc2d886a22fee29cb611361083\", element=\"3e8dda7d-db64-4b40-8378-1ee50486fb15\")>,\n",
       " <selenium.webdriver.remote.webelement.WebElement (session=\"a77230fc2d886a22fee29cb611361083\", element=\"1479bcca-66bf-4511-bf39-43149aee50a8\")>,\n",
       " <selenium.webdriver.remote.webelement.WebElement (session=\"a77230fc2d886a22fee29cb611361083\", element=\"59a18cde-57f8-46f6-8260-3b3d6ad26b74\")>,\n",
       " <selenium.webdriver.remote.webelement.WebElement (session=\"a77230fc2d886a22fee29cb611361083\", element=\"bf64a761-3568-4109-aad6-44273f53fab2\")>,\n",
       " <selenium.webdriver.remote.webelement.WebElement (session=\"a77230fc2d886a22fee29cb611361083\", element=\"c2848802-f427-490e-b375-abf0425092cd\")>,\n",
       " <selenium.webdriver.remote.webelement.WebElement (session=\"a77230fc2d886a22fee29cb611361083\", element=\"76d7bc03-cf0b-4c6b-a728-ccd9e191c2bb\")>,\n",
       " <selenium.webdriver.remote.webelement.WebElement (session=\"a77230fc2d886a22fee29cb611361083\", element=\"6f6e3cac-9df7-40c9-889a-87f60faa8d7b\")>,\n",
       " <selenium.webdriver.remote.webelement.WebElement (session=\"a77230fc2d886a22fee29cb611361083\", element=\"c44b6933-bf1f-426b-bf49-a194df1bad80\")>,\n",
       " <selenium.webdriver.remote.webelement.WebElement (session=\"a77230fc2d886a22fee29cb611361083\", element=\"073f0f42-3767-4030-b6f4-9c4f664616e7\")>,\n",
       " <selenium.webdriver.remote.webelement.WebElement (session=\"a77230fc2d886a22fee29cb611361083\", element=\"24841730-9df7-43d9-a377-b8d5f86eb7ee\")>,\n",
       " <selenium.webdriver.remote.webelement.WebElement (session=\"a77230fc2d886a22fee29cb611361083\", element=\"0ed7d653-3c7e-402a-bbb3-42bdd674e999\")>,\n",
       " <selenium.webdriver.remote.webelement.WebElement (session=\"a77230fc2d886a22fee29cb611361083\", element=\"6c5866aa-a904-4088-89d7-04228c30b80d\")>,\n",
       " <selenium.webdriver.remote.webelement.WebElement (session=\"a77230fc2d886a22fee29cb611361083\", element=\"644b3b12-74b6-42a6-82b6-94a66df32701\")>,\n",
       " <selenium.webdriver.remote.webelement.WebElement (session=\"a77230fc2d886a22fee29cb611361083\", element=\"587d9094-ba7e-493b-bb39-1ee145d6f488\")>,\n",
       " <selenium.webdriver.remote.webelement.WebElement (session=\"a77230fc2d886a22fee29cb611361083\", element=\"06fdff1d-2c04-4e99-8403-6e5a14a403dd\")>,\n",
       " <selenium.webdriver.remote.webelement.WebElement (session=\"a77230fc2d886a22fee29cb611361083\", element=\"e37f6ed2-21c0-4cba-afdc-d4a6591bc678\")>,\n",
       " <selenium.webdriver.remote.webelement.WebElement (session=\"a77230fc2d886a22fee29cb611361083\", element=\"f93d49dc-3246-4615-b6f2-1a5eeedba2b1\")>,\n",
       " <selenium.webdriver.remote.webelement.WebElement (session=\"a77230fc2d886a22fee29cb611361083\", element=\"f474c3b5-9b6d-41da-a619-72ec38a8ccd1\")>,\n",
       " <selenium.webdriver.remote.webelement.WebElement (session=\"a77230fc2d886a22fee29cb611361083\", element=\"3fa3bc3d-f5f6-48c7-88e3-e640278d0775\")>,\n",
       " <selenium.webdriver.remote.webelement.WebElement (session=\"a77230fc2d886a22fee29cb611361083\", element=\"38cfe110-4cad-4e28-84da-171229461037\")>,\n",
       " <selenium.webdriver.remote.webelement.WebElement (session=\"a77230fc2d886a22fee29cb611361083\", element=\"59b2550c-5d7d-4905-8fbe-7284f0a2913b\")>,\n",
       " <selenium.webdriver.remote.webelement.WebElement (session=\"a77230fc2d886a22fee29cb611361083\", element=\"18432cc4-a4df-4338-9c03-23e257016e4c\")>,\n",
       " <selenium.webdriver.remote.webelement.WebElement (session=\"a77230fc2d886a22fee29cb611361083\", element=\"64575ad4-388f-406c-838e-f71067e35cbd\")>,\n",
       " <selenium.webdriver.remote.webelement.WebElement (session=\"a77230fc2d886a22fee29cb611361083\", element=\"026be2f9-8de3-4f01-8ecc-3341f68727e4\")>,\n",
       " <selenium.webdriver.remote.webelement.WebElement (session=\"a77230fc2d886a22fee29cb611361083\", element=\"70f8e14d-0d04-4d17-b0ef-d9e40cd67673\")>,\n",
       " <selenium.webdriver.remote.webelement.WebElement (session=\"a77230fc2d886a22fee29cb611361083\", element=\"6a8a02e1-f99f-45d5-9fa7-3d17fb55f7dc\")>,\n",
       " <selenium.webdriver.remote.webelement.WebElement (session=\"a77230fc2d886a22fee29cb611361083\", element=\"15101780-6e75-4148-855d-f511c7484a8a\")>,\n",
       " <selenium.webdriver.remote.webelement.WebElement (session=\"a77230fc2d886a22fee29cb611361083\", element=\"66eff441-86c7-4c60-a0e2-c6a5b8bd8eaf\")>,\n",
       " <selenium.webdriver.remote.webelement.WebElement (session=\"a77230fc2d886a22fee29cb611361083\", element=\"c2aa9742-738c-4142-8abf-429dfc450e1e\")>,\n",
       " <selenium.webdriver.remote.webelement.WebElement (session=\"a77230fc2d886a22fee29cb611361083\", element=\"2e6ac82d-b6bd-410d-b9f5-5fc5c16a3c78\")>,\n",
       " <selenium.webdriver.remote.webelement.WebElement (session=\"a77230fc2d886a22fee29cb611361083\", element=\"8b836be2-dcb9-4079-a865-87f70a75b580\")>,\n",
       " <selenium.webdriver.remote.webelement.WebElement (session=\"a77230fc2d886a22fee29cb611361083\", element=\"7eaaab63-f711-4882-8609-3e391f3ff50c\")>,\n",
       " <selenium.webdriver.remote.webelement.WebElement (session=\"a77230fc2d886a22fee29cb611361083\", element=\"8783126c-ef86-4f7e-a58c-1a36463c6da6\")>,\n",
       " <selenium.webdriver.remote.webelement.WebElement (session=\"a77230fc2d886a22fee29cb611361083\", element=\"e22cf360-e17f-4a5e-bd3a-6e6149458cca\")>]"
      ]
     },
     "execution_count": 544,
     "metadata": {},
     "output_type": "execute_result"
    }
   ],
   "source": [
    "Product_desription1_tags=driver.find_elements_by_xpath(\"//a[@class='IRpwTa']\")\n",
    "Product_desription1_tags[0:99]"
   ]
  },
  {
   "cell_type": "code",
   "execution_count": 545,
   "id": "960580ab",
   "metadata": {
    "scrolled": true
   },
   "outputs": [
    {
     "data": {
      "text/plain": [
       "['UV Protection Wayfarer Sunglasses (53)',\n",
       " 'Gradient, UV Protection Wayfarer Sunglasses (Free Size)',\n",
       " 'UV Protection Aviator Sunglasses (57)',\n",
       " 'UV Protection Round Sunglasses (Free Size)',\n",
       " 'UV Protection Cat-eye Sunglasses (Free Size)',\n",
       " 'Mirrored Aviator Sunglasses (Free Size)',\n",
       " 'UV Protection Aviator Sunglasses (Free Size)',\n",
       " 'UV Protection Wayfarer Sunglasses (55)',\n",
       " 'UV Protection Wayfarer Sunglasses (Free Size)',\n",
       " 'UV Protection Over-sized Sunglasses (65)',\n",
       " 'UV Protection Rectangular Sunglasses (Free Size)',\n",
       " 'UV Protection, Gradient Round, Cat-eye Sunglasses (60)',\n",
       " 'Mirrored, UV Protection Wayfarer Sunglasses (Free Size)',\n",
       " 'UV Protection Rectangular Sunglasses (55)',\n",
       " 'UV Protection Retro Square Sunglasses (Free Size)',\n",
       " 'UV Protection Rectangular, Retro Square Sunglasses (58)',\n",
       " 'UV Protection, Gradient Butterfly, Retro Square Sunglas...',\n",
       " 'Polarized Aviator Sunglasses (Free Size)',\n",
       " 'Mirrored Aviator Sunglasses (55)',\n",
       " 'UV Protection, Mirrored, Gradient Round Sunglasses (51)',\n",
       " 'Gradient, UV Protection Wayfarer Sunglasses (Free Size)',\n",
       " 'Riding Glasses, Night Vision Wrap-around Sunglasses (Fr...',\n",
       " 'UV Protection, Mirrored Retro Square Sunglasses (53)',\n",
       " 'UV Protection Round Sunglasses (48)',\n",
       " 'UV Protection, Mirrored Clubmaster Sunglasses (Free Siz...',\n",
       " 'Mirrored Wayfarer Sunglasses (55)',\n",
       " 'UV Protection Round Sunglasses (53)',\n",
       " 'UV Protection Wayfarer Sunglasses (55)',\n",
       " 'UV Protection, Polarized, Mirrored Round Sunglasses (Fr...',\n",
       " 'Polarized Retro Square Sunglasses (Free Size)',\n",
       " 'Polarized Wayfarer Sunglasses (Free Size)',\n",
       " 'UV Protection Aviator Sunglasses (55)',\n",
       " 'Toughened Glass Lens, UV Protection Wayfarer, Rectangul...',\n",
       " 'Polarized Round Sunglasses (48)',\n",
       " 'UV Protection Wayfarer Sunglasses (Free Size)',\n",
       " 'UV Protection Aviator Sunglasses (54)',\n",
       " 'Polarized, Riding Glasses, Night Vision Sports, Wrap-ar...',\n",
       " 'UV Protection Aviator Sunglasses (58)',\n",
       " 'UV Protection, Mirrored Aviator Sunglasses (Free Size)',\n",
       " 'UV Protection, Night Vision, Riding Glasses, Gradient, ...']"
      ]
     },
     "execution_count": 545,
     "metadata": {},
     "output_type": "execute_result"
    }
   ],
   "source": [
    "for i in Product_desription1_tags:\n",
    "    text=i.text\n",
    "    Product_desription1.append(text)\n",
    "Product_desription1[0:99]"
   ]
  },
  {
   "cell_type": "code",
   "execution_count": 546,
   "id": "ea9acd97",
   "metadata": {},
   "outputs": [],
   "source": [
    "Price1=[]"
   ]
  },
  {
   "cell_type": "code",
   "execution_count": 547,
   "id": "e57ce556",
   "metadata": {
    "scrolled": true
   },
   "outputs": [
    {
     "data": {
      "text/plain": [
       "[<selenium.webdriver.remote.webelement.WebElement (session=\"a77230fc2d886a22fee29cb611361083\", element=\"e37f35e2-8126-484d-90cd-2875c00ffd4e\")>,\n",
       " <selenium.webdriver.remote.webelement.WebElement (session=\"a77230fc2d886a22fee29cb611361083\", element=\"025e2d20-d82b-4562-b574-a4d96731e027\")>,\n",
       " <selenium.webdriver.remote.webelement.WebElement (session=\"a77230fc2d886a22fee29cb611361083\", element=\"a2ecdf05-90c2-4768-94b3-bd87494b85d5\")>,\n",
       " <selenium.webdriver.remote.webelement.WebElement (session=\"a77230fc2d886a22fee29cb611361083\", element=\"6134093d-c1f4-4246-be2f-767d61c8459c\")>,\n",
       " <selenium.webdriver.remote.webelement.WebElement (session=\"a77230fc2d886a22fee29cb611361083\", element=\"42b9bf55-aeb1-4244-9974-82a29dcab066\")>,\n",
       " <selenium.webdriver.remote.webelement.WebElement (session=\"a77230fc2d886a22fee29cb611361083\", element=\"cd79a88f-497f-4e16-a586-a2f8073639ac\")>,\n",
       " <selenium.webdriver.remote.webelement.WebElement (session=\"a77230fc2d886a22fee29cb611361083\", element=\"d8890460-6ba4-4319-82da-1ce57f697b41\")>,\n",
       " <selenium.webdriver.remote.webelement.WebElement (session=\"a77230fc2d886a22fee29cb611361083\", element=\"b1ba83e8-6f4a-4f0e-a8f8-a68e7e5999e0\")>,\n",
       " <selenium.webdriver.remote.webelement.WebElement (session=\"a77230fc2d886a22fee29cb611361083\", element=\"1ec07baa-312e-45ef-afe1-9bd9583b2f79\")>,\n",
       " <selenium.webdriver.remote.webelement.WebElement (session=\"a77230fc2d886a22fee29cb611361083\", element=\"b0b55543-4442-4588-b961-e63aafd41ab4\")>,\n",
       " <selenium.webdriver.remote.webelement.WebElement (session=\"a77230fc2d886a22fee29cb611361083\", element=\"bfa8f308-0bb8-44d5-a2b4-b8fc5595244d\")>,\n",
       " <selenium.webdriver.remote.webelement.WebElement (session=\"a77230fc2d886a22fee29cb611361083\", element=\"f1678136-bec1-46ba-a515-e2791dc713f2\")>,\n",
       " <selenium.webdriver.remote.webelement.WebElement (session=\"a77230fc2d886a22fee29cb611361083\", element=\"461ee336-b332-46f3-b1f9-c8b03f87d213\")>,\n",
       " <selenium.webdriver.remote.webelement.WebElement (session=\"a77230fc2d886a22fee29cb611361083\", element=\"87c4814c-41d3-4e2f-a405-d4dbe7c5bf8d\")>,\n",
       " <selenium.webdriver.remote.webelement.WebElement (session=\"a77230fc2d886a22fee29cb611361083\", element=\"515d16a6-12f1-4720-856b-1ffed91cb331\")>,\n",
       " <selenium.webdriver.remote.webelement.WebElement (session=\"a77230fc2d886a22fee29cb611361083\", element=\"7212fba2-1b32-47ce-ab98-68c33f2f671f\")>,\n",
       " <selenium.webdriver.remote.webelement.WebElement (session=\"a77230fc2d886a22fee29cb611361083\", element=\"bcf5e63d-2d28-439b-968e-036e53265283\")>,\n",
       " <selenium.webdriver.remote.webelement.WebElement (session=\"a77230fc2d886a22fee29cb611361083\", element=\"52bed5d4-c292-4d8e-8c9d-aa117f3a8487\")>,\n",
       " <selenium.webdriver.remote.webelement.WebElement (session=\"a77230fc2d886a22fee29cb611361083\", element=\"a8773377-9d71-4032-930d-2cb527525644\")>,\n",
       " <selenium.webdriver.remote.webelement.WebElement (session=\"a77230fc2d886a22fee29cb611361083\", element=\"8b7f3554-b147-4c59-a307-9f546b658199\")>,\n",
       " <selenium.webdriver.remote.webelement.WebElement (session=\"a77230fc2d886a22fee29cb611361083\", element=\"5c63f49e-de38-4e3f-9656-ef6fbb9f27ac\")>,\n",
       " <selenium.webdriver.remote.webelement.WebElement (session=\"a77230fc2d886a22fee29cb611361083\", element=\"c9842dfa-3c58-4d01-9f90-fe31c7b79c36\")>,\n",
       " <selenium.webdriver.remote.webelement.WebElement (session=\"a77230fc2d886a22fee29cb611361083\", element=\"c89dd219-c186-47f6-8a3f-650473abcf5a\")>,\n",
       " <selenium.webdriver.remote.webelement.WebElement (session=\"a77230fc2d886a22fee29cb611361083\", element=\"3a473d1f-7ac9-4205-96fb-9c8f41aa6813\")>,\n",
       " <selenium.webdriver.remote.webelement.WebElement (session=\"a77230fc2d886a22fee29cb611361083\", element=\"bc9500e7-ca84-4e84-888c-f2cb822e303c\")>,\n",
       " <selenium.webdriver.remote.webelement.WebElement (session=\"a77230fc2d886a22fee29cb611361083\", element=\"b11807d9-edd8-4bb9-a821-1dd85c03d2cb\")>,\n",
       " <selenium.webdriver.remote.webelement.WebElement (session=\"a77230fc2d886a22fee29cb611361083\", element=\"ff2ffa03-78ac-4c19-9d8b-e50bcaa155a9\")>,\n",
       " <selenium.webdriver.remote.webelement.WebElement (session=\"a77230fc2d886a22fee29cb611361083\", element=\"8351ff91-347b-4c34-81c9-6aac68001b6e\")>,\n",
       " <selenium.webdriver.remote.webelement.WebElement (session=\"a77230fc2d886a22fee29cb611361083\", element=\"c503f24d-8674-45dc-80c8-8c9f48951d31\")>,\n",
       " <selenium.webdriver.remote.webelement.WebElement (session=\"a77230fc2d886a22fee29cb611361083\", element=\"b67bf6ee-fc6f-4712-a5a8-6b308f1b3cfc\")>,\n",
       " <selenium.webdriver.remote.webelement.WebElement (session=\"a77230fc2d886a22fee29cb611361083\", element=\"4bc12937-9876-4426-984f-1138eb758696\")>,\n",
       " <selenium.webdriver.remote.webelement.WebElement (session=\"a77230fc2d886a22fee29cb611361083\", element=\"598ab548-7b45-483b-87bc-74019496592d\")>,\n",
       " <selenium.webdriver.remote.webelement.WebElement (session=\"a77230fc2d886a22fee29cb611361083\", element=\"1bf674df-4f13-45c9-baf3-adef0e31cf15\")>,\n",
       " <selenium.webdriver.remote.webelement.WebElement (session=\"a77230fc2d886a22fee29cb611361083\", element=\"734538a1-fec4-4fea-b99a-9bc696459a6e\")>,\n",
       " <selenium.webdriver.remote.webelement.WebElement (session=\"a77230fc2d886a22fee29cb611361083\", element=\"10c0f970-8a2e-4dc3-ad06-9f1ddbd356c0\")>,\n",
       " <selenium.webdriver.remote.webelement.WebElement (session=\"a77230fc2d886a22fee29cb611361083\", element=\"fac0e088-4301-4679-a207-78c8d46eafea\")>,\n",
       " <selenium.webdriver.remote.webelement.WebElement (session=\"a77230fc2d886a22fee29cb611361083\", element=\"0584b729-a20c-4a01-a87d-6ae359cf9bf7\")>,\n",
       " <selenium.webdriver.remote.webelement.WebElement (session=\"a77230fc2d886a22fee29cb611361083\", element=\"fbe8732c-f172-4432-9ba1-34d33d019416\")>,\n",
       " <selenium.webdriver.remote.webelement.WebElement (session=\"a77230fc2d886a22fee29cb611361083\", element=\"0e605bfb-e89e-44ce-be5b-6b763cb5043b\")>,\n",
       " <selenium.webdriver.remote.webelement.WebElement (session=\"a77230fc2d886a22fee29cb611361083\", element=\"899d9c99-8f5e-45bc-8210-6b09572e766c\")>]"
      ]
     },
     "execution_count": 547,
     "metadata": {},
     "output_type": "execute_result"
    }
   ],
   "source": [
    "Price1_tags=driver.find_elements_by_xpath(\"//div[@class='_30jeq3']\")\n",
    "Price1_tags[0:99]"
   ]
  },
  {
   "cell_type": "code",
   "execution_count": 548,
   "id": "90d5528f",
   "metadata": {
    "scrolled": true
   },
   "outputs": [
    {
     "data": {
      "text/plain": [
       "['₹221',\n",
       " '₹639',\n",
       " '₹284',\n",
       " '₹329',\n",
       " '₹281',\n",
       " '₹399',\n",
       " '₹639',\n",
       " '₹181',\n",
       " '₹288',\n",
       " '₹410',\n",
       " '₹189',\n",
       " '₹498',\n",
       " '₹269',\n",
       " '₹189',\n",
       " '₹361',\n",
       " '₹499',\n",
       " '₹498',\n",
       " '₹908',\n",
       " '₹399',\n",
       " '₹249',\n",
       " '₹639',\n",
       " '₹276',\n",
       " '₹353',\n",
       " '₹299',\n",
       " '₹353',\n",
       " '₹233',\n",
       " '₹244',\n",
       " '₹759',\n",
       " '₹324',\n",
       " '₹639',\n",
       " '₹849',\n",
       " '₹250',\n",
       " '₹775',\n",
       " '₹199',\n",
       " '₹639',\n",
       " '₹225',\n",
       " '₹499',\n",
       " '₹1,039',\n",
       " '₹269',\n",
       " '₹179']"
      ]
     },
     "execution_count": 548,
     "metadata": {},
     "output_type": "execute_result"
    }
   ],
   "source": [
    "for i in Price1_tags:\n",
    "    text=i.text\n",
    "    Price1.append(text)\n",
    "Price1[0:99]"
   ]
  },
  {
   "cell_type": "code",
   "execution_count": 549,
   "id": "95668c83",
   "metadata": {},
   "outputs": [],
   "source": [
    "driver.close()"
   ]
  },
  {
   "cell_type": "markdown",
   "id": "956aada1",
   "metadata": {},
   "source": [
    "# 10) Scrape 100 reviews data from flipkart.com for iphone11 phone."
   ]
  },
  {
   "cell_type": "code",
   "execution_count": 562,
   "id": "eb1a14f4",
   "metadata": {},
   "outputs": [],
   "source": [
    "import selenium                              #library that is used to work with selenium.\n",
    "import pandas as pd                          #to create dataframe.\n",
    "from selenium import webdriver               #importing webdriver module from selenium to open up automated chrome windows.\n",
    "import warnings                              #to ignore any sort of warning.\n",
    "warnings.filterwarnings(\"ignore\")\n",
    "import time "
   ]
  },
  {
   "cell_type": "code",
   "execution_count": 563,
   "id": "e19d7776",
   "metadata": {},
   "outputs": [],
   "source": [
    "#Let us first connect to the web driver\n",
    "driver=webdriver.Chrome(\"chromedriver.exe\")\n",
    "time.sleep(2)"
   ]
  },
  {
   "cell_type": "code",
   "execution_count": 564,
   "id": "78b372b3",
   "metadata": {},
   "outputs": [],
   "source": [
    "#opening up flipkart.com website on automated chrome window\n",
    "driver.get(\"https://www.flipkart.com/apple-iphone-11-black-64-gb-includes- earpods-poweradapter/p/itm0f37c2240b217?pid=MOBFKCTSVZAXUHGR&lid=LSTMOBFKCTSVZAXUHGREPBFGI&marketplace\")"
   ]
  },
  {
   "cell_type": "code",
   "execution_count": 570,
   "id": "244796ba",
   "metadata": {},
   "outputs": [],
   "source": [
    "Rating=[]"
   ]
  },
  {
   "cell_type": "code",
   "execution_count": 571,
   "id": "f3717885",
   "metadata": {},
   "outputs": [
    {
     "data": {
      "text/plain": [
       "[<selenium.webdriver.remote.webelement.WebElement (session=\"338cec4f18090bd865131a60b32a260b\", element=\"81b12390-55ec-40cf-bb00-775e536a7b06\")>,\n",
       " <selenium.webdriver.remote.webelement.WebElement (session=\"338cec4f18090bd865131a60b32a260b\", element=\"72060cbd-4595-4c97-b4e5-5592fba4f4ce\")>,\n",
       " <selenium.webdriver.remote.webelement.WebElement (session=\"338cec4f18090bd865131a60b32a260b\", element=\"9c4a89e0-73af-44c4-a609-b2ff13f975e4\")>,\n",
       " <selenium.webdriver.remote.webelement.WebElement (session=\"338cec4f18090bd865131a60b32a260b\", element=\"39b751bc-0b44-4fea-b7d8-6a7d24c640d1\")>,\n",
       " <selenium.webdriver.remote.webelement.WebElement (session=\"338cec4f18090bd865131a60b32a260b\", element=\"8ab04105-ae28-40a7-a806-dc47cc007149\")>,\n",
       " <selenium.webdriver.remote.webelement.WebElement (session=\"338cec4f18090bd865131a60b32a260b\", element=\"284a25f3-5ba1-46ca-ac3b-78b8d187ba50\")>,\n",
       " <selenium.webdriver.remote.webelement.WebElement (session=\"338cec4f18090bd865131a60b32a260b\", element=\"36ced83b-0af0-4549-91ca-038ed7c0baf9\")>,\n",
       " <selenium.webdriver.remote.webelement.WebElement (session=\"338cec4f18090bd865131a60b32a260b\", element=\"9aebbd9d-1e73-4cd6-99b2-7fca44c666ac\")>,\n",
       " <selenium.webdriver.remote.webelement.WebElement (session=\"338cec4f18090bd865131a60b32a260b\", element=\"2189c3db-f67c-45ee-95ff-62f809fb64ae\")>,\n",
       " <selenium.webdriver.remote.webelement.WebElement (session=\"338cec4f18090bd865131a60b32a260b\", element=\"0418b36f-55eb-4256-93b3-8af1dd8f26be\")>]"
      ]
     },
     "execution_count": 571,
     "metadata": {},
     "output_type": "execute_result"
    }
   ],
   "source": [
    "Rating_tags=driver.find_elements_by_xpath(\"//div[@class='_3LWZlK _1BLPMq']\")\n",
    "Rating_tags[0:10]"
   ]
  },
  {
   "cell_type": "code",
   "execution_count": 572,
   "id": "d5338cd1",
   "metadata": {},
   "outputs": [
    {
     "data": {
      "text/plain": [
       "['5', '5', '5', '5', '5', '5', '5', '5', '4', '5']"
      ]
     },
     "execution_count": 572,
     "metadata": {},
     "output_type": "execute_result"
    }
   ],
   "source": [
    "for i in Rating_tags:\n",
    "    text=i.text\n",
    "    Rating.append(text)\n",
    "Rating[0:10]"
   ]
  },
  {
   "cell_type": "code",
   "execution_count": 561,
   "id": "99883a2a",
   "metadata": {},
   "outputs": [],
   "source": [
    "Review_summary=[]"
   ]
  },
  {
   "cell_type": "code",
   "execution_count": 575,
   "id": "060acc26",
   "metadata": {},
   "outputs": [
    {
     "data": {
      "text/plain": [
       "[<selenium.webdriver.remote.webelement.WebElement (session=\"338cec4f18090bd865131a60b32a260b\", element=\"2e491db3-2175-4ca4-87e3-529faad87a97\")>,\n",
       " <selenium.webdriver.remote.webelement.WebElement (session=\"338cec4f18090bd865131a60b32a260b\", element=\"719978af-f7ac-4fb5-87b5-dd7561c02e2d\")>,\n",
       " <selenium.webdriver.remote.webelement.WebElement (session=\"338cec4f18090bd865131a60b32a260b\", element=\"ad1e76d8-f4e1-479b-a710-6e50c455bfec\")>,\n",
       " <selenium.webdriver.remote.webelement.WebElement (session=\"338cec4f18090bd865131a60b32a260b\", element=\"df1ebf41-71e6-42b3-a434-1b1c9e4695eb\")>,\n",
       " <selenium.webdriver.remote.webelement.WebElement (session=\"338cec4f18090bd865131a60b32a260b\", element=\"5b359260-ff2c-46aa-a238-aeca43dbf168\")>,\n",
       " <selenium.webdriver.remote.webelement.WebElement (session=\"338cec4f18090bd865131a60b32a260b\", element=\"bc9717b2-3935-405b-a44a-6e1eaf8eb71f\")>,\n",
       " <selenium.webdriver.remote.webelement.WebElement (session=\"338cec4f18090bd865131a60b32a260b\", element=\"ec6534e1-6669-41f5-be70-d91fc70950e1\")>,\n",
       " <selenium.webdriver.remote.webelement.WebElement (session=\"338cec4f18090bd865131a60b32a260b\", element=\"f8689295-dd95-4d1d-96f9-c9fb3c0afe79\")>,\n",
       " <selenium.webdriver.remote.webelement.WebElement (session=\"338cec4f18090bd865131a60b32a260b\", element=\"32ea8880-9a98-4e0c-a817-2cec4e72115b\")>,\n",
       " <selenium.webdriver.remote.webelement.WebElement (session=\"338cec4f18090bd865131a60b32a260b\", element=\"cd814ce4-0769-46ab-ad7b-c4d46323ac6f\")>]"
      ]
     },
     "execution_count": 575,
     "metadata": {},
     "output_type": "execute_result"
    }
   ],
   "source": [
    "Review_summary_tags=driver.find_elements_by_xpath(\"//p[@class='_2-N8zT']\")\n",
    "Review_summary_tags[0:10]"
   ]
  },
  {
   "cell_type": "code",
   "execution_count": 576,
   "id": "8d3ff00b",
   "metadata": {},
   "outputs": [
    {
     "data": {
      "text/plain": [
       "['Brilliant',\n",
       " 'Simply awesome',\n",
       " 'Best in the market!',\n",
       " 'Perfect product!',\n",
       " 'Fabulous!',\n",
       " 'Worth every penny',\n",
       " 'Great product',\n",
       " 'Highly recommended',\n",
       " 'Good choice',\n",
       " 'Worth every penny']"
      ]
     },
     "execution_count": 576,
     "metadata": {},
     "output_type": "execute_result"
    }
   ],
   "source": [
    "for i in Review_summary_tags:\n",
    "    text=i.text\n",
    "    Review_summary.append(text)\n",
    "Review_summary[0:10]"
   ]
  },
  {
   "cell_type": "code",
   "execution_count": 577,
   "id": "68aa511c",
   "metadata": {},
   "outputs": [],
   "source": [
    "Full_review=[]"
   ]
  },
  {
   "cell_type": "code",
   "execution_count": 578,
   "id": "ba74e019",
   "metadata": {},
   "outputs": [
    {
     "data": {
      "text/plain": [
       "[<selenium.webdriver.remote.webelement.WebElement (session=\"338cec4f18090bd865131a60b32a260b\", element=\"98e5fc97-4c97-4e34-aee5-f303a7e26883\")>,\n",
       " <selenium.webdriver.remote.webelement.WebElement (session=\"338cec4f18090bd865131a60b32a260b\", element=\"5701ca4c-f585-4584-b8d1-65506d41d8cc\")>,\n",
       " <selenium.webdriver.remote.webelement.WebElement (session=\"338cec4f18090bd865131a60b32a260b\", element=\"13eb5647-6394-4e85-b01c-2e153a2da3b4\")>,\n",
       " <selenium.webdriver.remote.webelement.WebElement (session=\"338cec4f18090bd865131a60b32a260b\", element=\"e5872b00-c4b5-408b-86e6-ffaa5e5f5e12\")>,\n",
       " <selenium.webdriver.remote.webelement.WebElement (session=\"338cec4f18090bd865131a60b32a260b\", element=\"ce525169-6800-4dfd-9e44-42c1c93e3822\")>,\n",
       " <selenium.webdriver.remote.webelement.WebElement (session=\"338cec4f18090bd865131a60b32a260b\", element=\"0fdec536-1b99-4098-a01d-3981468bfb02\")>,\n",
       " <selenium.webdriver.remote.webelement.WebElement (session=\"338cec4f18090bd865131a60b32a260b\", element=\"310f0664-db3d-4566-81b0-7f2c70b61330\")>,\n",
       " <selenium.webdriver.remote.webelement.WebElement (session=\"338cec4f18090bd865131a60b32a260b\", element=\"3362d1c1-939f-4cae-92ff-af9d613443ed\")>,\n",
       " <selenium.webdriver.remote.webelement.WebElement (session=\"338cec4f18090bd865131a60b32a260b\", element=\"0ab28a20-6c6c-45df-8050-2bb02016ee20\")>,\n",
       " <selenium.webdriver.remote.webelement.WebElement (session=\"338cec4f18090bd865131a60b32a260b\", element=\"046d43d3-94be-4c0a-a89f-abc62b3886e2\")>]"
      ]
     },
     "execution_count": 578,
     "metadata": {},
     "output_type": "execute_result"
    }
   ],
   "source": [
    "full_review_tags=driver.find_elements_by_xpath(\"//div[@class='t-ZTKy']\")\n",
    "full_review_tags[0:10]"
   ]
  },
  {
   "cell_type": "code",
   "execution_count": 579,
   "id": "9fd6b81a",
   "metadata": {
    "scrolled": true
   },
   "outputs": [
    {
     "data": {
      "text/plain": [
       "['The Best Phone for the Money\\n\\nThe iPhone 11 offers superb cameras, a more durable design and excellent battery life for an affordable price.\\n\\nCompelling ultra-wide camera\\nNew Night mode is excellent\\nLong battery life',\n",
       " 'Really satisfied with the Product I received... It’s totally genuine and the packaging was also really good so if ur planning to buy just go for it.',\n",
       " 'Great iPhone very snappy experience as apple kind. Upgraded from iPhone 7.\\nPros\\n-Camera top class\\n- Battery top performed\\n-Chipset no need to say as apple kind\\n-Security as you expect from apple\\n- Display super bright industry leading colour\\naccuracy and super responsive\\n-Build quality as expect from apple sturdy\\npremium durable beautiful stylish.\\n-Os most stable os in smartphone industry\\n\\nCons\\n-No 5G\\n-Display is not based on OLED technology\\n-Charger headphones and 1 apple stic...\\nREAD MORE',\n",
       " 'Amazing phone with great cameras and better battery which gives you the best performance. I just love the camera .',\n",
       " 'This is my first iOS phone. I am very happy with this product. Very much satisfied with this. I love this phone.',\n",
       " 'Previously I was using one plus 3t it was a great phone\\nAnd then I decided to upgrade I am stuck between Samsung s10 plus or iPhone 11\\nI have seen the specs and everything were good except the display it’s somewhere between 720-1080 and it’s not even an amoled it’s an LCD display\\nBut I decided to go with iPhone because I have never used an IOS device I have Been an android user from the past 9 years I ordered IPhone 11 (128gb) product red\\nMy experience after using 3 weeks\\n1. The delivery ...\\nREAD MORE',\n",
       " 'Amazing Powerful and Durable Gadget.\\n\\nI’m am very happy with the camera picture quality, Amazing face id unlocked in dark room, Strong battery with perfect screen size as you can carry easily in pocket. This is my third iPhone.\\n\\nI shifted from android Samsung Note series to iPhone because of the strong build quality and peace of mind for next 3-4 years.\\n\\nDon’t think to much just go for it and I suggest you to go for minimum 128gb variant or more 256gb.\\n\\nI’ve attached my puppy pics and no fi...\\nREAD MORE',\n",
       " 'What a camera .....just awesome ..you can feel this iPhone just awesome . Good for gaming also ...try pubg in hd it’s just wow',\n",
       " 'So far it’s been an AMAZING experience coming back to iOS after nearly a decade but it’s not as versatile as android though phone is sturdy dropped it accidentally a couple of times and nothing happened fortunately camera is awesome',\n",
       " 'i11 is worthy to buy, too much happy with the product. Thank u flipkart I received the item on time..loved it..']"
      ]
     },
     "execution_count": 579,
     "metadata": {},
     "output_type": "execute_result"
    }
   ],
   "source": [
    "for i in full_review_tags:\n",
    "    text=i.text\n",
    "    Full_review.append(text)\n",
    "Full_review[0:10]"
   ]
  },
  {
   "cell_type": "code",
   "execution_count": null,
   "id": "8cda38b6",
   "metadata": {},
   "outputs": [],
   "source": []
  }
 ],
 "metadata": {
  "kernelspec": {
   "display_name": "Python 3 (ipykernel)",
   "language": "python",
   "name": "python3"
  },
  "language_info": {
   "codemirror_mode": {
    "name": "ipython",
    "version": 3
   },
   "file_extension": ".py",
   "mimetype": "text/x-python",
   "name": "python",
   "nbconvert_exporter": "python",
   "pygments_lexer": "ipython3",
   "version": "3.9.7"
  }
 },
 "nbformat": 4,
 "nbformat_minor": 5
}
