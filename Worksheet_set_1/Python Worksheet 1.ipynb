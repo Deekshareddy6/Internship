{
 "cells": [
  {
   "cell_type": "code",
   "execution_count": 1,
   "id": "de4efbe1",
   "metadata": {},
   "outputs": [
    {
     "data": {
      "text/plain": [
       "0"
      ]
     },
     "execution_count": 1,
     "metadata": {},
     "output_type": "execute_result"
    }
   ],
   "source": [
    "2//3"
   ]
  },
  {
   "cell_type": "code",
   "execution_count": 2,
   "id": "c9c7bd42",
   "metadata": {},
   "outputs": [
    {
     "data": {
      "text/plain": [
       "24"
      ]
     },
     "execution_count": 2,
     "metadata": {},
     "output_type": "execute_result"
    }
   ],
   "source": [
    "6<<2"
   ]
  },
  {
   "cell_type": "code",
   "execution_count": 3,
   "id": "515b922a",
   "metadata": {},
   "outputs": [
    {
     "data": {
      "text/plain": [
       "2"
      ]
     },
     "execution_count": 3,
     "metadata": {},
     "output_type": "execute_result"
    }
   ],
   "source": [
    "6&2"
   ]
  },
  {
   "cell_type": "code",
   "execution_count": 4,
   "id": "30dd70bc",
   "metadata": {},
   "outputs": [
    {
     "data": {
      "text/plain": [
       "6"
      ]
     },
     "execution_count": 4,
     "metadata": {},
     "output_type": "execute_result"
    }
   ],
   "source": [
    "6|2"
   ]
  },
  {
   "cell_type": "markdown",
   "id": "9f4d9b16",
   "metadata": {},
   "source": [
    "# 11th answer"
   ]
  },
  {
   "cell_type": "code",
   "execution_count": 3,
   "id": "e2b5f911",
   "metadata": {},
   "outputs": [
    {
     "name": "stdout",
     "output_type": "stream",
     "text": [
      "Enter a number x: 7\n",
      "The factorial of 7 is 5040\n"
     ]
    }
   ],
   "source": [
    "x = int(input(\"Enter a number x: \"))    \n",
    "factorial = 1    \n",
    "if x < 0:    \n",
    "   print(\" Factorial does not exist for negative numbers\")    \n",
    "elif x == 0:    \n",
    "   print(\"The factorial of 0 is 1\")    \n",
    "else:    \n",
    "   for i in range(1,x + 1):    \n",
    "       factorial = factorial*i    \n",
    "   print(\"The factorial of\",x,\"is\",factorial) "
   ]
  },
  {
   "cell_type": "markdown",
   "id": "45d29a25",
   "metadata": {},
   "source": [
    "# 12th answer "
   ]
  },
  {
   "cell_type": "code",
   "execution_count": 6,
   "id": "dfe4b653",
   "metadata": {},
   "outputs": [
    {
     "name": "stdout",
     "output_type": "stream",
     "text": [
      "2 number is prime but not composite number\n",
      "3 number is prime but not composite number\n",
      "4 is not prime but composite number\n",
      "5 number is prime but not composite number\n",
      "6 is not prime but composite number\n",
      "7 number is prime but not composite number\n",
      "8 is not prime but composite number\n",
      "9 is not prime but composite number\n"
     ]
    }
   ],
   "source": [
    "for n in range(2,10):\n",
    "    for x in range (2,n):\n",
    "        if n%x==0:\n",
    "            print(n,\"is not prime but composite number\")\n",
    "            break\n",
    "    else:\n",
    "        print(n,\"number is prime but not composite number\")"
   ]
  },
  {
   "cell_type": "markdown",
   "id": "1b3a82f5",
   "metadata": {},
   "source": [
    "# 13th Answer "
   ]
  },
  {
   "cell_type": "code",
   "execution_count": 4,
   "id": "e46aba01",
   "metadata": {},
   "outputs": [
    {
     "name": "stdout",
     "output_type": "stream",
     "text": [
      "Please enter your own Text : civic\n",
      "Reverse Order :   civic\n",
      "This is a Palindrome String\n"
     ]
    }
   ],
   "source": [
    "string = input(\"Please enter your own Text : \")\n",
    "str1 = \"\"\n",
    "\n",
    "for i in string:\n",
    "    str1 = i + str1  \n",
    "print(\"Reverse Order :  \", str1)\n",
    "\n",
    "if(string == str1):\n",
    "   print(\"This is a Palindrome String\")\n",
    "else:\n",
    "   print(\"This is Not\")"
   ]
  },
  {
   "cell_type": "markdown",
   "id": "d03f3173",
   "metadata": {},
   "source": [
    "# 14th answer"
   ]
  },
  {
   "cell_type": "code",
   "execution_count": 6,
   "id": "65278e21",
   "metadata": {},
   "outputs": [
    {
     "name": "stdout",
     "output_type": "stream",
     "text": [
      "Enter base: 6\n",
      "Enter height: 9\n",
      "Enter angle: 60\n",
      "Hypotenuse = 10.816653826391969\n"
     ]
    }
   ],
   "source": [
    "import math\n",
    "\n",
    "a = float(input(\"Enter base: \"))\n",
    "b = float(input(\"Enter height: \"))\n",
    "x = float(input(\"Enter angle: \"))\n",
    "\n",
    "c = math.sqrt(a ** 2 + b ** 2)\n",
    "\n",
    "print(\"Hypotenuse =\", c)"
   ]
  },
  {
   "cell_type": "markdown",
   "id": "d3b2e26d",
   "metadata": {},
   "source": [
    "# 15th answer"
   ]
  },
  {
   "cell_type": "code",
   "execution_count": 8,
   "id": "35f0d3e2",
   "metadata": {},
   "outputs": [
    {
     "name": "stdout",
     "output_type": "stream",
     "text": [
      "Enter the string: pomegranate\n",
      "Please enter the char to find frequency of ta character\n",
      "a\n",
      "The frequency of the  a in the string is:  2\n"
     ]
    }
   ],
   "source": [
    "string=input(\"Enter the string: \")\n",
    "\n",
    "char=input(\"Please enter the char to find frequency of ta character\\n\")\n",
    "\n",
    "count=0\n",
    "\n",
    "for i in range(len(string)):\n",
    "\n",
    "    if(string[i]==char):\n",
    "\n",
    "        count=count+1\n",
    "\n",
    "print(\"The frequency of the \",char,\"in the string is: \",count)"
   ]
  },
  {
   "cell_type": "code",
   "execution_count": null,
   "id": "db3fbe1b",
   "metadata": {},
   "outputs": [],
   "source": []
  }
 ],
 "metadata": {
  "kernelspec": {
   "display_name": "Python 3 (ipykernel)",
   "language": "python",
   "name": "python3"
  },
  "language_info": {
   "codemirror_mode": {
    "name": "ipython",
    "version": 3
   },
   "file_extension": ".py",
   "mimetype": "text/x-python",
   "name": "python",
   "nbconvert_exporter": "python",
   "pygments_lexer": "ipython3",
   "version": "3.9.7"
  }
 },
 "nbformat": 4,
 "nbformat_minor": 5
}
